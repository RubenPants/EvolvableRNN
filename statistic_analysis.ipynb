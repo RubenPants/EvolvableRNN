{
 "cells": [
  {
   "cell_type": "markdown",
   "metadata": {
    "collapsed": true,
    "pycharm": {
     "name": "#%% md\n"
    }
   },
   "source": [
    "# Statistical Analysis"
   ]
  },
  {
   "cell_type": "markdown",
   "metadata": {},
   "source": [
    "This script performs a statistical analysis - more specifically the F-test / ANOVA - on the data obtained during simulations throughout the thesis. An F-test can compare the means of various groups and determine if they are equal by looking at their variances. This is done by **checking the variations between the groups compared to the variations within each group**.\n",
    "\n",
    "In this script, I'll try to prove that each of the given group's results (mean) is significantly different from those of the other populations.\n",
    "\n",
    "The null hypothesis is that all populations are equal to each other, which we try to reject. A rejection of the null hypothesis implies that at least one distinct population can be made. In other words, if one can reject the null hypothesis, this would mean that there are at least two group means that are statistically significantly different from each other.\n",
    "\n",
    "If the null hypothesis is correct, than all means of the groups are equal. This would result in a low F-score (close to one).\n",
    "\n",
    "Based on: \n",
    "* https://medium.com/@rrfd/f-tests-and-anovas-examples-with-the-iris-dataset-fe7caa3e21d0\n",
    "* https://machinelearningmastery.com/statistical-hypothesis-tests-in-python-cheat-sheet/"
   ]
  },
  {
   "cell_type": "code",
   "execution_count": 1,
   "metadata": {
    "pycharm": {
     "name": "#%%\n"
    }
   },
   "outputs": [],
   "source": [
    "from sklearn import datasets\n",
    "import pandas as pd\n",
    "import numpy as np\n",
    "import matplotlib.pyplot as plt\n",
    "import scipy.stats as stats\n",
    "import statsmodels.api as sm \n",
    "from statsmodels.formula.api import ols\n",
    "import statsmodels.stats.multitest as smm\n",
    "from utils.myutils import load_dict\n",
    "import seaborn as sns\n",
    "from scipy.interpolate import make_interp_spline\n",
    "from scipy.stats import kruskal, mannwhitneyu, ttest_ind, shapiro\n",
    "from utils.dictionary import *\n",
    "from scipy.interpolate import interp1d"
   ]
  },
  {
   "cell_type": "markdown",
   "metadata": {},
   "source": [
    "## Hyperparameters"
   ]
  },
  {
   "cell_type": "code",
   "execution_count": 2,
   "metadata": {},
   "outputs": [],
   "source": [
    "experiment = 2\n",
    "use_backup = True\n",
    "populations = ['NEAT', 'NEAT-GRU', 'NEAT-LSTM', 'NEAT-SRU', 'NEAT-SRU-S']  # NEAT, NEAT-GRU, NEAT-LSTM, NEAT-SRU, NEAT-SRU-S\n",
    "field = 'finished'  # finished, fitness, or score\n",
    "generation = 500"
   ]
  },
  {
   "cell_type": "markdown",
   "metadata": {},
   "source": [
    "## Load in the data\n",
    "\n",
    "It is assumed that the evaluation of the populations has already finished."
   ]
  },
  {
   "cell_type": "code",
   "execution_count": 3,
   "metadata": {},
   "outputs": [
    {
     "data": {
      "text/html": [
       "<div>\n",
       "<style scoped>\n",
       "    .dataframe tbody tr th:only-of-type {\n",
       "        vertical-align: middle;\n",
       "    }\n",
       "\n",
       "    .dataframe tbody tr th {\n",
       "        vertical-align: top;\n",
       "    }\n",
       "\n",
       "    .dataframe thead th {\n",
       "        text-align: right;\n",
       "    }\n",
       "</style>\n",
       "<table border=\"1\" class=\"dataframe\">\n",
       "  <thead>\n",
       "    <tr style=\"text-align: right;\">\n",
       "      <th></th>\n",
       "      <th>NEAT</th>\n",
       "      <th>NEAT-GRU</th>\n",
       "      <th>NEAT-LSTM</th>\n",
       "      <th>NEAT-SRU</th>\n",
       "      <th>NEAT-SRU-S</th>\n",
       "    </tr>\n",
       "  </thead>\n",
       "  <tbody>\n",
       "    <tr>\n",
       "      <th>0</th>\n",
       "      <td>0.1667</td>\n",
       "      <td>1.0000</td>\n",
       "      <td>0.5000</td>\n",
       "      <td>0.5278</td>\n",
       "      <td>0.4722</td>\n",
       "    </tr>\n",
       "    <tr>\n",
       "      <th>1</th>\n",
       "      <td>0.1111</td>\n",
       "      <td>0.4444</td>\n",
       "      <td>0.9167</td>\n",
       "      <td>0.4444</td>\n",
       "      <td>0.0833</td>\n",
       "    </tr>\n",
       "    <tr>\n",
       "      <th>2</th>\n",
       "      <td>0.4167</td>\n",
       "      <td>0.7222</td>\n",
       "      <td>0.4722</td>\n",
       "      <td>0.2778</td>\n",
       "      <td>0.5000</td>\n",
       "    </tr>\n",
       "    <tr>\n",
       "      <th>3</th>\n",
       "      <td>0.0556</td>\n",
       "      <td>0.9167</td>\n",
       "      <td>0.9444</td>\n",
       "      <td>0.1389</td>\n",
       "      <td>0.3889</td>\n",
       "    </tr>\n",
       "    <tr>\n",
       "      <th>4</th>\n",
       "      <td>0.0556</td>\n",
       "      <td>0.8056</td>\n",
       "      <td>0.5278</td>\n",
       "      <td>0.5000</td>\n",
       "      <td>0.2500</td>\n",
       "    </tr>\n",
       "  </tbody>\n",
       "</table>\n",
       "</div>"
      ],
      "text/plain": [
       "     NEAT  NEAT-GRU  NEAT-LSTM  NEAT-SRU  NEAT-SRU-S\n",
       "0  0.1667    1.0000     0.5000    0.5278      0.4722\n",
       "1  0.1111    0.4444     0.9167    0.4444      0.0833\n",
       "2  0.4167    0.7222     0.4722    0.2778      0.5000\n",
       "3  0.0556    0.9167     0.9444    0.1389      0.3889\n",
       "4  0.0556    0.8056     0.5278    0.5000      0.2500"
      ]
     },
     "execution_count": 3,
     "metadata": {},
     "output_type": "execute_result"
    }
   ],
   "source": [
    "data = []\n",
    "path = f\"population{'_backup' if use_backup else ''}/storage/experiment{experiment}/\"\n",
    "for pop in populations:\n",
    "    d = load_dict(f\"{path}{pop}/evaluation/{field}\")\n",
    "    data.append(d[str(generation)])\n",
    "df = pd.DataFrame(np.asarray(data).transpose(), columns=populations)\n",
    "df.head()"
   ]
  },
  {
   "cell_type": "code",
   "execution_count": 4,
   "metadata": {
    "pycharm": {
     "name": "#%%\n"
    }
   },
   "outputs": [
    {
     "data": {
      "text/plain": [
       "NEAT          0.126118\n",
       "NEAT-GRU      0.758338\n",
       "NEAT-LSTM     0.700558\n",
       "NEAT-SRU      0.398888\n",
       "NEAT-SRU-S    0.297772\n",
       "dtype: float64"
      ]
     },
     "execution_count": 4,
     "metadata": {},
     "output_type": "execute_result"
    }
   ],
   "source": [
    "df.mean()"
   ]
  },
  {
   "cell_type": "code",
   "execution_count": 5,
   "metadata": {},
   "outputs": [
    {
     "data": {
      "image/png": "[encoded data removed]",
      "text/plain": [
       "<Figure size 432x216 with 1 Axes>"
      ]
     },
     "metadata": {
      "needs_background": "light"
     },
     "output_type": "display_data"
    }
   ],
   "source": [
    "plt.figure(figsize=(6,3))\n",
    "df.boxplot()\n",
    "plt.ylabel(\"finished\")\n",
    "# plt.savefig(\"temp_boxplot_pure.png\", bbox_inches='tight', pad_inches=0.02)\n",
    "plt.show()\n",
    "plt.close()"
   ]
  },
  {
   "cell_type": "markdown",
   "metadata": {},
   "source": [
    "## Handle outliers"
   ]
  },
  {
   "cell_type": "code",
   "execution_count": 6,
   "metadata": {},
   "outputs": [
    {
     "data": {
      "text/plain": [
       "NEAT          0.055600\n",
       "NEAT-GRU      0.277800\n",
       "NEAT-LSTM     0.298575\n",
       "NEAT-SRU      0.194400\n",
       "NEAT-SRU-S    0.298575\n",
       "dtype: float64"
      ]
     },
     "execution_count": 6,
     "metadata": {},
     "output_type": "execute_result"
    }
   ],
   "source": [
    "Q1 = df.quantile(0.25)\n",
    "Q3 = df.quantile(0.75)\n",
    "IQR = Q3 - Q1\n",
    "IQR"
   ]
  },
  {
   "cell_type": "code",
   "execution_count": 7,
   "metadata": {},
   "outputs": [
    {
     "data": {
      "text/html": [
       "<div>\n",
       "<style scoped>\n",
       "    .dataframe tbody tr th:only-of-type {\n",
       "        vertical-align: middle;\n",
       "    }\n",
       "\n",
       "    .dataframe tbody tr th {\n",
       "        vertical-align: top;\n",
       "    }\n",
       "\n",
       "    .dataframe thead th {\n",
       "        text-align: right;\n",
       "    }\n",
       "</style>\n",
       "<table border=\"1\" class=\"dataframe\">\n",
       "  <thead>\n",
       "    <tr style=\"text-align: right;\">\n",
       "      <th></th>\n",
       "      <th>NEAT</th>\n",
       "      <th>NEAT-GRU</th>\n",
       "      <th>NEAT-LSTM</th>\n",
       "      <th>NEAT-SRU</th>\n",
       "      <th>NEAT-SRU-S</th>\n",
       "    </tr>\n",
       "  </thead>\n",
       "  <tbody>\n",
       "    <tr>\n",
       "      <th>0</th>\n",
       "      <td>0.1667</td>\n",
       "      <td>1.0000</td>\n",
       "      <td>0.5000</td>\n",
       "      <td>0.5278</td>\n",
       "      <td>0.4722</td>\n",
       "    </tr>\n",
       "    <tr>\n",
       "      <th>1</th>\n",
       "      <td>0.1111</td>\n",
       "      <td>0.4444</td>\n",
       "      <td>0.9167</td>\n",
       "      <td>0.4444</td>\n",
       "      <td>0.0833</td>\n",
       "    </tr>\n",
       "    <tr>\n",
       "      <th>2</th>\n",
       "      <td>NaN</td>\n",
       "      <td>0.7222</td>\n",
       "      <td>0.4722</td>\n",
       "      <td>0.2778</td>\n",
       "      <td>0.5000</td>\n",
       "    </tr>\n",
       "    <tr>\n",
       "      <th>3</th>\n",
       "      <td>0.0556</td>\n",
       "      <td>0.9167</td>\n",
       "      <td>0.9444</td>\n",
       "      <td>0.1389</td>\n",
       "      <td>0.3889</td>\n",
       "    </tr>\n",
       "    <tr>\n",
       "      <th>4</th>\n",
       "      <td>0.0556</td>\n",
       "      <td>0.8056</td>\n",
       "      <td>0.5278</td>\n",
       "      <td>0.5000</td>\n",
       "      <td>0.2500</td>\n",
       "    </tr>\n",
       "  </tbody>\n",
       "</table>\n",
       "</div>"
      ],
      "text/plain": [
       "     NEAT  NEAT-GRU  NEAT-LSTM  NEAT-SRU  NEAT-SRU-S\n",
       "0  0.1667    1.0000     0.5000    0.5278      0.4722\n",
       "1  0.1111    0.4444     0.9167    0.4444      0.0833\n",
       "2     NaN    0.7222     0.4722    0.2778      0.5000\n",
       "3  0.0556    0.9167     0.9444    0.1389      0.3889\n",
       "4  0.0556    0.8056     0.5278    0.5000      0.2500"
      ]
     },
     "execution_count": 7,
     "metadata": {},
     "output_type": "execute_result"
    }
   ],
   "source": [
    "# No normalisation\n",
    "# df_n = df\n",
    "\n",
    "# Normaized dataframes (without any outliers)\n",
    "df_n = df[(df >= (Q1 - 1.5 * IQR)) & (df <= (Q3 + 1.5 * IQR))]\n",
    "\n",
    "# Quantile dataframes (only values in the quantiles are kept)\n",
    "# df_n = df[(df >= Q1) & (df <= Q3)]\n",
    "\n",
    "df_n.head()"
   ]
  },
  {
   "cell_type": "code",
   "execution_count": 8,
   "metadata": {},
   "outputs": [
    {
     "data": {
      "image/png": "[encoded data removed]",
      "text/plain": [
       "<Figure size 432x216 with 1 Axes>"
      ]
     },
     "metadata": {
      "needs_background": "light"
     },
     "output_type": "display_data"
    }
   ],
   "source": [
    "plt.figure(figsize=(6,3))\n",
    "df_n.boxplot(whis=[0,100],  # Do not define outliers anymore\n",
    "             medianprops={'linewidth':3})\n",
    "plt.ylabel(\"finished\")\n",
    "# plt.savefig(\"temp_boxplot.png\", bbox_inches='tight', pad_inches=0.02)\n",
    "plt.show()\n",
    "plt.close()"
   ]
  },
  {
   "cell_type": "markdown",
   "metadata": {},
   "source": [
    "## Probability distribution\n",
    "\n",
    "Show how the probabilities for the given metric compare between populations."
   ]
  },
  {
   "cell_type": "code",
   "execution_count": 9,
   "metadata": {},
   "outputs": [
    {
     "data": {
      "image/png": "[encoded data removed]",
      "text/plain": [
       "<Figure size 576x180 with 1 Axes>"
      ]
     },
     "metadata": {
      "needs_background": "light"
     },
     "output_type": "display_data"
    }
   ],
   "source": [
    "# Put the data into bins\n",
    "bins = 10\n",
    "df_r = (df_n*bins).round()/bins\n",
    "\n",
    "# Show the probabilities of each population\n",
    "x = [i/bins for i in range(bins+1)]\n",
    "plt.figure(figsize=(8,2.5))\n",
    "for pop in populations:\n",
    "    y = [len(df_r[pop][df_r[pop] == i])/len(df) for i in x]\n",
    "#     plt.bar(x,y,width=0.05, label=pop, color=COLORS[pop])\n",
    "#     plt.plot(x,y, label=pop, color=COLORS[pop])\n",
    "    \n",
    "    x_new = np.linspace(0,1,100)\n",
    "    a_BSpline = interp1d(x,y,kind=\"quadratic\")\n",
    "    y_new = a_BSpline(x_new)\n",
    "    y_new = [i if i > 0.01 else -0.1 for i in y_new]\n",
    "    plt.plot(x_new, y_new, linewidth=2, label=pop, color=COLORS[pop])\n",
    "    \n",
    "leg = plt.legend(loc='upper center',\n",
    "                 bbox_to_anchor=(0.5, 1.18),\n",
    "                 fancybox=True,\n",
    "                 fontsize=8,\n",
    "                 ncol=len(populations))\n",
    "for line in leg.get_lines():\n",
    "    line.set_linewidth(4.0)\n",
    "plt.xlim(0,1)\n",
    "plt.ylim(0,1)\n",
    "plt.xlabel(\"finished\")\n",
    "plt.ylabel(\"probability\")\n",
    "# plt.savefig(f\"temp_prob_dist.png\", bbox_inches='tight', pad_inches=0.02)\n",
    "plt.show()\n",
    "plt.close()"
   ]
  },
  {
   "cell_type": "markdown",
   "metadata": {},
   "source": [
    "## Test for normality\n",
    "\n",
    "This part will test if the data we work with is normally distributed. If the distribution is not normal, an F-test should not be used."
   ]
  },
  {
   "cell_type": "code",
   "execution_count": 10,
   "metadata": {},
   "outputs": [
    {
     "name": "stdout",
     "output_type": "stream",
     "text": [
      "stat=0.887, p=0.000\n",
      "NEAT is probably not Gaussian (p=0.00037)\n",
      "stat=0.938, p=0.011\n",
      "NEAT-GRU is probably not Gaussian (p=0.01138)\n",
      "stat=0.922, p=0.003\n",
      "NEAT-LSTM is probably not Gaussian (p=0.00271)\n",
      "stat=0.971, p=0.258\n",
      "NEAT-SRU is probably Gaussian (p=0.25774)\n",
      "stat=0.939, p=0.013\n",
      "NEAT-SRU-S is probably not Gaussian (p=0.01268)\n"
     ]
    }
   ],
   "source": [
    "# Example of the Shapiro-Wilk Normality Test\n",
    "for pop in populations:\n",
    "    stat, p = shapiro(df_n[pop].dropna())\n",
    "    print('stat=%.3f, p=%.3f' % (stat, p))\n",
    "    if p > 0.05:\n",
    "        print(f'{pop} is probably Gaussian (p={p:.5f})')\n",
    "    else:\n",
    "        print(f'{pop} is probably not Gaussian (p={p:.5f})')"
   ]
  },
  {
   "cell_type": "code",
   "execution_count": 11,
   "metadata": {},
   "outputs": [
    {
     "data": {
      "image/png": "[encoded data removed]",
      "text/plain": [
       "<Figure size 432x288 with 1 Axes>"
      ]
     },
     "metadata": {
      "needs_background": "light"
     },
     "output_type": "display_data"
    },
    {
     "data": {
      "image/png": "[encoded data removed]",
      "text/plain": [
       "<Figure size 432x288 with 1 Axes>"
      ]
     },
     "metadata": {
      "needs_background": "light"
     },
     "output_type": "display_data"
    },
    {
     "data": {
      "image/png": "[encoded data removed]",
      "text/plain": [
       "<Figure size 432x288 with 1 Axes>"
      ]
     },
     "metadata": {
      "needs_background": "light"
     },
     "output_type": "display_data"
    },
    {
     "data": {
      "image/png": "[encoded data removed]",
      "text/plain": [
       "<Figure size 432x288 with 1 Axes>"
      ]
     },
     "metadata": {
      "needs_background": "light"
     },
     "output_type": "display_data"
    },
    {
     "data": {
      "image/png": "[encoded data removed]",
      "text/plain": [
       "<Figure size 432x288 with 1 Axes>"
      ]
     },
     "metadata": {
      "needs_background": "light"
     },
     "output_type": "display_data"
    }
   ],
   "source": [
    "sm.qqplot(df_n['NEAT'].dropna(), line ='s', fit=True) \n",
    "plt.title('NEAT')\n",
    "plt.show() \n",
    "sm.qqplot(df_n['NEAT-GRU'].dropna(), line ='s', fit=True) \n",
    "plt.title('NEAT-GRU')\n",
    "plt.show() \n",
    "sm.qqplot(df_n['NEAT-LSTM'].dropna(), line ='s', fit=True) \n",
    "plt.title('NEAT-LSTM')\n",
    "plt.show() \n",
    "sm.qqplot(df_n['NEAT-SRU'].dropna(), line ='s', fit=True) \n",
    "plt.title('NEAT-SRU')\n",
    "plt.show() \n",
    "sm.qqplot(df_n['NEAT-SRU-S'].dropna(), line ='s', fit=True) \n",
    "plt.title('NEAT-SRU-S')\n",
    "plt.show() "
   ]
  },
  {
   "cell_type": "markdown",
   "metadata": {},
   "source": [
    "## Statistical Hypothesis\n",
    "\n",
    "Do further research on the interpretation:\n",
    "* https://www.socscistatistics.com/tests/mannwhitney/\n",
    "* https://en.wikipedia.org/wiki/Mann%E2%80%93Whitney_U_test\n",
    "* https://en.wikipedia.org/wiki/Kruskal%E2%80%93Wallis_one-way_analysis_of_variance"
   ]
  },
  {
   "cell_type": "markdown",
   "metadata": {},
   "source": [
    "### Mann-Whitney U-test"
   ]
  },
  {
   "cell_type": "code",
   "execution_count": 26,
   "metadata": {},
   "outputs": [
    {
     "name": "stdout",
     "output_type": "stream",
     "text": [
      "NEAT vs NEAT-GRU -  p=3.9362221291938657e-17\n",
      "NEAT vs NEAT-LSTM -  p=3.9015164362711783e-17\n",
      "NEAT vs NEAT-SRU -  p=3.957860858939334e-16\n",
      "NEAT vs NEAT-SRU-S -  p=1.9316121429900152e-10\n",
      "NEAT-GRU vs NEAT-LSTM -  p=0.10948937017600198\n",
      "NEAT-GRU vs NEAT-SRU -  p=1.1367445604048274e-13\n",
      "NEAT-GRU vs NEAT-SRU-S -  p=1.0464142951357476e-15\n",
      "NEAT-LSTM vs NEAT-SRU -  p=1.4010047313616951e-12\n",
      "NEAT-LSTM vs NEAT-SRU-S -  p=9.450830145469254e-16\n",
      "NEAT-SRU vs NEAT-SRU-S -  p=0.0012795785694641514\n"
     ]
    }
   ],
   "source": [
    "for i in range(len(populations)):\n",
    "    pop1 = populations[i]\n",
    "    for j in range(i+1, len(populations)):\n",
    "        pop2 = populations[j]\n",
    "        stat, p = mannwhitneyu(df_n[pop1].dropna(), \n",
    "                               df_n[pop2].dropna(), \n",
    "                               use_continuity=False, \n",
    "                               alternative='two-sided')\n",
    "        print(f'{pop1} vs {pop2} -  p={p}')"
   ]
  },
  {
   "cell_type": "code",
   "execution_count": 12,
   "metadata": {},
   "outputs": [
    {
     "name": "stdout",
     "output_type": "stream",
     "text": [
      "stat=1481.500, p=0.10948937017600198\n",
      "Probably the same distribution\n"
     ]
    }
   ],
   "source": [
    "stat, p = mannwhitneyu(df_n['NEAT-GRU'].dropna(), df_n['NEAT-LSTM'].dropna(), use_continuity=False, alternative='two-sided')\n",
    "print(f'stat={stat:.3f}, p={p}')\n",
    "if p > 0.05:\n",
    "\tprint('Probably the same distribution')\n",
    "else:\n",
    "\tprint('Probably different distributions')"
   ]
  },
  {
   "cell_type": "code",
   "execution_count": 13,
   "metadata": {},
   "outputs": [
    {
     "name": "stdout",
     "output_type": "stream",
     "text": [
      "stat=2325.500, p=1.1367445604048274e-13\n",
      "Probably different distributions\n"
     ]
    }
   ],
   "source": [
    "stat, p = mannwhitneyu(df_n['NEAT-GRU'].dropna(), df_n['NEAT-SRU'].dropna(), use_continuity=False, alternative='two-sided')\n",
    "print(f'stat={stat:.3f}, p={p}')\n",
    "if p > 0.05:\n",
    "\tprint('Probably the same distribution')\n",
    "else:\n",
    "\tprint('Probably different distributions')"
   ]
  },
  {
   "cell_type": "code",
   "execution_count": 14,
   "metadata": {},
   "outputs": [
    {
     "name": "stdout",
     "output_type": "stream",
     "text": [
      "stat=1716.000, p=0.0012795785694641514\n",
      "Probably different distributions\n"
     ]
    }
   ],
   "source": [
    "stat, p = mannwhitneyu(df_n['NEAT-SRU'].dropna(), df_n['NEAT-SRU-S'].dropna(), use_continuity=False, alternative='two-sided')\n",
    "print(f'stat={stat:.3f}, p={p}')\n",
    "if p > 0.05:\n",
    "\tprint('Probably the same distribution')\n",
    "else:\n",
    "\tprint('Probably different distributions')"
   ]
  },
  {
   "cell_type": "code",
   "execution_count": 15,
   "metadata": {},
   "outputs": [
    {
     "name": "stdout",
     "output_type": "stream",
     "text": [
      "stat=1973.000, p=1.9316121429900152e-10\n",
      "Probably different distributions\n"
     ]
    }
   ],
   "source": [
    "stat, p = mannwhitneyu(df_n['NEAT-SRU-S'].dropna(), df_n['NEAT'].dropna(), use_continuity=False, alternative='two-sided')\n",
    "print(f'stat={stat:.3f}, p={p}')\n",
    "if p > 0.05:\n",
    "\tprint('Probably the same distribution')\n",
    "else:\n",
    "\tprint('Probably different distributions')"
   ]
  },
  {
   "cell_type": "markdown",
   "metadata": {},
   "source": [
    "### Kruskal test"
   ]
  },
  {
   "cell_type": "code",
   "execution_count": 16,
   "metadata": {},
   "outputs": [
    {
     "name": "stdout",
     "output_type": "stream",
     "text": [
      "stat=2.562, p=0.10948937017600191\n",
      "Probably the same distribution\n"
     ]
    }
   ],
   "source": [
    "stat, p = kruskal(df_n['NEAT-GRU'].dropna(), df_n['NEAT-LSTM'].dropna())\n",
    "print(f'stat={stat:.3f}, p={p}')\n",
    "if p > 0.05:\n",
    "\tprint('Probably the same distribution')\n",
    "else:\n",
    "\tprint('Probably different distributions')"
   ]
  },
  {
   "cell_type": "code",
   "execution_count": 17,
   "metadata": {},
   "outputs": [
    {
     "name": "stdout",
     "output_type": "stream",
     "text": [
      "stat=55.115, p=1.1367445604048318e-13\n",
      "Probably different distributions\n"
     ]
    }
   ],
   "source": [
    "stat, p = kruskal(df_n['NEAT-GRU'].dropna(), df_n['NEAT-SRU'].dropna())\n",
    "print(f'stat={stat:.3f}, p={p}')\n",
    "if p > 0.05:\n",
    "\tprint('Probably the same distribution')\n",
    "else:\n",
    "\tprint('Probably different distributions')"
   ]
  },
  {
   "cell_type": "code",
   "execution_count": 18,
   "metadata": {},
   "outputs": [
    {
     "name": "stdout",
     "output_type": "stream",
     "text": [
      "stat=10.372, p=0.0012795785694641785\n",
      "Probably different distributions\n"
     ]
    }
   ],
   "source": [
    "stat, p = kruskal(df_n['NEAT-SRU'].dropna(), df_n['NEAT-SRU-S'].dropna())\n",
    "print(f'stat={stat:.3f}, p={p}')\n",
    "if p > 0.05:\n",
    "\tprint('Probably the same distribution')\n",
    "else:\n",
    "\tprint('Probably different distributions')"
   ]
  },
  {
   "cell_type": "code",
   "execution_count": 19,
   "metadata": {},
   "outputs": [
    {
     "name": "stdout",
     "output_type": "stream",
     "text": [
      "stat=40.535, p=1.931612142990067e-10\n",
      "Probably different distributions\n"
     ]
    }
   ],
   "source": [
    "stat, p = kruskal(df_n['NEAT-SRU-S'].dropna(), df_n['NEAT'].dropna())\n",
    "print(f'stat={stat:.3f}, p={p}')\n",
    "if p > 0.05:\n",
    "\tprint('Probably the same distribution')\n",
    "else:\n",
    "\tprint('Probably different distributions')"
   ]
  },
  {
   "cell_type": "markdown",
   "metadata": {},
   "source": [
    "## T-test\n",
    "\n",
    "May only be done if normally distributed!"
   ]
  },
  {
   "cell_type": "code",
   "execution_count": 20,
   "metadata": {},
   "outputs": [
    {
     "name": "stdout",
     "output_type": "stream",
     "text": [
      "stat=-1.514, p=0.13334625693969196\n",
      "Probably the same distribution\n"
     ]
    }
   ],
   "source": [
    "stat, p = ttest_ind(df_n['NEAT-LSTM'].dropna(), df_n['NEAT-GRU'].dropna())\n",
    "print(f'stat={stat:.3f}, p={p}')\n",
    "if p > 0.05:\n",
    "\tprint('Probably the same distribution')\n",
    "else:\n",
    "\tprint('Probably different distributions')"
   ]
  },
  {
   "cell_type": "code",
   "execution_count": 21,
   "metadata": {},
   "outputs": [
    {
     "name": "stdout",
     "output_type": "stream",
     "text": [
      "stat=10.883, p=1.485357180274381e-18\n",
      "Probably different distributions\n"
     ]
    }
   ],
   "source": [
    "stat, p = ttest_ind(df_n['NEAT-GRU'].dropna(), df_n['NEAT-SRU'].dropna())\n",
    "print(f'stat={stat:.3f}, p={p}')\n",
    "if p > 0.05:\n",
    "\tprint('Probably the same distribution')\n",
    "else:\n",
    "\tprint('Probably different distributions')"
   ]
  },
  {
   "cell_type": "code",
   "execution_count": 22,
   "metadata": {},
   "outputs": [
    {
     "name": "stdout",
     "output_type": "stream",
     "text": [
      "stat=3.568, p=0.0005579081938367526\n",
      "Probably different distributions\n"
     ]
    }
   ],
   "source": [
    "stat, p = ttest_ind(df_n['NEAT-SRU'].dropna(), df_n['NEAT-SRU-S'].dropna())\n",
    "print(f'stat={stat:.3f}, p={p}')\n",
    "if p > 0.05:\n",
    "\tprint('Probably the same distribution')\n",
    "else:\n",
    "\tprint('Probably different distributions')"
   ]
  },
  {
   "cell_type": "code",
   "execution_count": 23,
   "metadata": {},
   "outputs": [
    {
     "name": "stdout",
     "output_type": "stream",
     "text": [
      "stat=8.310, p=7.607813355182622e-13\n",
      "Probably different distributions\n"
     ]
    }
   ],
   "source": [
    "stat, p = ttest_ind(df_n['NEAT-SRU-S'].dropna(), df_n['NEAT'].dropna())\n",
    "print(f'stat={stat:.3f}, p={p}')\n",
    "if p > 0.05:\n",
    "\tprint('Probably the same distribution')\n",
    "else:\n",
    "\tprint('Probably different distributions')"
   ]
  },
  {
   "cell_type": "code",
   "execution_count": null,
   "metadata": {},
   "outputs": [],
   "source": []
  }
 ],
 "metadata": {
  "hide_input": false,
  "kernelspec": {
   "display_name": "Python 3",
   "language": "python",
   "name": "python3"
  },
  "language_info": {
   "codemirror_mode": {
    "name": "ipython",
    "version": 3
   },
   "file_extension": ".py",
   "mimetype": "text/x-python",
   "name": "python",
   "nbconvert_exporter": "python",
   "pygments_lexer": "ipython3",
   "version": "3.7.5"
  },
  "pycharm": {
   "stem_cell": {
    "cell_type": "raw",
    "metadata": {
     "collapsed": false
    },
    "source": []
   }
  },
  "toc": {
   "base_numbering": 1,
   "nav_menu": {},
   "number_sections": true,
   "sideBar": true,
   "skip_h1_title": false,
   "title_cell": "Table of Contents",
   "title_sidebar": "Contents",
   "toc_cell": false,
   "toc_position": {},
   "toc_section_display": true,
   "toc_window_display": false
  }
 },
 "nbformat": 4,
 "nbformat_minor": 1
}
