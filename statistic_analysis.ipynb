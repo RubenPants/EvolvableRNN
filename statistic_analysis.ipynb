{
 "cells": [
  {
   "cell_type": "markdown",
   "metadata": {
    "collapsed": true,
    "pycharm": {
     "name": "#%% md\n"
    }
   },
   "source": [
    "# Statistical Analysis"
   ]
  },
  {
   "cell_type": "markdown",
   "metadata": {},
   "source": [
    "This script performs a statistical analysis - more specifically the F-test / ANOVA - on the data obtained during simulations throughout the thesis. An F-test can compare the means of various groups and determine if they are equal by looking at their variances. This is done by **checking the variations between the groups compared to the variations within each group**.\n",
    "\n",
    "In this script, I'll try to prove that each of the given group's results (mean) is significantly different from those of the other populations.\n",
    "\n",
    "The null hypothesis is that all populations are equal to each other, which we try to reject. A rejection of the null hypothesis implies that at least one distinct population can be made. In other words, if one can reject the null hypothesis, this would mean that there are at least two group means that are statistically significantly different from each other.\n",
    "\n",
    "If the null hypothesis is correct, than all means of the groups are equal. This would result in a low F-score (close to one).\n",
    "\n",
    "Based on: \n",
    "* https://medium.com/@rrfd/f-tests-and-anovas-examples-with-the-iris-dataset-fe7caa3e21d0\n",
    "* https://machinelearningmastery.com/statistical-hypothesis-tests-in-python-cheat-sheet/"
   ]
  },
  {
   "cell_type": "code",
   "execution_count": 1,
   "metadata": {
    "pycharm": {
     "name": "#%%\n"
    }
   },
   "outputs": [],
   "source": [
    "from sklearn import datasets\n",
    "import pandas as pd\n",
    "import numpy as np\n",
    "import matplotlib.pyplot as plt\n",
    "import scipy.stats as stats\n",
    "import statsmodels.api as sm \n",
    "from statsmodels.formula.api import ols\n",
    "import statsmodels.stats.multitest as smm\n",
    "from utils.myutils import load_dict\n",
    "import seaborn as sns\n",
    "from scipy.interpolate import make_interp_spline\n",
    "from scipy.stats import kruskal, mannwhitneyu, ttest_ind, shapiro\n",
    "from utils.dictionary import *\n",
    "from scipy.interpolate import interp1d"
   ]
  },
  {
   "cell_type": "markdown",
   "metadata": {},
   "source": [
    "## Hyperparameters"
   ]
  },
  {
   "cell_type": "code",
   "execution_count": 2,
   "metadata": {},
   "outputs": [],
   "source": [
    "experiment = 7\n",
    "use_backup = True\n",
    "populations = ['NEAT', 'NEAT-GRU', 'NEAT-LSTM', 'NEAT-SRU', 'NEAT-SRU-S']  # Experiment 1 - 3\n",
    "populations = ['default', 'connection']  # Experiment 7\n",
    "field = 'fitness'  # finished, fitness, or score\n",
    "generation = 100"
   ]
  },
  {
   "cell_type": "markdown",
   "metadata": {},
   "source": [
    "## Load in the data\n",
    "\n",
    "It is assumed that the evaluation of the populations has already finished."
   ]
  },
  {
   "cell_type": "code",
   "execution_count": 5,
   "metadata": {},
   "outputs": [
    {
     "data": {
      "text/html": [
       "<div>\n",
       "<style scoped>\n",
       "    .dataframe tbody tr th:only-of-type {\n",
       "        vertical-align: middle;\n",
       "    }\n",
       "\n",
       "    .dataframe tbody tr th {\n",
       "        vertical-align: top;\n",
       "    }\n",
       "\n",
       "    .dataframe thead th {\n",
       "        text-align: right;\n",
       "    }\n",
       "</style>\n",
       "<table border=\"1\" class=\"dataframe\">\n",
       "  <thead>\n",
       "    <tr style=\"text-align: right;\">\n",
       "      <th></th>\n",
       "      <th>default</th>\n",
       "      <th>connection</th>\n",
       "    </tr>\n",
       "  </thead>\n",
       "  <tbody>\n",
       "    <tr>\n",
       "      <th>0</th>\n",
       "      <td>3.916406</td>\n",
       "      <td>4.365437</td>\n",
       "    </tr>\n",
       "    <tr>\n",
       "      <th>1</th>\n",
       "      <td>4.351951</td>\n",
       "      <td>4.204826</td>\n",
       "    </tr>\n",
       "    <tr>\n",
       "      <th>2</th>\n",
       "      <td>4.233594</td>\n",
       "      <td>4.796004</td>\n",
       "    </tr>\n",
       "    <tr>\n",
       "      <th>3</th>\n",
       "      <td>4.513909</td>\n",
       "      <td>4.327338</td>\n",
       "    </tr>\n",
       "    <tr>\n",
       "      <th>4</th>\n",
       "      <td>4.425533</td>\n",
       "      <td>3.809503</td>\n",
       "    </tr>\n",
       "  </tbody>\n",
       "</table>\n",
       "</div>"
      ],
      "text/plain": [
       "    default  connection\n",
       "0  3.916406    4.365437\n",
       "1  4.351951    4.204826\n",
       "2  4.233594    4.796004\n",
       "3  4.513909    4.327338\n",
       "4  4.425533    3.809503"
      ]
     },
     "execution_count": 5,
     "metadata": {},
     "output_type": "execute_result"
    }
   ],
   "source": [
    "data = []\n",
    "path = f\"population{'_backup' if use_backup else ''}/storage/experiment{experiment}/\"\n",
    "for pop in populations:\n",
    "    d = load_dict(f\"{path}{pop}/evaluation/{field}\")\n",
    "    data.append(d[str(generation)])\n",
    "df = pd.DataFrame(np.asarray(data).transpose(), columns=populations)\n",
    "df.head()"
   ]
  },
  {
   "cell_type": "code",
   "execution_count": 6,
   "metadata": {
    "pycharm": {
     "name": "#%%\n"
    }
   },
   "outputs": [
    {
     "data": {
      "text/plain": [
       "default       4.323950\n",
       "connection    4.484277\n",
       "dtype: float64"
      ]
     },
     "execution_count": 6,
     "metadata": {},
     "output_type": "execute_result"
    }
   ],
   "source": [
    "df.mean()"
   ]
  },
  {
   "cell_type": "code",
   "execution_count": 11,
   "metadata": {},
   "outputs": [
    {
     "data": {
      "image/png": "[encoded data removed]",
      "text/plain": [
       "<Figure size 432x216 with 1 Axes>"
      ]
     },
     "metadata": {
      "needs_background": "light"
     },
     "output_type": "display_data"
    }
   ],
   "source": [
    "plt.figure(figsize=(6,3))\n",
    "df.boxplot()\n",
    "plt.ylabel(field)\n",
    "# plt.savefig(\"temp_boxplot_pure.png\", bbox_inches='tight', pad_inches=0.02)\n",
    "plt.show()\n",
    "plt.close()"
   ]
  },
  {
   "cell_type": "markdown",
   "metadata": {},
   "source": [
    "## Handle outliers"
   ]
  },
  {
   "cell_type": "code",
   "execution_count": 8,
   "metadata": {},
   "outputs": [
    {
     "data": {
      "text/plain": [
       "default       0.467946\n",
       "connection    0.570861\n",
       "dtype: float64"
      ]
     },
     "execution_count": 8,
     "metadata": {},
     "output_type": "execute_result"
    }
   ],
   "source": [
    "Q1 = df.quantile(0.25)\n",
    "Q3 = df.quantile(0.75)\n",
    "IQR = Q3 - Q1\n",
    "IQR"
   ]
  },
  {
   "cell_type": "code",
   "execution_count": 9,
   "metadata": {},
   "outputs": [
    {
     "data": {
      "text/html": [
       "<div>\n",
       "<style scoped>\n",
       "    .dataframe tbody tr th:only-of-type {\n",
       "        vertical-align: middle;\n",
       "    }\n",
       "\n",
       "    .dataframe tbody tr th {\n",
       "        vertical-align: top;\n",
       "    }\n",
       "\n",
       "    .dataframe thead th {\n",
       "        text-align: right;\n",
       "    }\n",
       "</style>\n",
       "<table border=\"1\" class=\"dataframe\">\n",
       "  <thead>\n",
       "    <tr style=\"text-align: right;\">\n",
       "      <th></th>\n",
       "      <th>default</th>\n",
       "      <th>connection</th>\n",
       "    </tr>\n",
       "  </thead>\n",
       "  <tbody>\n",
       "    <tr>\n",
       "      <th>0</th>\n",
       "      <td>3.916406</td>\n",
       "      <td>4.365437</td>\n",
       "    </tr>\n",
       "    <tr>\n",
       "      <th>1</th>\n",
       "      <td>4.351951</td>\n",
       "      <td>4.204826</td>\n",
       "    </tr>\n",
       "    <tr>\n",
       "      <th>2</th>\n",
       "      <td>4.233594</td>\n",
       "      <td>4.796004</td>\n",
       "    </tr>\n",
       "    <tr>\n",
       "      <th>3</th>\n",
       "      <td>4.513909</td>\n",
       "      <td>4.327338</td>\n",
       "    </tr>\n",
       "    <tr>\n",
       "      <th>4</th>\n",
       "      <td>4.425533</td>\n",
       "      <td>3.809503</td>\n",
       "    </tr>\n",
       "  </tbody>\n",
       "</table>\n",
       "</div>"
      ],
      "text/plain": [
       "    default  connection\n",
       "0  3.916406    4.365437\n",
       "1  4.351951    4.204826\n",
       "2  4.233594    4.796004\n",
       "3  4.513909    4.327338\n",
       "4  4.425533    3.809503"
      ]
     },
     "execution_count": 9,
     "metadata": {},
     "output_type": "execute_result"
    }
   ],
   "source": [
    "# No normalisation\n",
    "# df_n = df\n",
    "\n",
    "# Normaized dataframes (without any outliers)\n",
    "df_n = df[(df >= (Q1 - 1.5 * IQR)) & (df <= (Q3 + 1.5 * IQR))]\n",
    "\n",
    "# Quantile dataframes (only values in the quantiles are kept)\n",
    "# df_n = df[(df >= Q1) & (df <= Q3)]\n",
    "\n",
    "df_n.head()"
   ]
  },
  {
   "cell_type": "code",
   "execution_count": 14,
   "metadata": {},
   "outputs": [
    {
     "data": {
      "image/png": "[encoded data removed]",
      "text/plain": [
       "<Figure size 432x144 with 1 Axes>"
      ]
     },
     "metadata": {
      "needs_background": "light"
     },
     "output_type": "display_data"
    }
   ],
   "source": [
    "plt.figure(figsize=(6,2))\n",
    "df_n.boxplot(whis=[0,100],  # Do not define outliers anymore\n",
    "             medianprops={'linewidth':3})\n",
    "plt.ylabel(field)\n",
    "if field in ['finished']:\n",
    "    plt.ylim(0,1.05)\n",
    "#plt.savefig(\"temp_boxplot.png\", bbox_inches='tight', pad_inches=0.02)\n",
    "plt.savefig(\"delete_me/temp_boxplot.eps\", format='eps', bbox_inches='tight', pad_inches=0.02)\n",
    "plt.show()\n",
    "plt.close()"
   ]
  },
  {
   "cell_type": "markdown",
   "metadata": {},
   "source": [
    "## Probability distribution\n",
    "\n",
    "Show how the probabilities for the given metric compare between populations."
   ]
  },
  {
   "cell_type": "code",
   "execution_count": 18,
   "metadata": {},
   "outputs": [
    {
     "data": {
      "image/png": "[encoded data removed]",
      "text/plain": [
       "<Figure size 576x180 with 1 Axes>"
      ]
     },
     "metadata": {
      "needs_background": "light"
     },
     "output_type": "display_data"
    }
   ],
   "source": [
    "# Put the data into bins\n",
    "bins = 10\n",
    "df_r = (df_n*bins).round()/bins\n",
    "\n",
    "# Show the probabilities of each population\n",
    "x = [i/bins for i in range(bins+1)]\n",
    "plt.figure(figsize=(8,2.5))\n",
    "for pop in populations:\n",
    "    y = [len(df_r[pop][df_r[pop] == i])/len(df) for i in x]\n",
    "#     plt.bar(x,y,width=0.05, label=pop, color=COLORS[pop])\n",
    "#     plt.plot(x,y, label=pop, color=COLORS[pop])\n",
    "    \n",
    "    x_new = np.linspace(0,1,100)\n",
    "    a_BSpline = interp1d(x,y,kind=\"quadratic\")\n",
    "    y_new = a_BSpline(x_new)\n",
    "    y_new = [i if i > 0.01 else -0.1 for i in y_new]\n",
    "    plt.plot(x_new, y_new, linewidth=2, label=pop, color=COLORS[pop])\n",
    "    \n",
    "leg = plt.legend(loc='upper center',\n",
    "                 bbox_to_anchor=(0.5, 1.18),\n",
    "                 fancybox=True,\n",
    "                 fontsize=8,\n",
    "                 ncol=len(populations))\n",
    "for line in leg.get_lines():\n",
    "    line.set_linewidth(4.0)\n",
    "plt.xlim(0,1)\n",
    "plt.ylim(0,1)\n",
    "plt.xlabel(field)\n",
    "plt.ylabel(\"probability\")\n",
    "# plt.savefig(f\"temp_prob_dist.png\", bbox_inches='tight', pad_inches=0.02)\n",
    "plt.show()\n",
    "plt.close()"
   ]
  },
  {
   "cell_type": "markdown",
   "metadata": {},
   "source": [
    "## Test for normality\n",
    "\n",
    "This part will test if the data we work with is normally distributed. If the distribution is not normal, an F-test should not be used."
   ]
  },
  {
   "cell_type": "code",
   "execution_count": 19,
   "metadata": {},
   "outputs": [
    {
     "name": "stdout",
     "output_type": "stream",
     "text": [
      "stat=0.980, p=0.858\n",
      "default is probably Gaussian (p=0.85815)\n",
      "stat=0.963, p=0.389\n",
      "connection is probably Gaussian (p=0.38903)\n"
     ]
    }
   ],
   "source": [
    "# Example of the Shapiro-Wilk Normality Test\n",
    "for pop in populations:\n",
    "    stat, p = shapiro(df_n[pop].dropna())\n",
    "    print('stat=%.3f, p=%.3f' % (stat, p))\n",
    "    if p > 0.05:\n",
    "        print(f'{pop} is probably Gaussian (p={p:.5f})')\n",
    "    else:\n",
    "        print(f'{pop} is probably not Gaussian (p={p:.5f})')"
   ]
  },
  {
   "cell_type": "code",
   "execution_count": 21,
   "metadata": {},
   "outputs": [
    {
     "data": {
      "image/png": "[encoded data removed]",
      "text/plain": [
       "<Figure size 432x288 with 1 Axes>"
      ]
     },
     "metadata": {
      "needs_background": "light"
     },
     "output_type": "display_data"
    },
    {
     "data": {
      "image/png": "[encoded data removed]",
      "text/plain": [
       "<Figure size 432x288 with 1 Axes>"
      ]
     },
     "metadata": {
      "needs_background": "light"
     },
     "output_type": "display_data"
    }
   ],
   "source": [
    "for p in populations:\n",
    "    sm.qqplot(df_n[p].dropna(), line ='s', fit=True) \n",
    "    plt.title(p)\n",
    "    plt.show() "
   ]
  },
  {
   "cell_type": "markdown",
   "metadata": {},
   "source": [
    "## Statistical Hypothesis\n",
    "\n",
    "Do further research on the interpretation:\n",
    "* https://www.socscistatistics.com/tests/mannwhitney/\n",
    "* https://en.wikipedia.org/wiki/Mann%E2%80%93Whitney_U_test\n",
    "* https://en.wikipedia.org/wiki/Kruskal%E2%80%93Wallis_one-way_analysis_of_variance"
   ]
  },
  {
   "cell_type": "markdown",
   "metadata": {},
   "source": [
    "### Mann-Whitney U-test"
   ]
  },
  {
   "cell_type": "code",
   "execution_count": 22,
   "metadata": {},
   "outputs": [
    {
     "name": "stdout",
     "output_type": "stream",
     "text": [
      "default vs connection -  p=0.27071970359956155\n"
     ]
    }
   ],
   "source": [
    "for i in range(len(populations)):\n",
    "    pop1 = populations[i]\n",
    "    for j in range(i+1, len(populations)):\n",
    "        pop2 = populations[j]\n",
    "        stat, p = mannwhitneyu(df_n[pop1].dropna(), \n",
    "                               df_n[pop2].dropna(), \n",
    "                               use_continuity=False, \n",
    "                               alternative='two-sided')\n",
    "        print(f'{pop1} vs {pop2} -  p={p}')"
   ]
  },
  {
   "cell_type": "markdown",
   "metadata": {},
   "source": [
    "### Kruskal test"
   ]
  },
  {
   "cell_type": "code",
   "execution_count": 23,
   "metadata": {},
   "outputs": [
    {
     "name": "stdout",
     "output_type": "stream",
     "text": [
      "default vs connection -  p=0.2707197035995591\n"
     ]
    }
   ],
   "source": [
    "for i in range(len(populations)):\n",
    "    pop1 = populations[i]\n",
    "    for j in range(i+1, len(populations)):\n",
    "        pop2 = populations[j]\n",
    "        stat, p = kruskal(df_n[pop1].dropna(), \n",
    "                          df_n[pop2].dropna())\n",
    "        print(f'{pop1} vs {pop2} -  p={p}')"
   ]
  },
  {
   "cell_type": "markdown",
   "metadata": {},
   "source": [
    "## T-test\n",
    "\n",
    "May only be done if normally distributed!"
   ]
  },
  {
   "cell_type": "code",
   "execution_count": 24,
   "metadata": {},
   "outputs": [
    {
     "name": "stdout",
     "output_type": "stream",
     "text": [
      "default vs connection -  p=0.17039964763425175\n"
     ]
    }
   ],
   "source": [
    "for i in range(len(populations)):\n",
    "    pop1 = populations[i]\n",
    "    for j in range(i+1, len(populations)):\n",
    "        pop2 = populations[j]\n",
    "        stat, p = ttest_ind(df_n[pop1].dropna(), \n",
    "                            df_n[pop2].dropna())\n",
    "        print(f'{pop1} vs {pop2} -  p={p}')"
   ]
  },
  {
   "cell_type": "code",
   "execution_count": null,
   "metadata": {},
   "outputs": [],
   "source": []
  }
 ],
 "metadata": {
  "hide_input": false,
  "kernelspec": {
   "display_name": "Python 3",
   "language": "python",
   "name": "python3"
  },
  "language_info": {
   "codemirror_mode": {
    "name": "ipython",
    "version": 3
   },
   "file_extension": ".py",
   "mimetype": "text/x-python",
   "name": "python",
   "nbconvert_exporter": "python",
   "pygments_lexer": "ipython3",
   "version": "3.7.5"
  },
  "pycharm": {
   "stem_cell": {
    "cell_type": "raw",
    "metadata": {
     "collapsed": false
    },
    "source": []
   }
  },
  "toc": {
   "base_numbering": 1,
   "nav_menu": {},
   "number_sections": true,
   "sideBar": true,
   "skip_h1_title": false,
   "title_cell": "Table of Contents",
   "title_sidebar": "Contents",
   "toc_cell": false,
   "toc_position": {},
   "toc_section_display": true,
   "toc_window_display": true
  }
 },
 "nbformat": 4,
 "nbformat_minor": 1
}
