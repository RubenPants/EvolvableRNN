{
 "cells": [
  {
   "cell_type": "markdown",
   "metadata": {
    "collapsed": true,
    "pycharm": {
     "name": "#%% md\n"
    }
   },
   "source": [
    "# Statistical Analysis"
   ]
  },
  {
   "cell_type": "markdown",
   "metadata": {},
   "source": [
    "This script performs a statistical analysis - more specifically the F-test / ANOVA - on the data obtained during simulations throughout the thesis. An F-test can compare the means of various groups and determine if they are equal by looking at their variances. This is done by **checking the variations between the groups compared to the variations within each group**.\n",
    "\n",
    "In this script, I'll try to prove that each of the given group's results (mean) is significantly different from those of the other populations.\n",
    "\n",
    "The null hypothesis is that all populations are equal to each other, which we try to reject. A rejection of the null hypothesis implies that at least one distinct population can be made. In other words, if one can reject the null hypothesis, this would mean that there are at least two group means that are statistically significantly different from each other.\n",
    "\n",
    "If the null hypothesis is correct, than all means of the groups are equal. This would result in a low F-score (close to one).\n",
    "\n",
    "Based on: \n",
    "* https://medium.com/@rrfd/f-tests-and-anovas-examples-with-the-iris-dataset-fe7caa3e21d0\n",
    "* https://machinelearningmastery.com/statistical-hypothesis-tests-in-python-cheat-sheet/"
   ]
  },
  {
   "cell_type": "code",
   "execution_count": 1,
   "metadata": {
    "pycharm": {
     "name": "#%%\n"
    }
   },
   "outputs": [],
   "source": [
    "from sklearn import datasets\n",
    "import pandas as pd\n",
    "import numpy as np\n",
    "import matplotlib.pyplot as plt\n",
    "import scipy.stats as stats\n",
    "import statsmodels.api as sm \n",
    "from statsmodels.formula.api import ols\n",
    "import statsmodels.stats.multitest as smm\n",
    "from utils.myutils import load_dict\n",
    "from scipy.stats import ttest_ind\n",
    "import seaborn as sns\n",
    "from scipy.interpolate import make_interp_spline"
   ]
  },
  {
   "cell_type": "markdown",
   "metadata": {},
   "source": [
    "## Hyperparameters"
   ]
  },
  {
   "cell_type": "code",
   "execution_count": 2,
   "metadata": {},
   "outputs": [],
   "source": [
    "experiment = 1\n",
    "use_backup = True\n",
    "populations = ['NEAT', 'NEAT-GRU', 'NEAT-LSTM', 'NEAT-SRU', 'NEAT-SRU-S']  # NEAT, NEAT-GRU, NEAT-LSTM, NEAT-SRU, NEAT-SRU-S\n",
    "field = 'finished'  # finished, fitness, or score\n",
    "generation = 500"
   ]
  },
  {
   "cell_type": "markdown",
   "metadata": {},
   "source": [
    "## Load in the data\n",
    "\n",
    "It is assumed that the evaluation of the populations has already finished."
   ]
  },
  {
   "cell_type": "code",
   "execution_count": 3,
   "metadata": {},
   "outputs": [
    {
     "data": {
      "text/html": [
       "<div>\n",
       "<style scoped>\n",
       "    .dataframe tbody tr th:only-of-type {\n",
       "        vertical-align: middle;\n",
       "    }\n",
       "\n",
       "    .dataframe tbody tr th {\n",
       "        vertical-align: top;\n",
       "    }\n",
       "\n",
       "    .dataframe thead th {\n",
       "        text-align: right;\n",
       "    }\n",
       "</style>\n",
       "<table border=\"1\" class=\"dataframe\">\n",
       "  <thead>\n",
       "    <tr style=\"text-align: right;\">\n",
       "      <th></th>\n",
       "      <th>NEAT</th>\n",
       "      <th>NEAT-GRU</th>\n",
       "      <th>NEAT-LSTM</th>\n",
       "      <th>NEAT-SRU</th>\n",
       "      <th>NEAT-SRU-S</th>\n",
       "    </tr>\n",
       "  </thead>\n",
       "  <tbody>\n",
       "    <tr>\n",
       "      <th>0</th>\n",
       "      <td>0.25</td>\n",
       "      <td>1.0</td>\n",
       "      <td>1.0</td>\n",
       "      <td>0.90</td>\n",
       "      <td>0.70</td>\n",
       "    </tr>\n",
       "    <tr>\n",
       "      <th>1</th>\n",
       "      <td>0.30</td>\n",
       "      <td>1.0</td>\n",
       "      <td>1.0</td>\n",
       "      <td>0.60</td>\n",
       "      <td>0.15</td>\n",
       "    </tr>\n",
       "    <tr>\n",
       "      <th>2</th>\n",
       "      <td>0.75</td>\n",
       "      <td>1.0</td>\n",
       "      <td>1.0</td>\n",
       "      <td>0.95</td>\n",
       "      <td>0.95</td>\n",
       "    </tr>\n",
       "    <tr>\n",
       "      <th>3</th>\n",
       "      <td>0.15</td>\n",
       "      <td>1.0</td>\n",
       "      <td>1.0</td>\n",
       "      <td>0.40</td>\n",
       "      <td>0.65</td>\n",
       "    </tr>\n",
       "    <tr>\n",
       "      <th>4</th>\n",
       "      <td>0.15</td>\n",
       "      <td>1.0</td>\n",
       "      <td>1.0</td>\n",
       "      <td>1.00</td>\n",
       "      <td>0.50</td>\n",
       "    </tr>\n",
       "  </tbody>\n",
       "</table>\n",
       "</div>"
      ],
      "text/plain": [
       "   NEAT  NEAT-GRU  NEAT-LSTM  NEAT-SRU  NEAT-SRU-S\n",
       "0  0.25       1.0        1.0      0.90        0.70\n",
       "1  0.30       1.0        1.0      0.60        0.15\n",
       "2  0.75       1.0        1.0      0.95        0.95\n",
       "3  0.15       1.0        1.0      0.40        0.65\n",
       "4  0.15       1.0        1.0      1.00        0.50"
      ]
     },
     "execution_count": 3,
     "metadata": {},
     "output_type": "execute_result"
    }
   ],
   "source": [
    "data = []\n",
    "path = f\"population{'_backup' if use_backup else ''}/storage/experiment{experiment}/\"\n",
    "for pop in populations:\n",
    "    d = load_dict(f\"{path}{pop}/evaluation/{field}\")\n",
    "    data.append(d[str(generation)])\n",
    "df = pd.DataFrame(np.asarray(data).transpose(), columns=populations)\n",
    "df.head()"
   ]
  },
  {
   "cell_type": "code",
   "execution_count": 4,
   "metadata": {
    "pycharm": {
     "name": "#%%\n"
    }
   },
   "outputs": [
    {
     "data": {
      "text/plain": [
       "NEAT          0.214\n",
       "NEAT-GRU      0.996\n",
       "NEAT-LSTM     0.997\n",
       "NEAT-SRU      0.850\n",
       "NEAT-SRU-S    0.570\n",
       "dtype: float64"
      ]
     },
     "execution_count": 4,
     "metadata": {},
     "output_type": "execute_result"
    }
   ],
   "source": [
    "df.mean()"
   ]
  },
  {
   "cell_type": "code",
   "execution_count": 5,
   "metadata": {},
   "outputs": [
    {
     "data": {
      "text/plain": [
       "<matplotlib.axes._subplots.AxesSubplot at 0x1c3262779c8>"
      ]
     },
     "execution_count": 5,
     "metadata": {},
     "output_type": "execute_result"
    },
    {
     "data": {
      "image/png": "[encoded data removed]",
      "text/plain": [
       "<Figure size 432x288 with 1 Axes>"
      ]
     },
     "metadata": {
      "needs_background": "light"
     },
     "output_type": "display_data"
    }
   ],
   "source": [
    "df.boxplot()"
   ]
  },
  {
   "cell_type": "markdown",
   "metadata": {},
   "source": [
    "## Handle outliers"
   ]
  },
  {
   "cell_type": "code",
   "execution_count": 6,
   "metadata": {},
   "outputs": [
    {
     "data": {
      "text/plain": [
       "NEAT          0.0500\n",
       "NEAT-GRU      0.0000\n",
       "NEAT-LSTM     0.0000\n",
       "NEAT-SRU      0.2375\n",
       "NEAT-SRU-S    0.4375\n",
       "dtype: float64"
      ]
     },
     "execution_count": 6,
     "metadata": {},
     "output_type": "execute_result"
    }
   ],
   "source": [
    "Q1 = df.quantile(0.25)\n",
    "Q3 = df.quantile(0.75)\n",
    "IQR = Q3 - Q1\n",
    "IQR"
   ]
  },
  {
   "cell_type": "code",
   "execution_count": 7,
   "metadata": {},
   "outputs": [
    {
     "data": {
      "text/html": [
       "<div>\n",
       "<style scoped>\n",
       "    .dataframe tbody tr th:only-of-type {\n",
       "        vertical-align: middle;\n",
       "    }\n",
       "\n",
       "    .dataframe tbody tr th {\n",
       "        vertical-align: top;\n",
       "    }\n",
       "\n",
       "    .dataframe thead th {\n",
       "        text-align: right;\n",
       "    }\n",
       "</style>\n",
       "<table border=\"1\" class=\"dataframe\">\n",
       "  <thead>\n",
       "    <tr style=\"text-align: right;\">\n",
       "      <th></th>\n",
       "      <th>NEAT</th>\n",
       "      <th>NEAT-GRU</th>\n",
       "      <th>NEAT-LSTM</th>\n",
       "      <th>NEAT-SRU</th>\n",
       "      <th>NEAT-SRU-S</th>\n",
       "    </tr>\n",
       "  </thead>\n",
       "  <tbody>\n",
       "    <tr>\n",
       "      <th>0</th>\n",
       "      <td>0.25</td>\n",
       "      <td>1.0</td>\n",
       "      <td>1.0</td>\n",
       "      <td>0.90</td>\n",
       "      <td>0.70</td>\n",
       "    </tr>\n",
       "    <tr>\n",
       "      <th>1</th>\n",
       "      <td>NaN</td>\n",
       "      <td>1.0</td>\n",
       "      <td>1.0</td>\n",
       "      <td>0.60</td>\n",
       "      <td>0.15</td>\n",
       "    </tr>\n",
       "    <tr>\n",
       "      <th>2</th>\n",
       "      <td>NaN</td>\n",
       "      <td>1.0</td>\n",
       "      <td>1.0</td>\n",
       "      <td>0.95</td>\n",
       "      <td>0.95</td>\n",
       "    </tr>\n",
       "    <tr>\n",
       "      <th>3</th>\n",
       "      <td>0.15</td>\n",
       "      <td>1.0</td>\n",
       "      <td>1.0</td>\n",
       "      <td>NaN</td>\n",
       "      <td>0.65</td>\n",
       "    </tr>\n",
       "    <tr>\n",
       "      <th>4</th>\n",
       "      <td>0.15</td>\n",
       "      <td>1.0</td>\n",
       "      <td>1.0</td>\n",
       "      <td>1.00</td>\n",
       "      <td>0.50</td>\n",
       "    </tr>\n",
       "  </tbody>\n",
       "</table>\n",
       "</div>"
      ],
      "text/plain": [
       "   NEAT  NEAT-GRU  NEAT-LSTM  NEAT-SRU  NEAT-SRU-S\n",
       "0  0.25       1.0        1.0      0.90        0.70\n",
       "1   NaN       1.0        1.0      0.60        0.15\n",
       "2   NaN       1.0        1.0      0.95        0.95\n",
       "3  0.15       1.0        1.0       NaN        0.65\n",
       "4  0.15       1.0        1.0      1.00        0.50"
      ]
     },
     "execution_count": 7,
     "metadata": {},
     "output_type": "execute_result"
    }
   ],
   "source": [
    "# No normalisation\n",
    "# df_n = df\n",
    "\n",
    "# Normaized dataframes (without any outliers)\n",
    "df_n = df[(df >= (Q1 - 1.5 * IQR)) & (df <= (Q3 + 1.5 * IQR))]\n",
    "\n",
    "# Quantile dataframes (only values in the quantiles are kept)\n",
    "# df_n = df[(df >= Q1) & (df <= Q3)]\n",
    "\n",
    "df_n.head()"
   ]
  },
  {
   "cell_type": "code",
   "execution_count": 8,
   "metadata": {},
   "outputs": [
    {
     "data": {
      "text/plain": [
       "<matplotlib.axes._subplots.AxesSubplot at 0x1c32a1fffc8>"
      ]
     },
     "execution_count": 8,
     "metadata": {},
     "output_type": "execute_result"
    },
    {
     "data": {
      "image/png": "[encoded data removed]",
      "text/plain": [
       "<Figure size 432x288 with 1 Axes>"
      ]
     },
     "metadata": {
      "needs_background": "light"
     },
     "output_type": "display_data"
    }
   ],
   "source": [
    "df_n.boxplot(whis=[0,100])  # Do not define outliers anymore"
   ]
  },
  {
   "cell_type": "markdown",
   "metadata": {},
   "source": [
    "## Probability distribution\n",
    "\n",
    "Show how the probabilities for the given metric compare between populations."
   ]
  },
  {
   "cell_type": "code",
   "execution_count": 9,
   "metadata": {},
   "outputs": [
    {
     "data": {
      "image/png": "[encoded data removed]",
      "text/plain": [
       "<Figure size 432x288 with 1 Axes>"
      ]
     },
     "metadata": {
      "needs_background": "light"
     },
     "output_type": "display_data"
    }
   ],
   "source": [
    "# Put the data into bins\n",
    "bins = 20\n",
    "df_r = (df_n*bins).round()/bins\n",
    "\n",
    "# Show the probabilities of each population\n",
    "x = [i/bins for i in range(bins+1)]\n",
    "plt.figure()\n",
    "for pop in populations:\n",
    "    y = [len(df_r[pop][df_r[pop] == i])/len(df) for i in x]\n",
    "    #plt.bar(x,y,width=0.05)\n",
    "    #plt.plot(x,y, label=pop)\n",
    "    \n",
    "    y_new = np.linspace(0,1,1000)\n",
    "    a_BSpline = make_interp_spline(x,y)\n",
    "    x_new = a_BSpline(y_new)\n",
    "    x_new = np.clip(x_new, a_min=0, a_max=1)\n",
    "    plt.plot(y_new, x_new, linewidth=2, label=pop)\n",
    "    \n",
    "plt.legend()\n",
    "plt.xlim(0,1)\n",
    "plt.show()\n",
    "plt.close()"
   ]
  },
  {
   "cell_type": "markdown",
   "metadata": {},
   "source": [
    "## Test for normality\n",
    "\n",
    "This part will test if the data we work with is normally distributed. If the distribution is not normal, an F-test should not be used."
   ]
  },
  {
   "cell_type": "code",
   "execution_count": 10,
   "metadata": {},
   "outputs": [
    {
     "name": "stdout",
     "output_type": "stream",
     "text": [
      "stat=0.567, p=0.000\n",
      "NEAT is probably not Gaussian (p=0.00000)\n",
      "stat=1.000, p=1.000\n",
      "NEAT-GRU is probably Gaussian (p=1.00000)\n",
      "stat=1.000, p=1.000\n",
      "NEAT-LSTM is probably Gaussian (p=1.00000)\n",
      "stat=0.813, p=0.000\n",
      "NEAT-SRU is probably not Gaussian (p=0.00000)\n",
      "stat=0.954, p=0.049\n",
      "NEAT-SRU-S is probably not Gaussian (p=0.04939)\n"
     ]
    },
    {
     "name": "stderr",
     "output_type": "stream",
     "text": [
      "c:\\users\\ruben\\documents\\projects\\evolvablernn\\venv\\lib\\site-packages\\scipy\\stats\\morestats.py:1673: UserWarning: Input data for shapiro has range zero. The results may not be accurate.\n",
      "  warnings.warn(\"Input data for shapiro has range zero. The results \"\n"
     ]
    }
   ],
   "source": [
    "# Example of the Shapiro-Wilk Normality Test\n",
    "from scipy.stats import shapiro\n",
    "for pop in populations:\n",
    "    stat, p = shapiro(df_n[pop].dropna())\n",
    "    print('stat=%.3f, p=%.3f' % (stat, p))\n",
    "    if p > 0.05:\n",
    "        print(f'{pop} is probably Gaussian (p={p:.5f})')\n",
    "    else:\n",
    "        print(f'{pop} is probably not Gaussian (p={p:.5f})')"
   ]
  },
  {
   "cell_type": "code",
   "execution_count": 11,
   "metadata": {},
   "outputs": [
    {
     "data": {
      "image/png": "[encoded data removed]",
      "text/plain": [
       "<Figure size 432x288 with 1 Axes>"
      ]
     },
     "metadata": {
      "needs_background": "light"
     },
     "output_type": "display_data"
    },
    {
     "name": "stderr",
     "output_type": "stream",
     "text": [
      "c:\\users\\ruben\\documents\\projects\\evolvablernn\\venv\\lib\\site-packages\\statsmodels\\graphics\\gofplots.py:237: RuntimeWarning: invalid value encountered in true_divide\n",
      "  return (self.sorted_data-self.loc)/self.scale\n"
     ]
    },
    {
     "data": {
      "image/png": "[encoded data removed]",
      "text/plain": [
       "<Figure size 432x288 with 1 Axes>"
      ]
     },
     "metadata": {
      "needs_background": "light"
     },
     "output_type": "display_data"
    },
    {
     "name": "stderr",
     "output_type": "stream",
     "text": [
      "c:\\users\\ruben\\documents\\projects\\evolvablernn\\venv\\lib\\site-packages\\statsmodels\\graphics\\gofplots.py:237: RuntimeWarning: invalid value encountered in true_divide\n",
      "  return (self.sorted_data-self.loc)/self.scale\n"
     ]
    },
    {
     "data": {
      "image/png": "[encoded data removed]",
      "text/plain": [
       "<Figure size 432x288 with 1 Axes>"
      ]
     },
     "metadata": {
      "needs_background": "light"
     },
     "output_type": "display_data"
    },
    {
     "data": {
      "image/png": "[encoded data removed]",
      "text/plain": [
       "<Figure size 432x288 with 1 Axes>"
      ]
     },
     "metadata": {
      "needs_background": "light"
     },
     "output_type": "display_data"
    },
    {
     "data": {
      "image/png": "[encoded data removed]",
      "text/plain": [
       "<Figure size 432x288 with 1 Axes>"
      ]
     },
     "metadata": {
      "needs_background": "light"
     },
     "output_type": "display_data"
    }
   ],
   "source": [
    "sm.qqplot(df_n['NEAT'].dropna(), line ='s', fit=True) \n",
    "plt.title('NEAT')\n",
    "plt.show() \n",
    "sm.qqplot(df_n['NEAT-GRU'].dropna(), line ='s', fit=True) \n",
    "plt.title('NEAT-GRU')\n",
    "plt.show() \n",
    "sm.qqplot(df_n['NEAT-LSTM'].dropna(), line ='s', fit=True) \n",
    "plt.title('NEAT-LSTM')\n",
    "plt.show() \n",
    "sm.qqplot(df_n['NEAT-SRU'].dropna(), line ='s', fit=True) \n",
    "plt.title('NEAT-SRU')\n",
    "plt.show() \n",
    "sm.qqplot(df_n['NEAT-SRU-S'].dropna(), line ='s', fit=True) \n",
    "plt.title('NEAT-SRU-S')\n",
    "plt.show() "
   ]
  },
  {
   "cell_type": "markdown",
   "metadata": {},
   "source": [
    "## Statistical Hypothesis\n",
    "\n",
    "Do further research on the interpretation:\n",
    "* https://www.socscistatistics.com/tests/mannwhitney/\n",
    "* https://en.wikipedia.org/wiki/Mann%E2%80%93Whitney_U_test\n",
    "* https://en.wikipedia.org/wiki/Kruskal%E2%80%93Wallis_one-way_analysis_of_variance"
   ]
  },
  {
   "cell_type": "code",
   "execution_count": 12,
   "metadata": {},
   "outputs": [
    {
     "ename": "ValueError",
     "evalue": "All numbers are identical in mannwhitneyu",
     "output_type": "error",
     "traceback": [
      "\u001b[1;31m---------------------------------------------------------------------------\u001b[0m",
      "\u001b[1;31mValueError\u001b[0m                                Traceback (most recent call last)",
      "\u001b[1;32m<ipython-input-12-8c549a826367>\u001b[0m in \u001b[0;36m<module>\u001b[1;34m\u001b[0m\n\u001b[0;32m      1\u001b[0m \u001b[1;32mfrom\u001b[0m \u001b[0mscipy\u001b[0m\u001b[1;33m.\u001b[0m\u001b[0mstats\u001b[0m \u001b[1;32mimport\u001b[0m \u001b[0mmannwhitneyu\u001b[0m\u001b[1;33m\u001b[0m\u001b[1;33m\u001b[0m\u001b[0m\n\u001b[1;32m----> 2\u001b[1;33m \u001b[0mstat\u001b[0m\u001b[1;33m,\u001b[0m \u001b[0mp\u001b[0m \u001b[1;33m=\u001b[0m \u001b[0mmannwhitneyu\u001b[0m\u001b[1;33m(\u001b[0m\u001b[0mdf_n\u001b[0m\u001b[1;33m[\u001b[0m\u001b[1;34m'NEAT-LSTM'\u001b[0m\u001b[1;33m]\u001b[0m\u001b[1;33m.\u001b[0m\u001b[0mdropna\u001b[0m\u001b[1;33m(\u001b[0m\u001b[1;33m)\u001b[0m\u001b[1;33m,\u001b[0m \u001b[0mdf_n\u001b[0m\u001b[1;33m[\u001b[0m\u001b[1;34m'NEAT-GRU'\u001b[0m\u001b[1;33m]\u001b[0m\u001b[1;33m.\u001b[0m\u001b[0mdropna\u001b[0m\u001b[1;33m(\u001b[0m\u001b[1;33m)\u001b[0m\u001b[1;33m)\u001b[0m\u001b[1;33m\u001b[0m\u001b[1;33m\u001b[0m\u001b[0m\n\u001b[0m\u001b[0;32m      3\u001b[0m \u001b[0mprint\u001b[0m\u001b[1;33m(\u001b[0m\u001b[1;34m'stat=%.3f, p=%.5f'\u001b[0m \u001b[1;33m%\u001b[0m \u001b[1;33m(\u001b[0m\u001b[0mstat\u001b[0m\u001b[1;33m,\u001b[0m \u001b[0mp\u001b[0m\u001b[1;33m)\u001b[0m\u001b[1;33m)\u001b[0m\u001b[1;33m\u001b[0m\u001b[1;33m\u001b[0m\u001b[0m\n\u001b[0;32m      4\u001b[0m \u001b[1;32mif\u001b[0m \u001b[0mp\u001b[0m \u001b[1;33m>\u001b[0m \u001b[1;36m0.05\u001b[0m\u001b[1;33m:\u001b[0m\u001b[1;33m\u001b[0m\u001b[1;33m\u001b[0m\u001b[0m\n\u001b[0;32m      5\u001b[0m         \u001b[0mprint\u001b[0m\u001b[1;33m(\u001b[0m\u001b[1;34m'Probably the same distribution'\u001b[0m\u001b[1;33m)\u001b[0m\u001b[1;33m\u001b[0m\u001b[1;33m\u001b[0m\u001b[0m\n",
      "\u001b[1;32mc:\\users\\ruben\\documents\\projects\\evolvablernn\\venv\\lib\\site-packages\\scipy\\stats\\stats.py\u001b[0m in \u001b[0;36mmannwhitneyu\u001b[1;34m(x, y, use_continuity, alternative)\u001b[0m\n\u001b[0;32m   6399\u001b[0m     \u001b[0mT\u001b[0m \u001b[1;33m=\u001b[0m \u001b[0mtiecorrect\u001b[0m\u001b[1;33m(\u001b[0m\u001b[0mranked\u001b[0m\u001b[1;33m)\u001b[0m\u001b[1;33m\u001b[0m\u001b[1;33m\u001b[0m\u001b[0m\n\u001b[0;32m   6400\u001b[0m     \u001b[1;32mif\u001b[0m \u001b[0mT\u001b[0m \u001b[1;33m==\u001b[0m \u001b[1;36m0\u001b[0m\u001b[1;33m:\u001b[0m\u001b[1;33m\u001b[0m\u001b[1;33m\u001b[0m\u001b[0m\n\u001b[1;32m-> 6401\u001b[1;33m         \u001b[1;32mraise\u001b[0m \u001b[0mValueError\u001b[0m\u001b[1;33m(\u001b[0m\u001b[1;34m'All numbers are identical in mannwhitneyu'\u001b[0m\u001b[1;33m)\u001b[0m\u001b[1;33m\u001b[0m\u001b[1;33m\u001b[0m\u001b[0m\n\u001b[0m\u001b[0;32m   6402\u001b[0m     \u001b[0msd\u001b[0m \u001b[1;33m=\u001b[0m \u001b[0mnp\u001b[0m\u001b[1;33m.\u001b[0m\u001b[0msqrt\u001b[0m\u001b[1;33m(\u001b[0m\u001b[0mT\u001b[0m \u001b[1;33m*\u001b[0m \u001b[0mn1\u001b[0m \u001b[1;33m*\u001b[0m \u001b[0mn2\u001b[0m \u001b[1;33m*\u001b[0m \u001b[1;33m(\u001b[0m\u001b[0mn1\u001b[0m\u001b[1;33m+\u001b[0m\u001b[0mn2\u001b[0m\u001b[1;33m+\u001b[0m\u001b[1;36m1\u001b[0m\u001b[1;33m)\u001b[0m \u001b[1;33m/\u001b[0m \u001b[1;36m12.0\u001b[0m\u001b[1;33m)\u001b[0m\u001b[1;33m\u001b[0m\u001b[1;33m\u001b[0m\u001b[0m\n\u001b[0;32m   6403\u001b[0m \u001b[1;33m\u001b[0m\u001b[0m\n",
      "\u001b[1;31mValueError\u001b[0m: All numbers are identical in mannwhitneyu"
     ]
    }
   ],
   "source": [
    "from scipy.stats import mannwhitneyu\n",
    "stat, p = mannwhitneyu(df_n['NEAT-LSTM'].dropna(), df_n['NEAT-GRU'].dropna())\n",
    "print('stat=%.3f, p=%.5f' % (stat, p))\n",
    "if p > 0.05:\n",
    "\tprint('Probably the same distribution')\n",
    "else:\n",
    "\tprint('Probably different distributions')"
   ]
  },
  {
   "cell_type": "code",
   "execution_count": null,
   "metadata": {},
   "outputs": [],
   "source": [
    "from scipy.stats import kruskal\n",
    "stat, p = kruskal(df_n['NEAT-LSTM'].dropna(), df_n['NEAT-GRU'].dropna())\n",
    "print('stat=%.3f, p=%.5f' % (stat, p))\n",
    "if p > 0.05:\n",
    "\tprint('Probably the same distribution')\n",
    "else:\n",
    "\tprint('Probably different distributions')"
   ]
  },
  {
   "cell_type": "markdown",
   "metadata": {},
   "source": [
    "## T-test\n",
    "\n",
    "May only be done if normally distributed!"
   ]
  },
  {
   "cell_type": "code",
   "execution_count": null,
   "metadata": {},
   "outputs": [],
   "source": [
    "from scipy.stats import ttest_ind\n",
    "stat, p = ttest_ind(df_n['NEAT-LSTM'].dropna(), df_n['NEAT-GRU'].dropna())\n",
    "print('stat=%.3f, p=%.5f' % (stat, p))\n",
    "if p > 0.05:\n",
    "\tprint('Probably the same distribution')\n",
    "else:\n",
    "\tprint('Probably different distributions')"
   ]
  },
  {
   "cell_type": "code",
   "execution_count": null,
   "metadata": {},
   "outputs": [],
   "source": []
  }
 ],
 "metadata": {
  "hide_input": false,
  "kernelspec": {
   "display_name": "Python 3",
   "language": "python",
   "name": "python3"
  },
  "language_info": {
   "codemirror_mode": {
    "name": "ipython",
    "version": 3
   },
   "file_extension": ".py",
   "mimetype": "text/x-python",
   "name": "python",
   "nbconvert_exporter": "python",
   "pygments_lexer": "ipython3",
   "version": "3.7.5"
  },
  "pycharm": {
   "stem_cell": {
    "cell_type": "raw",
    "metadata": {
     "collapsed": false
    },
    "source": []
   }
  },
  "toc": {
   "base_numbering": 1,
   "nav_menu": {},
   "number_sections": true,
   "sideBar": true,
   "skip_h1_title": false,
   "title_cell": "Table of Contents",
   "title_sidebar": "Contents",
   "toc_cell": false,
   "toc_position": {},
   "toc_section_display": true,
   "toc_window_display": false
  }
 },
 "nbformat": 4,
 "nbformat_minor": 1
}
