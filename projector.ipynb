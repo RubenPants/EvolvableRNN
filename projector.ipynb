{
 "cells": [
  {
   "cell_type": "markdown",
   "metadata": {},
   "source": [
    "# TensorBoard"
   ]
  },
  {
   "cell_type": "markdown",
   "metadata": {},
   "source": [
    "## Dependencies\n",
    "\n",
    "Note: the following dependencies were **not included** in the project's requirements file:\n",
    "* tensorflow\n",
    "* tensorboard\n",
    "* torch"
   ]
  },
  {
   "cell_type": "code",
   "execution_count": 321,
   "metadata": {},
   "outputs": [],
   "source": [
    "# Load in the used dependencies\n",
    "import os\n",
    "import numpy as np\n",
    "import tensorflow as tf\n",
    "import tensorboard as tb\n",
    "tf.io.gfile = tb.compat.tensorflow_stub.io.gfile\n",
    "from torch.utils.tensorboard import SummaryWriter\n",
    "import pandas as pd\n",
    "import seaborn as sns\n",
    "import matplotlib.pyplot as plt"
   ]
  },
  {
   "cell_type": "markdown",
   "metadata": {},
   "source": [
    "## Data\n",
    "\n",
    "### Hyperparameters"
   ]
  },
  {
   "cell_type": "code",
   "execution_count": 408,
   "metadata": {},
   "outputs": [],
   "source": [
    "LOG_DIR = './population_backup/storage/experiment6/'\n",
    "topology_id = 2\n",
    "overwrite = True\n",
    "rm_duplicates = False  # Remove all samples with at least 'dup_columns' duplicate values\n",
    "dup_columns = None  # Number of duplicated columns a single sample has before removal\n",
    "filter_score = True  # Filter out samples having a fitness of min_fitness or more \n",
    "classify = False  # Classify the samples based on the connections"
   ]
  },
  {
   "cell_type": "code",
   "execution_count": 409,
   "metadata": {},
   "outputs": [],
   "source": [
    "if topology_id in [2,3,222]:\n",
    "    min_fitness = 1  # GRU is capable of finding all targets\n",
    "elif topology_id in [22]:\n",
    "    min_fitness = 0.6  # Best score of 11/18\n",
    "else:\n",
    "    raise Exception(f\"Add topology ID '{topology_id}'\")"
   ]
  },
  {
   "cell_type": "markdown",
   "metadata": {},
   "source": [
    "### Fetch"
   ]
  },
  {
   "cell_type": "code",
   "execution_count": 410,
   "metadata": {},
   "outputs": [],
   "source": [
    "# Setup the header\n",
    "head = ['fitness']\n",
    "if topology_id in [1, 2, 3]:  # GRU populations\n",
    "    head += ['bias_r', 'bias_z', 'bias_h',\n",
    "             'weight_xr', 'weight_xz', 'weight_xh',\n",
    "             'weight_hr', 'weight_hz', 'weight_hh']\n",
    "elif topology_id in [22, 33]:  # SRU populations\n",
    "    head += ['bias_h', 'weight_xh', 'weight_hh']\n",
    "elif topology_id in [222, 333]:\n",
    "    head += ['delay', 'scale', 'resting']\n",
    "else:\n",
    "    raise Exception(f\"Topology ID '{topology_id}' not supported!\")\n",
    "\n",
    "if topology_id in [1]:\n",
    "    head += ['conn1', 'conn2']\n",
    "elif topology_id in [2, 22, 222]:\n",
    "    head += ['bias_rw', 'conn2']\n",
    "elif topology_id in [3, 33, 333]:\n",
    "    head += ['bias_rw', 'conn0', 'conn1', 'conn2']\n",
    "else:\n",
    "    raise Exception(f\"Topology ID '{topology_id}' not supported!\")"
   ]
  },
  {
   "cell_type": "code",
   "execution_count": 411,
   "metadata": {},
   "outputs": [
    {
     "name": "stdout",
     "output_type": "stream",
     "text": [
      "Data shape: (100052, 11)\n",
      "Meta shape: (100052,)\n"
     ]
    }
   ],
   "source": [
    "# Check if tsv files already exist\n",
    "raw_path = os.path.join(LOG_DIR, f'topology_{topology_id}/data/topology_{topology_id}.csv')\n",
    "data_path = os.path.join(LOG_DIR, f'topology_{topology_id}/data/data.tsv')\n",
    "meta_path = os.path.join(LOG_DIR, f'topology_{topology_id}/data/meta.tsv')\n",
    "\n",
    "# Load in the data (without header)\n",
    "if not overwrite and os.path.exists(data_path):\n",
    "    data = np.genfromtxt(data_path, delimiter='\\t')\n",
    "    meta = np.genfromtxt(meta_path, delimiter='\\t')\n",
    "else:\n",
    "    raw = np.genfromtxt(raw_path, delimiter=',')[1:]\n",
    "    data = raw[:,:-1]\n",
    "    meta = raw[:,-1]\n",
    "    np.savetxt(data_path, data, delimiter='\\t')\n",
    "    np.savetxt(meta_path, meta, delimiter='\\t')\n",
    "\n",
    "# Print shape:\n",
    "print(f\"Data shape: {data.shape}\")\n",
    "print(f\"Meta shape: {meta.shape}\")"
   ]
  },
  {
   "cell_type": "code",
   "execution_count": 412,
   "metadata": {},
   "outputs": [],
   "source": [
    "# Transform to pandas dataframe (easier to manipulate)\n",
    "data_pd = pd.DataFrame(data, columns=head[1:])\n",
    "meta_pd = pd.DataFrame(meta, columns=head[:1])"
   ]
  },
  {
   "cell_type": "code",
   "execution_count": 413,
   "metadata": {},
   "outputs": [
    {
     "data": {
      "text/html": [
       "<div>\n",
       "<style scoped>\n",
       "    .dataframe tbody tr th:only-of-type {\n",
       "        vertical-align: middle;\n",
       "    }\n",
       "\n",
       "    .dataframe tbody tr th {\n",
       "        vertical-align: top;\n",
       "    }\n",
       "\n",
       "    .dataframe thead th {\n",
       "        text-align: right;\n",
       "    }\n",
       "</style>\n",
       "<table border=\"1\" class=\"dataframe\">\n",
       "  <thead>\n",
       "    <tr style=\"text-align: right;\">\n",
       "      <th></th>\n",
       "      <th>bias_r</th>\n",
       "      <th>bias_z</th>\n",
       "      <th>bias_h</th>\n",
       "      <th>weight_xr</th>\n",
       "      <th>weight_xz</th>\n",
       "      <th>weight_xh</th>\n",
       "      <th>weight_hr</th>\n",
       "      <th>weight_hz</th>\n",
       "      <th>weight_hh</th>\n",
       "      <th>bias_rw</th>\n",
       "      <th>conn2</th>\n",
       "    </tr>\n",
       "  </thead>\n",
       "  <tbody>\n",
       "    <tr>\n",
       "      <th>0</th>\n",
       "      <td>-1.367109</td>\n",
       "      <td>2.090253</td>\n",
       "      <td>-0.449092</td>\n",
       "      <td>0.153726</td>\n",
       "      <td>0.932041</td>\n",
       "      <td>2.089773</td>\n",
       "      <td>3.355539</td>\n",
       "      <td>2.827017</td>\n",
       "      <td>-0.533423</td>\n",
       "      <td>1.80268</td>\n",
       "      <td>-3.405215</td>\n",
       "    </tr>\n",
       "    <tr>\n",
       "      <th>1</th>\n",
       "      <td>-1.936972</td>\n",
       "      <td>2.090253</td>\n",
       "      <td>-0.449092</td>\n",
       "      <td>-0.118474</td>\n",
       "      <td>0.708019</td>\n",
       "      <td>2.089773</td>\n",
       "      <td>3.536528</td>\n",
       "      <td>2.827017</td>\n",
       "      <td>-0.533423</td>\n",
       "      <td>1.80268</td>\n",
       "      <td>-3.405215</td>\n",
       "    </tr>\n",
       "    <tr>\n",
       "      <th>2</th>\n",
       "      <td>-1.367109</td>\n",
       "      <td>2.090253</td>\n",
       "      <td>-0.449092</td>\n",
       "      <td>0.153726</td>\n",
       "      <td>0.932041</td>\n",
       "      <td>2.089773</td>\n",
       "      <td>3.515875</td>\n",
       "      <td>2.827017</td>\n",
       "      <td>-0.533423</td>\n",
       "      <td>1.80268</td>\n",
       "      <td>-3.405215</td>\n",
       "    </tr>\n",
       "    <tr>\n",
       "      <th>3</th>\n",
       "      <td>-1.635319</td>\n",
       "      <td>2.090253</td>\n",
       "      <td>-0.449092</td>\n",
       "      <td>-0.118474</td>\n",
       "      <td>0.708019</td>\n",
       "      <td>2.089773</td>\n",
       "      <td>3.216672</td>\n",
       "      <td>2.827017</td>\n",
       "      <td>-0.533423</td>\n",
       "      <td>1.80268</td>\n",
       "      <td>-3.405215</td>\n",
       "    </tr>\n",
       "    <tr>\n",
       "      <th>4</th>\n",
       "      <td>-1.635319</td>\n",
       "      <td>2.090253</td>\n",
       "      <td>-0.449092</td>\n",
       "      <td>-0.118474</td>\n",
       "      <td>0.708019</td>\n",
       "      <td>2.089773</td>\n",
       "      <td>3.536528</td>\n",
       "      <td>2.827017</td>\n",
       "      <td>-0.533423</td>\n",
       "      <td>1.80268</td>\n",
       "      <td>-3.405215</td>\n",
       "    </tr>\n",
       "  </tbody>\n",
       "</table>\n",
       "</div>"
      ],
      "text/plain": [
       "     bias_r    bias_z    bias_h  weight_xr  weight_xz  weight_xh  weight_hr  \\\n",
       "0 -1.367109  2.090253 -0.449092   0.153726   0.932041   2.089773   3.355539   \n",
       "1 -1.936972  2.090253 -0.449092  -0.118474   0.708019   2.089773   3.536528   \n",
       "2 -1.367109  2.090253 -0.449092   0.153726   0.932041   2.089773   3.515875   \n",
       "3 -1.635319  2.090253 -0.449092  -0.118474   0.708019   2.089773   3.216672   \n",
       "4 -1.635319  2.090253 -0.449092  -0.118474   0.708019   2.089773   3.536528   \n",
       "\n",
       "   weight_hz  weight_hh  bias_rw     conn2  \n",
       "0   2.827017  -0.533423  1.80268 -3.405215  \n",
       "1   2.827017  -0.533423  1.80268 -3.405215  \n",
       "2   2.827017  -0.533423  1.80268 -3.405215  \n",
       "3   2.827017  -0.533423  1.80268 -3.405215  \n",
       "4   2.827017  -0.533423  1.80268 -3.405215  "
      ]
     },
     "execution_count": 413,
     "metadata": {},
     "output_type": "execute_result"
    }
   ],
   "source": [
    "data_pd.head()"
   ]
  },
  {
   "cell_type": "code",
   "execution_count": 414,
   "metadata": {},
   "outputs": [
    {
     "data": {
      "text/html": [
       "<div>\n",
       "<style scoped>\n",
       "    .dataframe tbody tr th:only-of-type {\n",
       "        vertical-align: middle;\n",
       "    }\n",
       "\n",
       "    .dataframe tbody tr th {\n",
       "        vertical-align: top;\n",
       "    }\n",
       "\n",
       "    .dataframe thead th {\n",
       "        text-align: right;\n",
       "    }\n",
       "</style>\n",
       "<table border=\"1\" class=\"dataframe\">\n",
       "  <thead>\n",
       "    <tr style=\"text-align: right;\">\n",
       "      <th></th>\n",
       "      <th>fitness</th>\n",
       "    </tr>\n",
       "  </thead>\n",
       "  <tbody>\n",
       "    <tr>\n",
       "      <th>0</th>\n",
       "      <td>0.888889</td>\n",
       "    </tr>\n",
       "    <tr>\n",
       "      <th>1</th>\n",
       "      <td>0.944444</td>\n",
       "    </tr>\n",
       "    <tr>\n",
       "      <th>2</th>\n",
       "      <td>0.888889</td>\n",
       "    </tr>\n",
       "    <tr>\n",
       "      <th>3</th>\n",
       "      <td>0.944444</td>\n",
       "    </tr>\n",
       "    <tr>\n",
       "      <th>4</th>\n",
       "      <td>0.944444</td>\n",
       "    </tr>\n",
       "  </tbody>\n",
       "</table>\n",
       "</div>"
      ],
      "text/plain": [
       "    fitness\n",
       "0  0.888889\n",
       "1  0.944444\n",
       "2  0.888889\n",
       "3  0.944444\n",
       "4  0.944444"
      ]
     },
     "execution_count": 414,
     "metadata": {},
     "output_type": "execute_result"
    }
   ],
   "source": [
    "meta_pd.head()"
   ]
  },
  {
   "cell_type": "markdown",
   "metadata": {},
   "source": [
    "### Filter the data"
   ]
  },
  {
   "cell_type": "code",
   "execution_count": 415,
   "metadata": {},
   "outputs": [
    {
     "name": "stdout",
     "output_type": "stream",
     "text": [
      "Data shape: (74885, 11)\n",
      "Meta shape: (74885, 1)\n"
     ]
    }
   ],
   "source": [
    "# Filter out the complete duplicates\n",
    "indices = data_pd.duplicated()\n",
    "data_pd = data_pd[~indices.values]\n",
    "meta_pd = meta_pd[~indices.values]\n",
    "print(f\"Data shape: {data_pd.shape}\")\n",
    "print(f\"Meta shape: {meta_pd.shape}\")"
   ]
  },
  {
   "cell_type": "code",
   "execution_count": 416,
   "metadata": {},
   "outputs": [
    {
     "name": "stdout",
     "output_type": "stream",
     "text": [
      "Data shape: (28037, 11)\n",
      "Meta shape: (28037, 1)\n"
     ]
    }
   ],
   "source": [
    "# For example, if you want to see only fitnesses of 1 (perfect score).\n",
    "if filter_score:\n",
    "    indices = meta_pd >= min_fitness\n",
    "    data_pd = data_pd[indices.values]\n",
    "    meta_pd = meta_pd[indices.values]\n",
    "    print(f\"Data shape: {data_pd.shape}\")\n",
    "    print(f\"Meta shape: {meta_pd.shape}\")"
   ]
  },
  {
   "cell_type": "code",
   "execution_count": 417,
   "metadata": {},
   "outputs": [],
   "source": [
    "# Filter out all the samples that have at least one duplicate value (in each of its columns)\n",
    "if rm_duplicates:\n",
    "    indices = (meta_pd<0).astype(int).values.flatten()  # Little hack\n",
    "    for h in head[1:]:\n",
    "        indices += data_pd.duplicated(subset=h).astype(int).values\n",
    "\n",
    "    # Remove all that exceed the set threshold\n",
    "    data_pd = data_pd[indices < dup_columns]\n",
    "    meta_pd = meta_pd[indices < dup_columns]\n",
    "    print(f\"Dropping duplicates that occur in {dup_columns} columns or more\")\n",
    "    print(f\" > Data shape: {data_pd.shape}\")\n",
    "    print(f\" > Meta shape: {meta_pd.shape}\")"
   ]
  },
  {
   "cell_type": "code",
   "execution_count": 418,
   "metadata": {},
   "outputs": [
    {
     "data": {
      "text/html": [
       "<div>\n",
       "<style scoped>\n",
       "    .dataframe tbody tr th:only-of-type {\n",
       "        vertical-align: middle;\n",
       "    }\n",
       "\n",
       "    .dataframe tbody tr th {\n",
       "        vertical-align: top;\n",
       "    }\n",
       "\n",
       "    .dataframe thead th {\n",
       "        text-align: right;\n",
       "    }\n",
       "</style>\n",
       "<table border=\"1\" class=\"dataframe\">\n",
       "  <thead>\n",
       "    <tr style=\"text-align: right;\">\n",
       "      <th></th>\n",
       "      <th>bias_r</th>\n",
       "      <th>bias_z</th>\n",
       "      <th>bias_h</th>\n",
       "      <th>weight_xr</th>\n",
       "      <th>weight_xz</th>\n",
       "      <th>weight_xh</th>\n",
       "      <th>weight_hr</th>\n",
       "      <th>weight_hz</th>\n",
       "      <th>weight_hh</th>\n",
       "      <th>bias_rw</th>\n",
       "      <th>conn2</th>\n",
       "    </tr>\n",
       "  </thead>\n",
       "  <tbody>\n",
       "    <tr>\n",
       "      <th>45</th>\n",
       "      <td>-1.367109</td>\n",
       "      <td>2.090253</td>\n",
       "      <td>-0.449092</td>\n",
       "      <td>0.280700</td>\n",
       "      <td>0.932041</td>\n",
       "      <td>2.089773</td>\n",
       "      <td>3.355539</td>\n",
       "      <td>2.827017</td>\n",
       "      <td>-1.769054</td>\n",
       "      <td>1.80268</td>\n",
       "      <td>-3.518890</td>\n",
       "    </tr>\n",
       "    <tr>\n",
       "      <th>53</th>\n",
       "      <td>-1.367109</td>\n",
       "      <td>2.090253</td>\n",
       "      <td>-0.449092</td>\n",
       "      <td>0.509054</td>\n",
       "      <td>0.997340</td>\n",
       "      <td>2.089773</td>\n",
       "      <td>3.484835</td>\n",
       "      <td>3.348872</td>\n",
       "      <td>-0.450934</td>\n",
       "      <td>1.80268</td>\n",
       "      <td>-3.405215</td>\n",
       "    </tr>\n",
       "    <tr>\n",
       "      <th>70</th>\n",
       "      <td>-1.239318</td>\n",
       "      <td>1.836362</td>\n",
       "      <td>-0.448091</td>\n",
       "      <td>0.163939</td>\n",
       "      <td>0.949667</td>\n",
       "      <td>2.116934</td>\n",
       "      <td>3.186708</td>\n",
       "      <td>0.212072</td>\n",
       "      <td>-1.108011</td>\n",
       "      <td>1.80268</td>\n",
       "      <td>-3.775642</td>\n",
       "    </tr>\n",
       "    <tr>\n",
       "      <th>71</th>\n",
       "      <td>-1.239318</td>\n",
       "      <td>1.836362</td>\n",
       "      <td>-0.448091</td>\n",
       "      <td>0.070387</td>\n",
       "      <td>0.949667</td>\n",
       "      <td>2.116934</td>\n",
       "      <td>3.186708</td>\n",
       "      <td>0.212072</td>\n",
       "      <td>-1.108011</td>\n",
       "      <td>1.80268</td>\n",
       "      <td>-3.775642</td>\n",
       "    </tr>\n",
       "    <tr>\n",
       "      <th>75</th>\n",
       "      <td>-1.239318</td>\n",
       "      <td>1.836362</td>\n",
       "      <td>-0.448091</td>\n",
       "      <td>0.070387</td>\n",
       "      <td>0.949667</td>\n",
       "      <td>2.148954</td>\n",
       "      <td>2.809227</td>\n",
       "      <td>0.226134</td>\n",
       "      <td>-1.108011</td>\n",
       "      <td>1.80268</td>\n",
       "      <td>-3.775642</td>\n",
       "    </tr>\n",
       "  </tbody>\n",
       "</table>\n",
       "</div>"
      ],
      "text/plain": [
       "      bias_r    bias_z    bias_h  weight_xr  weight_xz  weight_xh  weight_hr  \\\n",
       "45 -1.367109  2.090253 -0.449092   0.280700   0.932041   2.089773   3.355539   \n",
       "53 -1.367109  2.090253 -0.449092   0.509054   0.997340   2.089773   3.484835   \n",
       "70 -1.239318  1.836362 -0.448091   0.163939   0.949667   2.116934   3.186708   \n",
       "71 -1.239318  1.836362 -0.448091   0.070387   0.949667   2.116934   3.186708   \n",
       "75 -1.239318  1.836362 -0.448091   0.070387   0.949667   2.148954   2.809227   \n",
       "\n",
       "    weight_hz  weight_hh  bias_rw     conn2  \n",
       "45   2.827017  -1.769054  1.80268 -3.518890  \n",
       "53   3.348872  -0.450934  1.80268 -3.405215  \n",
       "70   0.212072  -1.108011  1.80268 -3.775642  \n",
       "71   0.212072  -1.108011  1.80268 -3.775642  \n",
       "75   0.226134  -1.108011  1.80268 -3.775642  "
      ]
     },
     "execution_count": 418,
     "metadata": {},
     "output_type": "execute_result"
    }
   ],
   "source": [
    "data_pd.head()"
   ]
  },
  {
   "cell_type": "markdown",
   "metadata": {},
   "source": [
    "### Visualize the data\n",
    "\n",
    "Remark: Symmetry in data clearly by conn1 (this is the connection between GRU node and output of the global network) "
   ]
  },
  {
   "cell_type": "code",
   "execution_count": 440,
   "metadata": {},
   "outputs": [
    {
     "name": "stdout",
     "output_type": "stream",
     "text": [
      "Data shape: (34, 11)\n"
     ]
    },
    {
     "data": {
      "image/png": "[encoded data removed]",
      "text/plain": [
       "<Figure size 1080x216 with 1 Axes>"
      ]
     },
     "metadata": {
      "needs_background": "light"
     },
     "output_type": "display_data"
    }
   ],
   "source": [
    "indices = (data_pd['bias_rw'] >= 2.5) & (data_pd['conn2'] >= -5)\n",
    "temp = data_pd[indices.values]\n",
    "print(f\"Data shape: {temp.shape}\")\n",
    "plt.figure(figsize=(15,3))\n",
    "temp.boxplot()\n",
    "plt.show()\n",
    "plt.close()"
   ]
  },
  {
   "cell_type": "code",
   "execution_count": 407,
   "metadata": {},
   "outputs": [
    {
     "data": {
      "image/png": "[encoded data removed]",
      "text/plain": [
       "<Figure size 1080x216 with 1 Axes>"
      ]
     },
     "metadata": {
      "needs_background": "light"
     },
     "output_type": "display_data"
    }
   ],
   "source": [
    "plt.figure(figsize=(15,3))\n",
    "data_pd.boxplot()\n",
    "plt.show()\n",
    "plt.close()"
   ]
  },
  {
   "cell_type": "code",
   "execution_count": 360,
   "metadata": {},
   "outputs": [],
   "source": [
    "def adapt_and_show(data, indices=None):\n",
    "    data_temp = data\n",
    "    if indices is not None: data_temp = data_temp[indices.values]\n",
    "    print(f\"Size: {data_temp.shape}\")\n",
    "    plt.figure(figsize=(15,5))\n",
    "    for i, h in enumerate(head[1:]):\n",
    "        plt.subplot(int(len(head)/6+1),6,i+1)\n",
    "        sns.violinplot(data_temp[h])\n",
    "        plt.title(h)\n",
    "        if 'delay' in h:\n",
    "            continue\n",
    "        if 'bias' in h or 'resting' in h:\n",
    "            plt.xlim(-3,3)\n",
    "        else:\n",
    "            plt.xlim(-6,6)\n",
    "        plt.yticks([])\n",
    "    plt.tight_layout()\n",
    "    plt.show()\n",
    "    plt.close()"
   ]
  },
  {
   "cell_type": "code",
   "execution_count": 361,
   "metadata": {},
   "outputs": [
    {
     "name": "stdout",
     "output_type": "stream",
     "text": [
      "Size: (10, 5)\n"
     ]
    },
    {
     "data": {
      "image/png": "[encoded data removed]",
      "text/plain": [
       "<Figure size 1080x360 with 5 Axes>"
      ]
     },
     "metadata": {
      "needs_background": "light"
     },
     "output_type": "display_data"
    }
   ],
   "source": [
    "# indices = (data_pd['conn1'] > 0) & (data_pd['conn0'] > 0)\n",
    "indices = None\n",
    "adapt_and_show(data_pd, indices)"
   ]
  },
  {
   "cell_type": "code",
   "execution_count": 362,
   "metadata": {},
   "outputs": [],
   "source": [
    "# h = 'bias_h'\n",
    "# t = '$c_0$'\n",
    "# plt.figure(figsize=(3,1.3))\n",
    "# sns.violinplot(data_pd[h])\n",
    "# plt.title(t)\n",
    "# if 'bias' in h:\n",
    "#     plt.xlim(-3,3)\n",
    "# else:\n",
    "#     plt.xlim(-6,6)\n",
    "# plt.ylim(0)\n",
    "# plt.yticks([])\n",
    "# plt.xlabel('')\n",
    "# plt.tight_layout()\n",
    "# plt.savefig(f\"delete_me/{h}.png\", bbox_inches='tight', pad_inches=0.02)\n",
    "# plt.show()\n",
    "# plt.close()"
   ]
  },
  {
   "cell_type": "markdown",
   "metadata": {},
   "source": [
    "### Add column\n",
    "\n",
    "Add a class column, used for visualisation in the Projector."
   ]
  },
  {
   "cell_type": "code",
   "execution_count": 363,
   "metadata": {},
   "outputs": [],
   "source": [
    "def classify_connections(r):\n",
    "    if r['conn0'] >= 0 and r['conn1'] >= 0:\n",
    "        return \"PP\"  # Positive Positive\n",
    "    elif r['conn0'] >= 0 and r['conn1'] < 0:\n",
    "        return \"PN\"  # Positive Negative\n",
    "    elif r['conn0'] < 0 and r['conn1'] >= 0:\n",
    "        return \"NP\"  # Negative Positive\n",
    "    else:\n",
    "        return \"NN\"  # Negative Negative"
   ]
  },
  {
   "cell_type": "code",
   "execution_count": 364,
   "metadata": {},
   "outputs": [],
   "source": [
    "classes = None\n",
    "if classify:\n",
    "    classes = data_pd.apply(lambda row: classify_connections(row), axis=1).values"
   ]
  },
  {
   "cell_type": "markdown",
   "metadata": {},
   "source": [
    "### Format\n",
    "\n",
    "Create labels for visualisation."
   ]
  },
  {
   "cell_type": "code",
   "execution_count": 365,
   "metadata": {},
   "outputs": [
    {
     "name": "stdout",
     "output_type": "stream",
     "text": [
      "Data example: \n",
      "> [40.          1.7401337   0.338963    0.6201713  -4.08427156]\n",
      "Label example: \n",
      "> ['1.0', '40.0', '1.74013', '0.33896', '0.62017', '-4.08427']\n",
      "For header: \n",
      "> ['fitness', 'delay', 'scale', 'resting', 'bias_rw', 'conn2']\n"
     ]
    }
   ],
   "source": [
    "# Create better labels\n",
    "meta_str = []\n",
    "for d, m in zip(data_pd.values, meta_pd.values):\n",
    "    s = [str(round(m[0], 2))]\n",
    "    s += [str(round(x, 5))for x in d]\n",
    "    meta_str.append(s)   \n",
    "    \n",
    "if classify:\n",
    "    if 'classes' not in head: head.insert(0, 'classes')\n",
    "    for i, m in enumerate(meta_str):\n",
    "        meta_str[i].insert(0, classes[i])\n",
    "\n",
    "# Example\n",
    "print(f\"Data example: \\n> {data_pd.values[0]}\")\n",
    "print(f\"Label example: \\n> {meta_str[0]}\")\n",
    "print(f\"For header: \\n> {head}\")"
   ]
  },
  {
   "cell_type": "markdown",
   "metadata": {},
   "source": [
    "## Magic\n",
    "\n",
    "Folder in which data is stored is \"runs/topology_1\" (always keep \"runs\"). Change this is you want to compare several configurations."
   ]
  },
  {
   "cell_type": "code",
   "execution_count": 283,
   "metadata": {
    "scrolled": false
   },
   "outputs": [
    {
     "name": "stdout",
     "output_type": "stream",
     "text": [
      "warning: Embedding dir exists, did you set global_step for add_embedding()?\n",
      "The tensorboard extension is already loaded. To reload it, use:\n",
      "  %reload_ext tensorboard\n"
     ]
    },
    {
     "data": {
      "text/plain": [
       "Reusing TensorBoard on port 6006 (pid 5308), started 4:45:41 ago. (Use '!kill 5308' to kill it.)"
      ]
     },
     "metadata": {},
     "output_type": "display_data"
    },
    {
     "data": {
      "text/html": [
       "\n",
       "      <iframe id=\"tensorboard-frame-b8e6dc4b85bb5ac4\" width=\"100%\" height=\"800\" frameborder=\"0\">\n",
       "      </iframe>\n",
       "      <script>\n",
       "        (function() {\n",
       "          const frame = document.getElementById(\"tensorboard-frame-b8e6dc4b85bb5ac4\");\n",
       "          const url = new URL(\"/\", window.location);\n",
       "          url.port = 6006;\n",
       "          frame.src = url;\n",
       "        })();\n",
       "      </script>\n",
       "  "
      ],
      "text/plain": [
       "<IPython.core.display.HTML object>"
      ]
     },
     "metadata": {},
     "output_type": "display_data"
    }
   ],
   "source": [
    "# Fire up the TensorBoard\n",
    "writer = SummaryWriter(log_dir=f\"runs/topology_{topology_id}\")  # Overwrites if already exists\n",
    "writer.add_embedding(data_pd.to_numpy(), meta_str, metadata_header=head)\n",
    "writer.close()\n",
    "%load_ext tensorboard\n",
    "%tensorboard --logdir=runs\n",
    "\n",
    "# Tensorboard can be opened in separate tab: localhost:6006"
   ]
  },
  {
   "cell_type": "code",
   "execution_count": null,
   "metadata": {},
   "outputs": [],
   "source": []
  }
 ],
 "metadata": {
  "hide_input": false,
  "kernelspec": {
   "display_name": "Python 3",
   "language": "python",
   "name": "python3"
  },
  "language_info": {
   "codemirror_mode": {
    "name": "ipython",
    "version": 3
   },
   "file_extension": ".py",
   "mimetype": "text/x-python",
   "name": "python",
   "nbconvert_exporter": "python",
   "pygments_lexer": "ipython3",
   "version": "3.7.5"
  },
  "toc": {
   "base_numbering": 1,
   "nav_menu": {},
   "number_sections": true,
   "sideBar": true,
   "skip_h1_title": false,
   "title_cell": "Table of Contents",
   "title_sidebar": "Contents",
   "toc_cell": false,
   "toc_position": {},
   "toc_section_display": true,
   "toc_window_display": true
  }
 },
 "nbformat": 4,
 "nbformat_minor": 4
}
