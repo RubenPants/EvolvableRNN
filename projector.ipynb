{
 "cells": [
  {
   "cell_type": "markdown",
   "metadata": {},
   "source": [
    "# TensorBoard"
   ]
  },
  {
   "cell_type": "markdown",
   "metadata": {},
   "source": [
    "## Dependencies\n",
    "\n",
    "Note: the following dependencies were **not included** in the project's requirements file:\n",
    "* tensorflow\n",
    "* tensorboard\n",
    "* torch"
   ]
  },
  {
   "cell_type": "code",
   "execution_count": 1,
   "metadata": {},
   "outputs": [],
   "source": [
    "# Load in the used dependencies\n",
    "import os\n",
    "import numpy as np\n",
    "import tensorflow as tf\n",
    "import tensorboard as tb\n",
    "tf.io.gfile = tb.compat.tensorflow_stub.io.gfile\n",
    "from torch.utils.tensorboard import SummaryWriter\n",
    "import pandas as pd\n",
    "import seaborn as sns\n",
    "import matplotlib.pyplot as plt"
   ]
  },
  {
   "cell_type": "markdown",
   "metadata": {},
   "source": [
    "## Data\n",
    "\n",
    "### Hyperparameters"
   ]
  },
  {
   "cell_type": "code",
   "execution_count": 2,
   "metadata": {},
   "outputs": [],
   "source": [
    "LOG_DIR = './population_backup/storage/experiment6/'\n",
    "topology_id = 3\n",
    "overwrite = True\n",
    "rm_duplicates = False  # Remove all samples with at least 'dup_columns' duplicate values\n",
    "dup_columns = None  # Number of duplicated columns a single sample has before removal\n",
    "filter_score = True  # Filter out samples having a fitness of min_fitness or more \n",
    "classify = True  # Classify the samples based on the connections"
   ]
  },
  {
   "cell_type": "code",
   "execution_count": 3,
   "metadata": {},
   "outputs": [],
   "source": [
    "if topology_id in [2,3,222,3333]:\n",
    "    min_fitness = 1  # GRU is capable of finding all targets\n",
    "elif topology_id in [22]:\n",
    "    min_fitness = 0.6  # Best score of 11/18\n",
    "else:\n",
    "    raise Exception(f\"Add topology ID '{topology_id}'\")"
   ]
  },
  {
   "cell_type": "markdown",
   "metadata": {},
   "source": [
    "### Fetch"
   ]
  },
  {
   "cell_type": "code",
   "execution_count": 4,
   "metadata": {},
   "outputs": [],
   "source": [
    "# Setup the header\n",
    "head = ['fitness']\n",
    "if topology_id in [1, 2, 3]:  # GRU populations\n",
    "    head += ['bias_r', 'bias_z', 'bias_h',\n",
    "             'weight_xr', 'weight_xz', 'weight_xh',\n",
    "             'weight_hr', 'weight_hz', 'weight_hh']\n",
    "elif topology_id in [22, 33]:  # SRU populations\n",
    "    head += ['bias_h', 'weight_xh', 'weight_hh']\n",
    "elif topology_id in [2222, 3333]:\n",
    "    head += ['bias_z', 'bias_h',\n",
    "             'weight_xz', 'weight_xh',\n",
    "             'weight_hz', 'weight_hh']\n",
    "elif topology_id in [222, 333]:\n",
    "    head += ['delay', 'scale', 'resting']\n",
    "else:\n",
    "    raise Exception(f\"Topology ID '{topology_id}' not supported!\")\n",
    "\n",
    "if topology_id in [1]:\n",
    "    head += ['conn1', 'conn2']\n",
    "elif topology_id in [2, 22, 222, 2222]:\n",
    "    head += ['bias_rw', 'conn2']\n",
    "elif topology_id in [3, 33, 333, 3333]:\n",
    "    head += ['bias_rw', 'conn0', 'conn1', 'conn2']\n",
    "else:\n",
    "    raise Exception(f\"Topology ID '{topology_id}' not supported!\")"
   ]
  },
  {
   "cell_type": "code",
   "execution_count": 5,
   "metadata": {},
   "outputs": [
    {
     "name": "stdout",
     "output_type": "stream",
     "text": [
      "Data shape: (45610, 13)\n",
      "Meta shape: (45610,)\n"
     ]
    }
   ],
   "source": [
    "# Check if tsv files already exist\n",
    "raw_path = os.path.join(LOG_DIR, f'topology_{topology_id}/data/topology_{topology_id}.csv')\n",
    "data_path = os.path.join(LOG_DIR, f'topology_{topology_id}/data/data.tsv')\n",
    "meta_path = os.path.join(LOG_DIR, f'topology_{topology_id}/data/meta.tsv')\n",
    "\n",
    "# Load in the data (without header)\n",
    "if not overwrite and os.path.exists(data_path):\n",
    "    data = np.genfromtxt(data_path, delimiter='\\t')\n",
    "    meta = np.genfromtxt(meta_path, delimiter='\\t')\n",
    "else:\n",
    "    raw = np.genfromtxt(raw_path, delimiter=',')[1:]\n",
    "    data = raw[:,:-1]\n",
    "    meta = raw[:,-1]\n",
    "    np.savetxt(data_path, data, delimiter='\\t')\n",
    "    np.savetxt(meta_path, meta, delimiter='\\t')\n",
    "\n",
    "# Print shape:\n",
    "print(f\"Data shape: {data.shape}\")\n",
    "print(f\"Meta shape: {meta.shape}\")"
   ]
  },
  {
   "cell_type": "code",
   "execution_count": 6,
   "metadata": {},
   "outputs": [],
   "source": [
    "# Transform to pandas dataframe (easier to manipulate)\n",
    "data_pd = pd.DataFrame(data, columns=head[1:])\n",
    "meta_pd = pd.DataFrame(meta, columns=head[:1])"
   ]
  },
  {
   "cell_type": "code",
   "execution_count": 7,
   "metadata": {},
   "outputs": [
    {
     "data": {
      "text/html": [
       "<div>\n",
       "<style scoped>\n",
       "    .dataframe tbody tr th:only-of-type {\n",
       "        vertical-align: middle;\n",
       "    }\n",
       "\n",
       "    .dataframe tbody tr th {\n",
       "        vertical-align: top;\n",
       "    }\n",
       "\n",
       "    .dataframe thead th {\n",
       "        text-align: right;\n",
       "    }\n",
       "</style>\n",
       "<table border=\"1\" class=\"dataframe\">\n",
       "  <thead>\n",
       "    <tr style=\"text-align: right;\">\n",
       "      <th></th>\n",
       "      <th>bias_r</th>\n",
       "      <th>bias_z</th>\n",
       "      <th>bias_h</th>\n",
       "      <th>weight_xr</th>\n",
       "      <th>weight_xz</th>\n",
       "      <th>weight_xh</th>\n",
       "      <th>weight_hr</th>\n",
       "      <th>weight_hz</th>\n",
       "      <th>weight_hh</th>\n",
       "      <th>bias_rw</th>\n",
       "      <th>conn0</th>\n",
       "      <th>conn1</th>\n",
       "      <th>conn2</th>\n",
       "    </tr>\n",
       "  </thead>\n",
       "  <tbody>\n",
       "    <tr>\n",
       "      <th>0</th>\n",
       "      <td>-2.654714</td>\n",
       "      <td>2.378201</td>\n",
       "      <td>0.524675</td>\n",
       "      <td>3.505099</td>\n",
       "      <td>-0.555603</td>\n",
       "      <td>0.958105</td>\n",
       "      <td>-2.423341</td>\n",
       "      <td>-4.700958</td>\n",
       "      <td>-0.579677</td>\n",
       "      <td>2.258131</td>\n",
       "      <td>-1.591773</td>\n",
       "      <td>-2.661706</td>\n",
       "      <td>-3.176652</td>\n",
       "    </tr>\n",
       "    <tr>\n",
       "      <th>1</th>\n",
       "      <td>-2.654714</td>\n",
       "      <td>2.378201</td>\n",
       "      <td>0.524675</td>\n",
       "      <td>3.551858</td>\n",
       "      <td>-0.555603</td>\n",
       "      <td>0.958105</td>\n",
       "      <td>-2.423341</td>\n",
       "      <td>-4.700958</td>\n",
       "      <td>-0.198581</td>\n",
       "      <td>2.258131</td>\n",
       "      <td>-1.591773</td>\n",
       "      <td>-2.661706</td>\n",
       "      <td>-3.176652</td>\n",
       "    </tr>\n",
       "    <tr>\n",
       "      <th>2</th>\n",
       "      <td>-2.654714</td>\n",
       "      <td>2.378201</td>\n",
       "      <td>0.524675</td>\n",
       "      <td>3.505099</td>\n",
       "      <td>-0.555603</td>\n",
       "      <td>0.958105</td>\n",
       "      <td>-2.423341</td>\n",
       "      <td>-4.700958</td>\n",
       "      <td>-0.579677</td>\n",
       "      <td>2.258131</td>\n",
       "      <td>-1.591773</td>\n",
       "      <td>-2.661706</td>\n",
       "      <td>-3.176652</td>\n",
       "    </tr>\n",
       "    <tr>\n",
       "      <th>3</th>\n",
       "      <td>-2.877392</td>\n",
       "      <td>2.456087</td>\n",
       "      <td>0.524675</td>\n",
       "      <td>-4.081224</td>\n",
       "      <td>-0.241180</td>\n",
       "      <td>0.958105</td>\n",
       "      <td>0.909630</td>\n",
       "      <td>-4.551147</td>\n",
       "      <td>-0.791267</td>\n",
       "      <td>2.258131</td>\n",
       "      <td>-1.591773</td>\n",
       "      <td>-2.810586</td>\n",
       "      <td>-3.181079</td>\n",
       "    </tr>\n",
       "    <tr>\n",
       "      <th>4</th>\n",
       "      <td>-1.365733</td>\n",
       "      <td>2.456087</td>\n",
       "      <td>0.524675</td>\n",
       "      <td>-4.081224</td>\n",
       "      <td>-0.079437</td>\n",
       "      <td>0.958105</td>\n",
       "      <td>1.124392</td>\n",
       "      <td>-4.551147</td>\n",
       "      <td>-0.579677</td>\n",
       "      <td>2.258131</td>\n",
       "      <td>-1.591773</td>\n",
       "      <td>-3.298439</td>\n",
       "      <td>-3.176652</td>\n",
       "    </tr>\n",
       "  </tbody>\n",
       "</table>\n",
       "</div>"
      ],
      "text/plain": [
       "     bias_r    bias_z    bias_h  weight_xr  weight_xz  weight_xh  weight_hr  \\\n",
       "0 -2.654714  2.378201  0.524675   3.505099  -0.555603   0.958105  -2.423341   \n",
       "1 -2.654714  2.378201  0.524675   3.551858  -0.555603   0.958105  -2.423341   \n",
       "2 -2.654714  2.378201  0.524675   3.505099  -0.555603   0.958105  -2.423341   \n",
       "3 -2.877392  2.456087  0.524675  -4.081224  -0.241180   0.958105   0.909630   \n",
       "4 -1.365733  2.456087  0.524675  -4.081224  -0.079437   0.958105   1.124392   \n",
       "\n",
       "   weight_hz  weight_hh   bias_rw     conn0     conn1     conn2  \n",
       "0  -4.700958  -0.579677  2.258131 -1.591773 -2.661706 -3.176652  \n",
       "1  -4.700958  -0.198581  2.258131 -1.591773 -2.661706 -3.176652  \n",
       "2  -4.700958  -0.579677  2.258131 -1.591773 -2.661706 -3.176652  \n",
       "3  -4.551147  -0.791267  2.258131 -1.591773 -2.810586 -3.181079  \n",
       "4  -4.551147  -0.579677  2.258131 -1.591773 -3.298439 -3.176652  "
      ]
     },
     "execution_count": 7,
     "metadata": {},
     "output_type": "execute_result"
    }
   ],
   "source": [
    "data_pd.head()"
   ]
  },
  {
   "cell_type": "code",
   "execution_count": 8,
   "metadata": {},
   "outputs": [
    {
     "data": {
      "text/html": [
       "<div>\n",
       "<style scoped>\n",
       "    .dataframe tbody tr th:only-of-type {\n",
       "        vertical-align: middle;\n",
       "    }\n",
       "\n",
       "    .dataframe tbody tr th {\n",
       "        vertical-align: top;\n",
       "    }\n",
       "\n",
       "    .dataframe thead th {\n",
       "        text-align: right;\n",
       "    }\n",
       "</style>\n",
       "<table border=\"1\" class=\"dataframe\">\n",
       "  <thead>\n",
       "    <tr style=\"text-align: right;\">\n",
       "      <th></th>\n",
       "      <th>fitness</th>\n",
       "    </tr>\n",
       "  </thead>\n",
       "  <tbody>\n",
       "    <tr>\n",
       "      <th>0</th>\n",
       "      <td>0.833333</td>\n",
       "    </tr>\n",
       "    <tr>\n",
       "      <th>1</th>\n",
       "      <td>0.833333</td>\n",
       "    </tr>\n",
       "    <tr>\n",
       "      <th>2</th>\n",
       "      <td>0.833333</td>\n",
       "    </tr>\n",
       "    <tr>\n",
       "      <th>3</th>\n",
       "      <td>0.888889</td>\n",
       "    </tr>\n",
       "    <tr>\n",
       "      <th>4</th>\n",
       "      <td>0.888889</td>\n",
       "    </tr>\n",
       "  </tbody>\n",
       "</table>\n",
       "</div>"
      ],
      "text/plain": [
       "    fitness\n",
       "0  0.833333\n",
       "1  0.833333\n",
       "2  0.833333\n",
       "3  0.888889\n",
       "4  0.888889"
      ]
     },
     "execution_count": 8,
     "metadata": {},
     "output_type": "execute_result"
    }
   ],
   "source": [
    "meta_pd.head()"
   ]
  },
  {
   "cell_type": "markdown",
   "metadata": {},
   "source": [
    "### Filter the data"
   ]
  },
  {
   "cell_type": "code",
   "execution_count": 9,
   "metadata": {},
   "outputs": [
    {
     "name": "stdout",
     "output_type": "stream",
     "text": [
      "Data shape: (33585, 13)\n",
      "Meta shape: (33585, 1)\n"
     ]
    }
   ],
   "source": [
    "# Filter out the complete duplicates\n",
    "indices = data_pd.duplicated()\n",
    "data_pd = data_pd[~indices.values]\n",
    "meta_pd = meta_pd[~indices.values]\n",
    "print(f\"Data shape: {data_pd.shape}\")\n",
    "print(f\"Meta shape: {meta_pd.shape}\")"
   ]
  },
  {
   "cell_type": "code",
   "execution_count": 10,
   "metadata": {},
   "outputs": [
    {
     "name": "stdout",
     "output_type": "stream",
     "text": [
      "Data shape: (11334, 13)\n",
      "Meta shape: (11334, 1)\n"
     ]
    }
   ],
   "source": [
    "# For example, if you want to see only fitnesses of 1 (perfect score).\n",
    "if filter_score:\n",
    "    indices = meta_pd >= min_fitness\n",
    "    data_pd = data_pd[indices.values]\n",
    "    meta_pd = meta_pd[indices.values]\n",
    "    print(f\"Data shape: {data_pd.shape}\")\n",
    "    print(f\"Meta shape: {meta_pd.shape}\")"
   ]
  },
  {
   "cell_type": "code",
   "execution_count": 11,
   "metadata": {},
   "outputs": [],
   "source": [
    "# Filter out all the samples that have at least one duplicate value (in each of its columns)\n",
    "if rm_duplicates:\n",
    "    indices = (meta_pd<0).astype(int).values.flatten()  # Little hack\n",
    "    for h in head[1:]:\n",
    "        indices += data_pd.duplicated(subset=h).astype(int).values\n",
    "\n",
    "    # Remove all that exceed the set threshold\n",
    "    data_pd = data_pd[indices < dup_columns]\n",
    "    meta_pd = meta_pd[indices < dup_columns]\n",
    "    print(f\"Dropping duplicates that occur in {dup_columns} columns or more\")\n",
    "    print(f\" > Data shape: {data_pd.shape}\")\n",
    "    print(f\" > Meta shape: {meta_pd.shape}\")"
   ]
  },
  {
   "cell_type": "code",
   "execution_count": 12,
   "metadata": {},
   "outputs": [
    {
     "data": {
      "text/html": [
       "<div>\n",
       "<style scoped>\n",
       "    .dataframe tbody tr th:only-of-type {\n",
       "        vertical-align: middle;\n",
       "    }\n",
       "\n",
       "    .dataframe tbody tr th {\n",
       "        vertical-align: top;\n",
       "    }\n",
       "\n",
       "    .dataframe thead th {\n",
       "        text-align: right;\n",
       "    }\n",
       "</style>\n",
       "<table border=\"1\" class=\"dataframe\">\n",
       "  <thead>\n",
       "    <tr style=\"text-align: right;\">\n",
       "      <th></th>\n",
       "      <th>bias_r</th>\n",
       "      <th>bias_z</th>\n",
       "      <th>bias_h</th>\n",
       "      <th>weight_xr</th>\n",
       "      <th>weight_xz</th>\n",
       "      <th>weight_xh</th>\n",
       "      <th>weight_hr</th>\n",
       "      <th>weight_hz</th>\n",
       "      <th>weight_hh</th>\n",
       "      <th>bias_rw</th>\n",
       "      <th>conn0</th>\n",
       "      <th>conn1</th>\n",
       "      <th>conn2</th>\n",
       "    </tr>\n",
       "  </thead>\n",
       "  <tbody>\n",
       "    <tr>\n",
       "      <th>150</th>\n",
       "      <td>1.379528</td>\n",
       "      <td>1.284594</td>\n",
       "      <td>-1.318545</td>\n",
       "      <td>2.005841</td>\n",
       "      <td>1.142604</td>\n",
       "      <td>1.14685</td>\n",
       "      <td>1.289321</td>\n",
       "      <td>-1.627283</td>\n",
       "      <td>-2.057124</td>\n",
       "      <td>2.420804</td>\n",
       "      <td>4.512758</td>\n",
       "      <td>4.153022</td>\n",
       "      <td>-4.971565</td>\n",
       "    </tr>\n",
       "    <tr>\n",
       "      <th>151</th>\n",
       "      <td>1.379528</td>\n",
       "      <td>1.284594</td>\n",
       "      <td>-1.318545</td>\n",
       "      <td>1.986390</td>\n",
       "      <td>1.142604</td>\n",
       "      <td>1.14685</td>\n",
       "      <td>1.289321</td>\n",
       "      <td>-1.627283</td>\n",
       "      <td>-2.057124</td>\n",
       "      <td>2.420804</td>\n",
       "      <td>4.512758</td>\n",
       "      <td>4.153022</td>\n",
       "      <td>-4.971565</td>\n",
       "    </tr>\n",
       "    <tr>\n",
       "      <th>152</th>\n",
       "      <td>1.379528</td>\n",
       "      <td>1.284594</td>\n",
       "      <td>-1.318545</td>\n",
       "      <td>2.005841</td>\n",
       "      <td>1.246766</td>\n",
       "      <td>1.14685</td>\n",
       "      <td>1.289321</td>\n",
       "      <td>-1.627283</td>\n",
       "      <td>-2.057124</td>\n",
       "      <td>2.420804</td>\n",
       "      <td>4.512758</td>\n",
       "      <td>4.153022</td>\n",
       "      <td>-4.971565</td>\n",
       "    </tr>\n",
       "    <tr>\n",
       "      <th>153</th>\n",
       "      <td>1.379528</td>\n",
       "      <td>1.284594</td>\n",
       "      <td>-1.318545</td>\n",
       "      <td>2.005841</td>\n",
       "      <td>1.142604</td>\n",
       "      <td>1.14685</td>\n",
       "      <td>1.289321</td>\n",
       "      <td>-1.780278</td>\n",
       "      <td>-2.057124</td>\n",
       "      <td>2.420804</td>\n",
       "      <td>4.512758</td>\n",
       "      <td>4.153022</td>\n",
       "      <td>-4.971565</td>\n",
       "    </tr>\n",
       "    <tr>\n",
       "      <th>155</th>\n",
       "      <td>1.379528</td>\n",
       "      <td>1.284594</td>\n",
       "      <td>-1.318545</td>\n",
       "      <td>2.005841</td>\n",
       "      <td>1.142604</td>\n",
       "      <td>1.14685</td>\n",
       "      <td>1.355030</td>\n",
       "      <td>-1.780278</td>\n",
       "      <td>-2.029475</td>\n",
       "      <td>2.420804</td>\n",
       "      <td>4.512758</td>\n",
       "      <td>4.153022</td>\n",
       "      <td>-4.971565</td>\n",
       "    </tr>\n",
       "  </tbody>\n",
       "</table>\n",
       "</div>"
      ],
      "text/plain": [
       "       bias_r    bias_z    bias_h  weight_xr  weight_xz  weight_xh  weight_hr  \\\n",
       "150  1.379528  1.284594 -1.318545   2.005841   1.142604    1.14685   1.289321   \n",
       "151  1.379528  1.284594 -1.318545   1.986390   1.142604    1.14685   1.289321   \n",
       "152  1.379528  1.284594 -1.318545   2.005841   1.246766    1.14685   1.289321   \n",
       "153  1.379528  1.284594 -1.318545   2.005841   1.142604    1.14685   1.289321   \n",
       "155  1.379528  1.284594 -1.318545   2.005841   1.142604    1.14685   1.355030   \n",
       "\n",
       "     weight_hz  weight_hh   bias_rw     conn0     conn1     conn2  \n",
       "150  -1.627283  -2.057124  2.420804  4.512758  4.153022 -4.971565  \n",
       "151  -1.627283  -2.057124  2.420804  4.512758  4.153022 -4.971565  \n",
       "152  -1.627283  -2.057124  2.420804  4.512758  4.153022 -4.971565  \n",
       "153  -1.780278  -2.057124  2.420804  4.512758  4.153022 -4.971565  \n",
       "155  -1.780278  -2.029475  2.420804  4.512758  4.153022 -4.971565  "
      ]
     },
     "execution_count": 12,
     "metadata": {},
     "output_type": "execute_result"
    }
   ],
   "source": [
    "data_pd.head()"
   ]
  },
  {
   "cell_type": "markdown",
   "metadata": {},
   "source": [
    "### Visualize the data\n",
    "\n",
    "Remark: Symmetry in data clearly by conn1 (this is the connection between GRU node and output of the global network) "
   ]
  },
  {
   "cell_type": "code",
   "execution_count": 13,
   "metadata": {},
   "outputs": [
    {
     "name": "stdout",
     "output_type": "stream",
     "text": [
      "Data shape: (11334, 13)\n"
     ]
    },
    {
     "data": {
      "image/png": "[encoded data removed]",
      "text/plain": [
       "<Figure size 1080x216 with 1 Axes>"
      ]
     },
     "metadata": {
      "needs_background": "light"
     },
     "output_type": "display_data"
    }
   ],
   "source": [
    "# indices = (data_pd['bias_rw'] >= 2) & (data_pd['conn2'] >= -3)\n",
    "indices = (data_pd['bias_rw'] != 0)\n",
    "temp = data_pd[indices.values]\n",
    "print(f\"Data shape: {temp.shape}\")\n",
    "plt.figure(figsize=(15,3))\n",
    "temp.boxplot()\n",
    "plt.ylim(-6,6)\n",
    "plt.show()\n",
    "plt.close()"
   ]
  },
  {
   "cell_type": "code",
   "execution_count": 14,
   "metadata": {},
   "outputs": [
    {
     "name": "stdout",
     "output_type": "stream",
     "text": [
      "1957 - 0.5762833831064813 - 0.198 - 0.378\n",
      "1963 - 0.9529252903879901 - 0.198 - 0.755\n",
      "2263 - 0.4443432272871324 - 0.15 - 0.294\n",
      "7221 - 0.9465595239271742 - 0.389 - 0.558\n",
      "9758 - 0.8884574316618199 - 0.356 - 0.532\n"
     ]
    }
   ],
   "source": [
    "for i, v in enumerate(temp.values):\n",
    "    a = abs(v[3]-2.1088881375106086)\n",
    "    b = abs(v[4]+2.819266855899976)\n",
    "    if  a+b < 1:\n",
    "        print(i, \"-\", a+b,\"-\", round(a,3), \"-\", round(b,3))"
   ]
  },
  {
   "cell_type": "code",
   "execution_count": 15,
   "metadata": {},
   "outputs": [
    {
     "data": {
      "text/html": [
       "<div>\n",
       "<style scoped>\n",
       "    .dataframe tbody tr th:only-of-type {\n",
       "        vertical-align: middle;\n",
       "    }\n",
       "\n",
       "    .dataframe tbody tr th {\n",
       "        vertical-align: top;\n",
       "    }\n",
       "\n",
       "    .dataframe thead th {\n",
       "        text-align: right;\n",
       "    }\n",
       "</style>\n",
       "<table border=\"1\" class=\"dataframe\">\n",
       "  <thead>\n",
       "    <tr style=\"text-align: right;\">\n",
       "      <th></th>\n",
       "      <th>bias_r</th>\n",
       "      <th>bias_z</th>\n",
       "      <th>bias_h</th>\n",
       "      <th>weight_xr</th>\n",
       "      <th>weight_xz</th>\n",
       "      <th>weight_xh</th>\n",
       "      <th>weight_hr</th>\n",
       "      <th>weight_hz</th>\n",
       "      <th>weight_hh</th>\n",
       "      <th>bias_rw</th>\n",
       "      <th>conn0</th>\n",
       "      <th>conn1</th>\n",
       "      <th>conn2</th>\n",
       "    </tr>\n",
       "  </thead>\n",
       "  <tbody>\n",
       "    <tr>\n",
       "      <th>150</th>\n",
       "      <td>1.379528</td>\n",
       "      <td>1.284594</td>\n",
       "      <td>-1.318545</td>\n",
       "      <td>2.005841</td>\n",
       "      <td>1.142604</td>\n",
       "      <td>1.14685</td>\n",
       "      <td>1.289321</td>\n",
       "      <td>-1.627283</td>\n",
       "      <td>-2.057124</td>\n",
       "      <td>2.420804</td>\n",
       "      <td>4.512758</td>\n",
       "      <td>4.153022</td>\n",
       "      <td>-4.971565</td>\n",
       "    </tr>\n",
       "    <tr>\n",
       "      <th>151</th>\n",
       "      <td>1.379528</td>\n",
       "      <td>1.284594</td>\n",
       "      <td>-1.318545</td>\n",
       "      <td>1.986390</td>\n",
       "      <td>1.142604</td>\n",
       "      <td>1.14685</td>\n",
       "      <td>1.289321</td>\n",
       "      <td>-1.627283</td>\n",
       "      <td>-2.057124</td>\n",
       "      <td>2.420804</td>\n",
       "      <td>4.512758</td>\n",
       "      <td>4.153022</td>\n",
       "      <td>-4.971565</td>\n",
       "    </tr>\n",
       "    <tr>\n",
       "      <th>152</th>\n",
       "      <td>1.379528</td>\n",
       "      <td>1.284594</td>\n",
       "      <td>-1.318545</td>\n",
       "      <td>2.005841</td>\n",
       "      <td>1.246766</td>\n",
       "      <td>1.14685</td>\n",
       "      <td>1.289321</td>\n",
       "      <td>-1.627283</td>\n",
       "      <td>-2.057124</td>\n",
       "      <td>2.420804</td>\n",
       "      <td>4.512758</td>\n",
       "      <td>4.153022</td>\n",
       "      <td>-4.971565</td>\n",
       "    </tr>\n",
       "    <tr>\n",
       "      <th>153</th>\n",
       "      <td>1.379528</td>\n",
       "      <td>1.284594</td>\n",
       "      <td>-1.318545</td>\n",
       "      <td>2.005841</td>\n",
       "      <td>1.142604</td>\n",
       "      <td>1.14685</td>\n",
       "      <td>1.289321</td>\n",
       "      <td>-1.780278</td>\n",
       "      <td>-2.057124</td>\n",
       "      <td>2.420804</td>\n",
       "      <td>4.512758</td>\n",
       "      <td>4.153022</td>\n",
       "      <td>-4.971565</td>\n",
       "    </tr>\n",
       "    <tr>\n",
       "      <th>155</th>\n",
       "      <td>1.379528</td>\n",
       "      <td>1.284594</td>\n",
       "      <td>-1.318545</td>\n",
       "      <td>2.005841</td>\n",
       "      <td>1.142604</td>\n",
       "      <td>1.14685</td>\n",
       "      <td>1.355030</td>\n",
       "      <td>-1.780278</td>\n",
       "      <td>-2.029475</td>\n",
       "      <td>2.420804</td>\n",
       "      <td>4.512758</td>\n",
       "      <td>4.153022</td>\n",
       "      <td>-4.971565</td>\n",
       "    </tr>\n",
       "  </tbody>\n",
       "</table>\n",
       "</div>"
      ],
      "text/plain": [
       "       bias_r    bias_z    bias_h  weight_xr  weight_xz  weight_xh  weight_hr  \\\n",
       "150  1.379528  1.284594 -1.318545   2.005841   1.142604    1.14685   1.289321   \n",
       "151  1.379528  1.284594 -1.318545   1.986390   1.142604    1.14685   1.289321   \n",
       "152  1.379528  1.284594 -1.318545   2.005841   1.246766    1.14685   1.289321   \n",
       "153  1.379528  1.284594 -1.318545   2.005841   1.142604    1.14685   1.289321   \n",
       "155  1.379528  1.284594 -1.318545   2.005841   1.142604    1.14685   1.355030   \n",
       "\n",
       "     weight_hz  weight_hh   bias_rw     conn0     conn1     conn2  \n",
       "150  -1.627283  -2.057124  2.420804  4.512758  4.153022 -4.971565  \n",
       "151  -1.627283  -2.057124  2.420804  4.512758  4.153022 -4.971565  \n",
       "152  -1.627283  -2.057124  2.420804  4.512758  4.153022 -4.971565  \n",
       "153  -1.780278  -2.057124  2.420804  4.512758  4.153022 -4.971565  \n",
       "155  -1.780278  -2.029475  2.420804  4.512758  4.153022 -4.971565  "
      ]
     },
     "execution_count": 15,
     "metadata": {},
     "output_type": "execute_result"
    }
   ],
   "source": [
    "temp.head()"
   ]
  },
  {
   "cell_type": "code",
   "execution_count": 16,
   "metadata": {},
   "outputs": [
    {
     "data": {
      "text/plain": [
       "1.1426044978770922"
      ]
     },
     "execution_count": 16,
     "metadata": {},
     "output_type": "execute_result"
    }
   ],
   "source": [
    "temp.values[1][4]"
   ]
  },
  {
   "cell_type": "code",
   "execution_count": 17,
   "metadata": {},
   "outputs": [
    {
     "data": {
      "image/png": "[encoded data removed]",
      "text/plain": [
       "<Figure size 1080x216 with 1 Axes>"
      ]
     },
     "metadata": {
      "needs_background": "light"
     },
     "output_type": "display_data"
    }
   ],
   "source": [
    "plt.figure(figsize=(15,3))\n",
    "data_pd.boxplot()\n",
    "plt.show()\n",
    "plt.close()"
   ]
  },
  {
   "cell_type": "code",
   "execution_count": 18,
   "metadata": {},
   "outputs": [],
   "source": [
    "def adapt_and_show(data, indices=None):\n",
    "    data_temp = data\n",
    "    if indices is not None: data_temp = data_temp[indices.values]\n",
    "    print(f\"Size: {data_temp.shape}\")\n",
    "    plt.figure(figsize=(15,5))\n",
    "    for i, h in enumerate(head[1:]):\n",
    "        plt.subplot(int(len(head)/6+1),6,i+1)\n",
    "        sns.violinplot(data_temp[h])\n",
    "        plt.title(h)\n",
    "        if 'delay' in h:\n",
    "            continue\n",
    "        if 'bias' in h or 'resting' in h:\n",
    "            plt.xlim(-3,3)\n",
    "        else:\n",
    "            plt.xlim(-6,6)\n",
    "        plt.yticks([])\n",
    "    plt.tight_layout()\n",
    "    plt.show()\n",
    "    plt.close()"
   ]
  },
  {
   "cell_type": "code",
   "execution_count": 19,
   "metadata": {},
   "outputs": [
    {
     "name": "stdout",
     "output_type": "stream",
     "text": [
      "Size: (11334, 13)\n"
     ]
    },
    {
     "data": {
      "image/png": "[encoded data removed]",
      "text/plain": [
       "<Figure size 1080x360 with 13 Axes>"
      ]
     },
     "metadata": {
      "needs_background": "light"
     },
     "output_type": "display_data"
    }
   ],
   "source": [
    "# indices = (data_pd['conn1'] > 0) & (data_pd['conn0'] > 0)\n",
    "indices = None\n",
    "adapt_and_show(data_pd, indices)"
   ]
  },
  {
   "cell_type": "code",
   "execution_count": 20,
   "metadata": {},
   "outputs": [],
   "source": [
    "# h = 'bias_h'\n",
    "# t = '$c_0$'\n",
    "# plt.figure(figsize=(3,1.3))\n",
    "# sns.violinplot(data_pd[h])\n",
    "# plt.title(t)\n",
    "# if 'bias' in h:\n",
    "#     plt.xlim(-3,3)\n",
    "# else:\n",
    "#     plt.xlim(-6,6)\n",
    "# plt.ylim(0)\n",
    "# plt.yticks([])\n",
    "# plt.xlabel('')\n",
    "# plt.tight_layout()\n",
    "# plt.savefig(f\"delete_me/{h}.png\", bbox_inches='tight', pad_inches=0.02)\n",
    "# plt.show()\n",
    "# plt.close()"
   ]
  },
  {
   "cell_type": "markdown",
   "metadata": {},
   "source": [
    "### Add column\n",
    "\n",
    "Add a class column, used for visualisation in the Projector."
   ]
  },
  {
   "cell_type": "code",
   "execution_count": 21,
   "metadata": {},
   "outputs": [],
   "source": [
    "def classify_connections(r):\n",
    "    if r['conn0'] >= 0 and r['conn1'] >= 0:\n",
    "        return \"PP\"  # Positive Positive\n",
    "    elif r['conn0'] >= 0 and r['conn1'] < 0:\n",
    "        return \"PN\"  # Positive Negative\n",
    "    elif r['conn0'] < 0 and r['conn1'] >= 0:\n",
    "        return \"NP\"  # Negative Positive\n",
    "    else:\n",
    "        return \"NN\"  # Negative Negative"
   ]
  },
  {
   "cell_type": "code",
   "execution_count": 22,
   "metadata": {},
   "outputs": [],
   "source": [
    "classes = None\n",
    "if classify:\n",
    "    classes = data_pd.apply(lambda row: classify_connections(row), axis=1).values"
   ]
  },
  {
   "cell_type": "markdown",
   "metadata": {},
   "source": [
    "### Format\n",
    "\n",
    "Create labels for visualisation."
   ]
  },
  {
   "cell_type": "code",
   "execution_count": 23,
   "metadata": {},
   "outputs": [
    {
     "name": "stdout",
     "output_type": "stream",
     "text": [
      "Data example: \n",
      "> [ 1.37952784  1.2845938  -1.31854468  2.00584058  1.1426045   1.14685034\n",
      "  1.28932122 -1.62728255 -2.0571236   2.42080414  4.51275769  4.15302192\n",
      " -4.97156486]\n",
      "Label example: \n",
      "> ['PP', '1.0', '1.37953', '1.28459', '-1.31854', '2.00584', '1.1426', '1.14685', '1.28932', '-1.62728', '-2.05712', '2.4208', '4.51276', '4.15302', '-4.97156']\n",
      "For header: \n",
      "> ['classes', 'fitness', 'bias_r', 'bias_z', 'bias_h', 'weight_xr', 'weight_xz', 'weight_xh', 'weight_hr', 'weight_hz', 'weight_hh', 'bias_rw', 'conn0', 'conn1', 'conn2']\n"
     ]
    }
   ],
   "source": [
    "# Create better labels\n",
    "meta_str = []\n",
    "for d, m in zip(data_pd.values, meta_pd.values):\n",
    "    s = [str(round(m[0], 2))]\n",
    "    s += [str(round(x, 5))for x in d]\n",
    "    meta_str.append(s)   \n",
    "    \n",
    "if classify:\n",
    "    if 'classes' not in head: head.insert(0, 'classes')\n",
    "    for i, m in enumerate(meta_str):\n",
    "        meta_str[i].insert(0, classes[i])\n",
    "\n",
    "# Example\n",
    "print(f\"Data example: \\n> {data_pd.values[0]}\")\n",
    "print(f\"Label example: \\n> {meta_str[0]}\")\n",
    "print(f\"For header: \\n> {head}\")"
   ]
  },
  {
   "cell_type": "markdown",
   "metadata": {},
   "source": [
    "## Magic\n",
    "\n",
    "Folder in which data is stored is \"runs/topology_1\" (always keep \"runs\"). Change this is you want to compare several configurations."
   ]
  },
  {
   "cell_type": "code",
   "execution_count": 24,
   "metadata": {
    "scrolled": false
   },
   "outputs": [
    {
     "name": "stdout",
     "output_type": "stream",
     "text": [
      "warning: Embedding dir exists, did you set global_step for add_embedding()?\n"
     ]
    },
    {
     "data": {
      "text/plain": [
       "Reusing TensorBoard on port 6006 (pid 55368), started 0:01:31 ago. (Use '!kill 55368' to kill it.)"
      ]
     },
     "metadata": {},
     "output_type": "display_data"
    },
    {
     "data": {
      "text/html": [
       "\n",
       "      <iframe id=\"tensorboard-frame-b7d955ad00520363\" width=\"100%\" height=\"800\" frameborder=\"0\">\n",
       "      </iframe>\n",
       "      <script>\n",
       "        (function() {\n",
       "          const frame = document.getElementById(\"tensorboard-frame-b7d955ad00520363\");\n",
       "          const url = new URL(\"/\", window.location);\n",
       "          url.port = 6006;\n",
       "          frame.src = url;\n",
       "        })();\n",
       "      </script>\n",
       "  "
      ],
      "text/plain": [
       "<IPython.core.display.HTML object>"
      ]
     },
     "metadata": {},
     "output_type": "display_data"
    }
   ],
   "source": [
    "%%capture\n",
    "# Fire up the TensorBoard\n",
    "writer = SummaryWriter(log_dir=f\"runs/topology_{topology_id}\")  # Overwrites if already exists\n",
    "writer.add_embedding(data_pd.to_numpy(), meta_str, metadata_header=head)\n",
    "writer.close()\n",
    "%load_ext tensorboard\n",
    "%tensorboard --logdir=runs\n",
    "\n",
    "# Tensorboard can be opened in separate tab: localhost:6006"
   ]
  },
  {
   "cell_type": "code",
   "execution_count": null,
   "metadata": {},
   "outputs": [],
   "source": []
  }
 ],
 "metadata": {
  "hide_input": false,
  "kernelspec": {
   "display_name": "Python 3",
   "language": "python",
   "name": "python3"
  },
  "language_info": {
   "codemirror_mode": {
    "name": "ipython",
    "version": 3
   },
   "file_extension": ".py",
   "mimetype": "text/x-python",
   "name": "python",
   "nbconvert_exporter": "python",
   "pygments_lexer": "ipython3",
   "version": "3.7.7"
  },
  "toc": {
   "base_numbering": 1,
   "nav_menu": {},
   "number_sections": true,
   "sideBar": true,
   "skip_h1_title": false,
   "title_cell": "Table of Contents",
   "title_sidebar": "Contents",
   "toc_cell": false,
   "toc_position": {},
   "toc_section_display": true,
   "toc_window_display": true
  }
 },
 "nbformat": 4,
 "nbformat_minor": 4
}
