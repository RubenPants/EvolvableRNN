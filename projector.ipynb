{
 "cells": [
  {
   "cell_type": "markdown",
   "metadata": {},
   "source": [
    "# TensorBoard"
   ]
  },
  {
   "cell_type": "markdown",
   "metadata": {},
   "source": [
    "## Dependencies\n",
    "\n",
    "Note: the following dependencies were **not included** in the project's requirements file:\n",
    "* tensorflow\n",
    "* tensorboard\n",
    "* torch"
   ]
  },
  {
   "cell_type": "code",
   "execution_count": 1,
   "metadata": {},
   "outputs": [],
   "source": [
    "# Load in the used dependencies\n",
    "import os\n",
    "import numpy as np\n",
    "import tensorflow as tf\n",
    "import tensorboard as tb\n",
    "tf.io.gfile = tb.compat.tensorflow_stub.io.gfile\n",
    "from torch.utils.tensorboard import SummaryWriter\n",
    "import pandas as pd\n",
    "import seaborn as sns\n",
    "import matplotlib.pyplot as plt"
   ]
  },
  {
   "cell_type": "markdown",
   "metadata": {},
   "source": [
    "## Data\n",
    "\n",
    "### Hyperparameters"
   ]
  },
  {
   "cell_type": "code",
   "execution_count": 2,
   "metadata": {},
   "outputs": [],
   "source": [
    "LOG_DIR = './population_backup/storage/experiment6/'\n",
    "topology_id = 2\n",
    "overwrite = True\n",
    "rm_duplicates = False  # Remove all samples with at least 'dup_columns' duplicate values\n",
    "dup_columns = None  # Number of duplicated columns a single sample has before removal\n",
    "perfect_score = True  # Filter to only contain samples that solve the problem"
   ]
  },
  {
   "cell_type": "markdown",
   "metadata": {},
   "source": [
    "### Fetch"
   ]
  },
  {
   "cell_type": "code",
   "execution_count": 3,
   "metadata": {},
   "outputs": [],
   "source": [
    "# Setup the header\n",
    "head = ['fitness']\n",
    "if topology_id in [1, 2, 3]:  # GRU populations\n",
    "    head += ['bias_r', 'bias_z', 'bias_h',\n",
    "             'weight_xr', 'weight_xz', 'weight_xh',\n",
    "             'weight_hr', 'weight_hz', 'weight_hh']\n",
    "elif topology_id in [4]:  # SRU populations\n",
    "    head += ['bias_h', 'weight_xh', 'weight_hh']\n",
    "else:\n",
    "    raise Exception(f\"Topology ID '{topology_id}' not supported!\")\n",
    "\n",
    "if topology_id in [1]:\n",
    "    head += ['conn1', 'conn2']\n",
    "elif topology_id in [2]:\n",
    "    head += ['bias_rw', 'conn2']\n",
    "elif topology_id in [3, 4]:\n",
    "    head += ['bias_rw', 'conn0', 'conn1', 'conn2']\n",
    "else:\n",
    "    raise Exception(f\"Topology ID '{topology_id}' not supported!\")"
   ]
  },
  {
   "cell_type": "code",
   "execution_count": 4,
   "metadata": {},
   "outputs": [
    {
     "name": "stdout",
     "output_type": "stream",
     "text": [
      "Data shape: (100052, 11)\n",
      "Meta shape: (100052,)\n"
     ]
    }
   ],
   "source": [
    "# Check if tsv files already exist\n",
    "raw_path = os.path.join(LOG_DIR, f'topology_{topology_id}/data/data.csv')\n",
    "data_path = os.path.join(LOG_DIR, f'topology_{topology_id}/data/data.tsv')\n",
    "meta_path = os.path.join(LOG_DIR, f'topology_{topology_id}/data/meta.tsv')\n",
    "\n",
    "# Load in the data (without header)\n",
    "if not overwrite and os.path.exists(data_path):\n",
    "    data = np.genfromtxt(data_path, delimiter='\\t')\n",
    "    meta = np.genfromtxt(meta_path, delimiter='\\t')\n",
    "else:\n",
    "    raw = np.genfromtxt(raw_path, delimiter=',')[1:]\n",
    "    data = raw[:,:-1]\n",
    "    meta = raw[:,-1]\n",
    "    np.savetxt(data_path, data, delimiter='\\t')\n",
    "    np.savetxt(meta_path, meta, delimiter='\\t')\n",
    "\n",
    "# Print shape:\n",
    "print(f\"Data shape: {data.shape}\")\n",
    "print(f\"Meta shape: {meta.shape}\")"
   ]
  },
  {
   "cell_type": "code",
   "execution_count": 5,
   "metadata": {},
   "outputs": [],
   "source": [
    "# Transform to pandas dataframe (easier to manipulate)\n",
    "data_pd = pd.DataFrame(data, columns=head[1:])\n",
    "meta_pd = pd.DataFrame(meta, columns=head[:1])"
   ]
  },
  {
   "cell_type": "code",
   "execution_count": 6,
   "metadata": {},
   "outputs": [
    {
     "data": {
      "text/html": [
       "<div>\n",
       "<style scoped>\n",
       "    .dataframe tbody tr th:only-of-type {\n",
       "        vertical-align: middle;\n",
       "    }\n",
       "\n",
       "    .dataframe tbody tr th {\n",
       "        vertical-align: top;\n",
       "    }\n",
       "\n",
       "    .dataframe thead th {\n",
       "        text-align: right;\n",
       "    }\n",
       "</style>\n",
       "<table border=\"1\" class=\"dataframe\">\n",
       "  <thead>\n",
       "    <tr style=\"text-align: right;\">\n",
       "      <th></th>\n",
       "      <th>bias_r</th>\n",
       "      <th>bias_z</th>\n",
       "      <th>bias_h</th>\n",
       "      <th>weight_xr</th>\n",
       "      <th>weight_xz</th>\n",
       "      <th>weight_xh</th>\n",
       "      <th>weight_hr</th>\n",
       "      <th>weight_hz</th>\n",
       "      <th>weight_hh</th>\n",
       "      <th>bias_rw</th>\n",
       "      <th>conn2</th>\n",
       "    </tr>\n",
       "  </thead>\n",
       "  <tbody>\n",
       "    <tr>\n",
       "      <th>0</th>\n",
       "      <td>-1.367109</td>\n",
       "      <td>2.090253</td>\n",
       "      <td>-0.449092</td>\n",
       "      <td>0.153726</td>\n",
       "      <td>0.932041</td>\n",
       "      <td>2.089773</td>\n",
       "      <td>3.355539</td>\n",
       "      <td>2.827017</td>\n",
       "      <td>-0.533423</td>\n",
       "      <td>1.80268</td>\n",
       "      <td>-3.405215</td>\n",
       "    </tr>\n",
       "    <tr>\n",
       "      <th>1</th>\n",
       "      <td>-1.936972</td>\n",
       "      <td>2.090253</td>\n",
       "      <td>-0.449092</td>\n",
       "      <td>-0.118474</td>\n",
       "      <td>0.708019</td>\n",
       "      <td>2.089773</td>\n",
       "      <td>3.536528</td>\n",
       "      <td>2.827017</td>\n",
       "      <td>-0.533423</td>\n",
       "      <td>1.80268</td>\n",
       "      <td>-3.405215</td>\n",
       "    </tr>\n",
       "    <tr>\n",
       "      <th>2</th>\n",
       "      <td>-1.367109</td>\n",
       "      <td>2.090253</td>\n",
       "      <td>-0.449092</td>\n",
       "      <td>0.153726</td>\n",
       "      <td>0.932041</td>\n",
       "      <td>2.089773</td>\n",
       "      <td>3.515875</td>\n",
       "      <td>2.827017</td>\n",
       "      <td>-0.533423</td>\n",
       "      <td>1.80268</td>\n",
       "      <td>-3.405215</td>\n",
       "    </tr>\n",
       "    <tr>\n",
       "      <th>3</th>\n",
       "      <td>-1.635319</td>\n",
       "      <td>2.090253</td>\n",
       "      <td>-0.449092</td>\n",
       "      <td>-0.118474</td>\n",
       "      <td>0.708019</td>\n",
       "      <td>2.089773</td>\n",
       "      <td>3.216672</td>\n",
       "      <td>2.827017</td>\n",
       "      <td>-0.533423</td>\n",
       "      <td>1.80268</td>\n",
       "      <td>-3.405215</td>\n",
       "    </tr>\n",
       "    <tr>\n",
       "      <th>4</th>\n",
       "      <td>-1.635319</td>\n",
       "      <td>2.090253</td>\n",
       "      <td>-0.449092</td>\n",
       "      <td>-0.118474</td>\n",
       "      <td>0.708019</td>\n",
       "      <td>2.089773</td>\n",
       "      <td>3.536528</td>\n",
       "      <td>2.827017</td>\n",
       "      <td>-0.533423</td>\n",
       "      <td>1.80268</td>\n",
       "      <td>-3.405215</td>\n",
       "    </tr>\n",
       "  </tbody>\n",
       "</table>\n",
       "</div>"
      ],
      "text/plain": [
       "     bias_r    bias_z    bias_h  weight_xr  weight_xz  weight_xh  weight_hr  \\\n",
       "0 -1.367109  2.090253 -0.449092   0.153726   0.932041   2.089773   3.355539   \n",
       "1 -1.936972  2.090253 -0.449092  -0.118474   0.708019   2.089773   3.536528   \n",
       "2 -1.367109  2.090253 -0.449092   0.153726   0.932041   2.089773   3.515875   \n",
       "3 -1.635319  2.090253 -0.449092  -0.118474   0.708019   2.089773   3.216672   \n",
       "4 -1.635319  2.090253 -0.449092  -0.118474   0.708019   2.089773   3.536528   \n",
       "\n",
       "   weight_hz  weight_hh  bias_rw     conn2  \n",
       "0   2.827017  -0.533423  1.80268 -3.405215  \n",
       "1   2.827017  -0.533423  1.80268 -3.405215  \n",
       "2   2.827017  -0.533423  1.80268 -3.405215  \n",
       "3   2.827017  -0.533423  1.80268 -3.405215  \n",
       "4   2.827017  -0.533423  1.80268 -3.405215  "
      ]
     },
     "execution_count": 6,
     "metadata": {},
     "output_type": "execute_result"
    }
   ],
   "source": [
    "data_pd.head()"
   ]
  },
  {
   "cell_type": "code",
   "execution_count": 7,
   "metadata": {},
   "outputs": [
    {
     "data": {
      "text/html": [
       "<div>\n",
       "<style scoped>\n",
       "    .dataframe tbody tr th:only-of-type {\n",
       "        vertical-align: middle;\n",
       "    }\n",
       "\n",
       "    .dataframe tbody tr th {\n",
       "        vertical-align: top;\n",
       "    }\n",
       "\n",
       "    .dataframe thead th {\n",
       "        text-align: right;\n",
       "    }\n",
       "</style>\n",
       "<table border=\"1\" class=\"dataframe\">\n",
       "  <thead>\n",
       "    <tr style=\"text-align: right;\">\n",
       "      <th></th>\n",
       "      <th>fitness</th>\n",
       "    </tr>\n",
       "  </thead>\n",
       "  <tbody>\n",
       "    <tr>\n",
       "      <th>0</th>\n",
       "      <td>0.888889</td>\n",
       "    </tr>\n",
       "    <tr>\n",
       "      <th>1</th>\n",
       "      <td>0.944444</td>\n",
       "    </tr>\n",
       "    <tr>\n",
       "      <th>2</th>\n",
       "      <td>0.888889</td>\n",
       "    </tr>\n",
       "    <tr>\n",
       "      <th>3</th>\n",
       "      <td>0.944444</td>\n",
       "    </tr>\n",
       "    <tr>\n",
       "      <th>4</th>\n",
       "      <td>0.944444</td>\n",
       "    </tr>\n",
       "  </tbody>\n",
       "</table>\n",
       "</div>"
      ],
      "text/plain": [
       "    fitness\n",
       "0  0.888889\n",
       "1  0.944444\n",
       "2  0.888889\n",
       "3  0.944444\n",
       "4  0.944444"
      ]
     },
     "execution_count": 7,
     "metadata": {},
     "output_type": "execute_result"
    }
   ],
   "source": [
    "meta_pd.head()"
   ]
  },
  {
   "cell_type": "markdown",
   "metadata": {},
   "source": [
    "### Filter the data"
   ]
  },
  {
   "cell_type": "code",
   "execution_count": 8,
   "metadata": {},
   "outputs": [
    {
     "name": "stdout",
     "output_type": "stream",
     "text": [
      "Data shape: (74885, 11)\n",
      "Meta shape: (74885, 1)\n"
     ]
    }
   ],
   "source": [
    "# Filter out the complete duplicates\n",
    "indices = data_pd.duplicated()\n",
    "data_pd = data_pd[~indices.values]\n",
    "meta_pd = meta_pd[~indices.values]\n",
    "print(f\"Data shape: {data_pd.shape}\")\n",
    "print(f\"Meta shape: {meta_pd.shape}\")"
   ]
  },
  {
   "cell_type": "code",
   "execution_count": 9,
   "metadata": {},
   "outputs": [
    {
     "name": "stdout",
     "output_type": "stream",
     "text": [
      "Data shape: (28037, 11)\n",
      "Meta shape: (28037, 1)\n"
     ]
    }
   ],
   "source": [
    "# For example, if you want to see only fitnesses of 1 (perfect score).\n",
    "if perfect_score:\n",
    "    indices = meta_pd == 1\n",
    "    data_pd = data_pd[indices.values]\n",
    "    meta_pd = meta_pd[indices.values]\n",
    "    print(f\"Data shape: {data_pd.shape}\")\n",
    "    print(f\"Meta shape: {meta_pd.shape}\")"
   ]
  },
  {
   "cell_type": "code",
   "execution_count": 10,
   "metadata": {},
   "outputs": [],
   "source": [
    "# Filter out all the samples that have at least one duplicate value (in each of its columns)\n",
    "if rm_duplicates:\n",
    "    indices = (meta_pd<0).astype(int).values.flatten()  # Little hack\n",
    "    for h in head[1:]:\n",
    "        indices += data_pd.duplicated(subset=h).astype(int).values\n",
    "\n",
    "    # Remove all that exceed the set threshold\n",
    "    data_pd = data_pd[indices < dup_columns]\n",
    "    meta_pd = meta_pd[indices < dup_columns]\n",
    "    print(f\"Dropping duplicates that occur in {dup_columns} columns or more\")\n",
    "    print(f\" > Data shape: {data_pd.shape}\")\n",
    "    print(f\" > Meta shape: {meta_pd.shape}\")"
   ]
  },
  {
   "cell_type": "code",
   "execution_count": 11,
   "metadata": {},
   "outputs": [
    {
     "data": {
      "text/html": [
       "<div>\n",
       "<style scoped>\n",
       "    .dataframe tbody tr th:only-of-type {\n",
       "        vertical-align: middle;\n",
       "    }\n",
       "\n",
       "    .dataframe tbody tr th {\n",
       "        vertical-align: top;\n",
       "    }\n",
       "\n",
       "    .dataframe thead th {\n",
       "        text-align: right;\n",
       "    }\n",
       "</style>\n",
       "<table border=\"1\" class=\"dataframe\">\n",
       "  <thead>\n",
       "    <tr style=\"text-align: right;\">\n",
       "      <th></th>\n",
       "      <th>bias_r</th>\n",
       "      <th>bias_z</th>\n",
       "      <th>bias_h</th>\n",
       "      <th>weight_xr</th>\n",
       "      <th>weight_xz</th>\n",
       "      <th>weight_xh</th>\n",
       "      <th>weight_hr</th>\n",
       "      <th>weight_hz</th>\n",
       "      <th>weight_hh</th>\n",
       "      <th>bias_rw</th>\n",
       "      <th>conn2</th>\n",
       "    </tr>\n",
       "  </thead>\n",
       "  <tbody>\n",
       "    <tr>\n",
       "      <th>45</th>\n",
       "      <td>-1.367109</td>\n",
       "      <td>2.090253</td>\n",
       "      <td>-0.449092</td>\n",
       "      <td>0.280700</td>\n",
       "      <td>0.932041</td>\n",
       "      <td>2.089773</td>\n",
       "      <td>3.355539</td>\n",
       "      <td>2.827017</td>\n",
       "      <td>-1.769054</td>\n",
       "      <td>1.802680</td>\n",
       "      <td>-3.518890</td>\n",
       "    </tr>\n",
       "    <tr>\n",
       "      <th>53</th>\n",
       "      <td>-1.367109</td>\n",
       "      <td>2.090253</td>\n",
       "      <td>-0.449092</td>\n",
       "      <td>0.509054</td>\n",
       "      <td>0.997340</td>\n",
       "      <td>2.089773</td>\n",
       "      <td>3.484835</td>\n",
       "      <td>3.348872</td>\n",
       "      <td>-0.450934</td>\n",
       "      <td>1.802680</td>\n",
       "      <td>-3.405215</td>\n",
       "    </tr>\n",
       "    <tr>\n",
       "      <th>70</th>\n",
       "      <td>-1.239318</td>\n",
       "      <td>1.836362</td>\n",
       "      <td>-0.448091</td>\n",
       "      <td>0.163939</td>\n",
       "      <td>0.949667</td>\n",
       "      <td>2.116934</td>\n",
       "      <td>3.186708</td>\n",
       "      <td>0.212072</td>\n",
       "      <td>-1.108011</td>\n",
       "      <td>1.802680</td>\n",
       "      <td>-3.775642</td>\n",
       "    </tr>\n",
       "    <tr>\n",
       "      <th>71</th>\n",
       "      <td>-1.239318</td>\n",
       "      <td>1.836362</td>\n",
       "      <td>-0.448091</td>\n",
       "      <td>0.070387</td>\n",
       "      <td>0.949667</td>\n",
       "      <td>2.116934</td>\n",
       "      <td>3.186708</td>\n",
       "      <td>0.212072</td>\n",
       "      <td>-1.108011</td>\n",
       "      <td>1.802680</td>\n",
       "      <td>-3.775642</td>\n",
       "    </tr>\n",
       "    <tr>\n",
       "      <th>75</th>\n",
       "      <td>-1.239318</td>\n",
       "      <td>1.836362</td>\n",
       "      <td>-0.448091</td>\n",
       "      <td>0.070387</td>\n",
       "      <td>0.949667</td>\n",
       "      <td>2.148954</td>\n",
       "      <td>2.809227</td>\n",
       "      <td>0.226134</td>\n",
       "      <td>-1.108011</td>\n",
       "      <td>1.802680</td>\n",
       "      <td>-3.775642</td>\n",
       "    </tr>\n",
       "    <tr>\n",
       "      <th>...</th>\n",
       "      <td>...</td>\n",
       "      <td>...</td>\n",
       "      <td>...</td>\n",
       "      <td>...</td>\n",
       "      <td>...</td>\n",
       "      <td>...</td>\n",
       "      <td>...</td>\n",
       "      <td>...</td>\n",
       "      <td>...</td>\n",
       "      <td>...</td>\n",
       "      <td>...</td>\n",
       "    </tr>\n",
       "    <tr>\n",
       "      <th>99980</th>\n",
       "      <td>0.562204</td>\n",
       "      <td>1.754302</td>\n",
       "      <td>0.033570</td>\n",
       "      <td>1.414668</td>\n",
       "      <td>-1.524409</td>\n",
       "      <td>2.527452</td>\n",
       "      <td>-3.328351</td>\n",
       "      <td>0.938839</td>\n",
       "      <td>0.725119</td>\n",
       "      <td>0.107884</td>\n",
       "      <td>-3.409254</td>\n",
       "    </tr>\n",
       "    <tr>\n",
       "      <th>99982</th>\n",
       "      <td>0.562204</td>\n",
       "      <td>1.754302</td>\n",
       "      <td>0.033570</td>\n",
       "      <td>1.402816</td>\n",
       "      <td>-1.524409</td>\n",
       "      <td>2.527452</td>\n",
       "      <td>-3.451696</td>\n",
       "      <td>0.938839</td>\n",
       "      <td>0.725119</td>\n",
       "      <td>0.107884</td>\n",
       "      <td>-3.409254</td>\n",
       "    </tr>\n",
       "    <tr>\n",
       "      <th>99983</th>\n",
       "      <td>0.595126</td>\n",
       "      <td>1.754302</td>\n",
       "      <td>0.033570</td>\n",
       "      <td>1.414668</td>\n",
       "      <td>-1.524409</td>\n",
       "      <td>2.527452</td>\n",
       "      <td>-3.451696</td>\n",
       "      <td>0.938839</td>\n",
       "      <td>0.725119</td>\n",
       "      <td>0.107884</td>\n",
       "      <td>-3.409254</td>\n",
       "    </tr>\n",
       "    <tr>\n",
       "      <th>99984</th>\n",
       "      <td>0.562204</td>\n",
       "      <td>1.754302</td>\n",
       "      <td>0.033570</td>\n",
       "      <td>1.414668</td>\n",
       "      <td>-1.524409</td>\n",
       "      <td>2.527452</td>\n",
       "      <td>-3.451696</td>\n",
       "      <td>0.938839</td>\n",
       "      <td>0.783780</td>\n",
       "      <td>0.107884</td>\n",
       "      <td>-3.409254</td>\n",
       "    </tr>\n",
       "    <tr>\n",
       "      <th>99985</th>\n",
       "      <td>0.562204</td>\n",
       "      <td>1.754302</td>\n",
       "      <td>0.033570</td>\n",
       "      <td>1.414668</td>\n",
       "      <td>-1.524409</td>\n",
       "      <td>2.526763</td>\n",
       "      <td>-3.451696</td>\n",
       "      <td>0.938839</td>\n",
       "      <td>0.725119</td>\n",
       "      <td>0.107884</td>\n",
       "      <td>-3.409254</td>\n",
       "    </tr>\n",
       "  </tbody>\n",
       "</table>\n",
       "<p>28037 rows × 11 columns</p>\n",
       "</div>"
      ],
      "text/plain": [
       "         bias_r    bias_z    bias_h  weight_xr  weight_xz  weight_xh  \\\n",
       "45    -1.367109  2.090253 -0.449092   0.280700   0.932041   2.089773   \n",
       "53    -1.367109  2.090253 -0.449092   0.509054   0.997340   2.089773   \n",
       "70    -1.239318  1.836362 -0.448091   0.163939   0.949667   2.116934   \n",
       "71    -1.239318  1.836362 -0.448091   0.070387   0.949667   2.116934   \n",
       "75    -1.239318  1.836362 -0.448091   0.070387   0.949667   2.148954   \n",
       "...         ...       ...       ...        ...        ...        ...   \n",
       "99980  0.562204  1.754302  0.033570   1.414668  -1.524409   2.527452   \n",
       "99982  0.562204  1.754302  0.033570   1.402816  -1.524409   2.527452   \n",
       "99983  0.595126  1.754302  0.033570   1.414668  -1.524409   2.527452   \n",
       "99984  0.562204  1.754302  0.033570   1.414668  -1.524409   2.527452   \n",
       "99985  0.562204  1.754302  0.033570   1.414668  -1.524409   2.526763   \n",
       "\n",
       "       weight_hr  weight_hz  weight_hh   bias_rw     conn2  \n",
       "45      3.355539   2.827017  -1.769054  1.802680 -3.518890  \n",
       "53      3.484835   3.348872  -0.450934  1.802680 -3.405215  \n",
       "70      3.186708   0.212072  -1.108011  1.802680 -3.775642  \n",
       "71      3.186708   0.212072  -1.108011  1.802680 -3.775642  \n",
       "75      2.809227   0.226134  -1.108011  1.802680 -3.775642  \n",
       "...          ...        ...        ...       ...       ...  \n",
       "99980  -3.328351   0.938839   0.725119  0.107884 -3.409254  \n",
       "99982  -3.451696   0.938839   0.725119  0.107884 -3.409254  \n",
       "99983  -3.451696   0.938839   0.725119  0.107884 -3.409254  \n",
       "99984  -3.451696   0.938839   0.783780  0.107884 -3.409254  \n",
       "99985  -3.451696   0.938839   0.725119  0.107884 -3.409254  \n",
       "\n",
       "[28037 rows x 11 columns]"
      ]
     },
     "execution_count": 11,
     "metadata": {},
     "output_type": "execute_result"
    }
   ],
   "source": [
    "data_pd"
   ]
  },
  {
   "cell_type": "markdown",
   "metadata": {},
   "source": [
    "### Visualize the data\n",
    "\n",
    "Remark: Symmetry in data clearly by conn1 (this is the connection between GRU node and output of the global network) "
   ]
  },
  {
   "cell_type": "code",
   "execution_count": 21,
   "metadata": {},
   "outputs": [],
   "source": [
    "def adapt_and_show(data, indices=None):\n",
    "    data_temp = data\n",
    "    if indices is not None: data_temp = data_temp[indices.values]\n",
    "    print(f\"Size: {data_temp.shape}\")\n",
    "    plt.figure(figsize=(15,5))\n",
    "    for i, h in enumerate(head[1:]):\n",
    "        plt.subplot(int(len(head)/6+1),6,i+1)\n",
    "        sns.violinplot(data_temp[h])\n",
    "        plt.title(h)\n",
    "        if 'bias' in h:\n",
    "            plt.xlim(-3,3)\n",
    "        else:\n",
    "            plt.xlim(-6,6)\n",
    "        plt.yticks([])\n",
    "    plt.tight_layout()\n",
    "    plt.show()\n",
    "    plt.close()"
   ]
  },
  {
   "cell_type": "code",
   "execution_count": 22,
   "metadata": {},
   "outputs": [
    {
     "name": "stdout",
     "output_type": "stream",
     "text": [
      "Size: (28037, 11)\n"
     ]
    },
    {
     "data": {
      "image/png": "[encoded data removed]",
      "text/plain": [
       "<Figure size 1080x360 with 11 Axes>"
      ]
     },
     "metadata": {
      "needs_background": "light"
     },
     "output_type": "display_data"
    }
   ],
   "source": [
    "# indices = (data_pd['conn1'] > 0) & (data_pd['conn0'] > 0)\n",
    "indices = None\n",
    "adapt_and_show(data_pd, indices)"
   ]
  },
  {
   "cell_type": "code",
   "execution_count": 51,
   "metadata": {},
   "outputs": [
    {
     "data": {
      "image/png": "[encoded data removed]",
      "text/plain": [
       "<Figure size 216x108 with 1 Axes>"
      ]
     },
     "metadata": {
      "needs_background": "light"
     },
     "output_type": "display_data"
    }
   ],
   "source": [
    "h = 'bias_r'\n",
    "t = 'reset'\n",
    "plt.figure(figsize=(3,1.5))\n",
    "sns.violinplot(data_pd[h])\n",
    "plt.title(t)\n",
    "if 'bias' in h:\n",
    "    plt.xlim(-3,3)\n",
    "else:\n",
    "    plt.xlim(-6,6)\n",
    "plt.yticks([])\n",
    "plt.xlabel('')\n",
    "plt.tight_layout()\n",
    "plt.savefig(f\"delete_me/{h}.png\", bbox_inches='tight', pad_inches=0.02)\n",
    "plt.show()\n",
    "plt.close()"
   ]
  },
  {
   "cell_type": "markdown",
   "metadata": {},
   "source": [
    "### Format\n",
    "\n",
    "Create labels for visualisation."
   ]
  },
  {
   "cell_type": "code",
   "execution_count": 19,
   "metadata": {},
   "outputs": [
    {
     "name": "stdout",
     "output_type": "stream",
     "text": [
      "Data example: \n",
      "> [-1.36710907  2.09025344 -0.44909209  0.28070022  0.93204121  2.08977346\n",
      "  3.35553888  2.82701727 -1.76905367  1.80268021 -3.51888981]\n",
      "Label example: \n",
      "> ['1.0', '-1.36711', '2.09025', '-0.44909', '0.2807', '0.93204', '2.08977', '3.35554', '2.82702', '-1.76905', '1.80268', '-3.51889']\n",
      "For header: \n",
      "> ['fitness', 'bias_r', 'bias_z', 'bias_h', 'weight_xr', 'weight_xz', 'weight_xh', 'weight_hr', 'weight_hz', 'weight_hh', 'bias_rw', 'conn2']\n"
     ]
    }
   ],
   "source": [
    "# Create better labels\n",
    "meta_str = []\n",
    "for d, m in zip(data_pd.values, meta_pd.values):\n",
    "    s = [str(round(m[0], 2))]\n",
    "    s += [str(round(x, 5)) for x in d]\n",
    "    meta_str.append(s)   \n",
    "\n",
    "# Example\n",
    "print(f\"Data example: \\n> {data_pd.values[0]}\")\n",
    "print(f\"Label example: \\n> {meta_str[0]}\")\n",
    "print(f\"For header: \\n> {head}\")"
   ]
  },
  {
   "cell_type": "markdown",
   "metadata": {},
   "source": [
    "## Magic\n",
    "\n",
    "Folder in which data is stored is \"runs/topology_1\" (always keep \"runs\"). Change this is you want to compare several configurations."
   ]
  },
  {
   "cell_type": "code",
   "execution_count": 20,
   "metadata": {
    "scrolled": false
   },
   "outputs": [
    {
     "data": {
      "text/plain": [
       "ERROR: Timed out waiting for TensorBoard to start. It may still be running as pid 27008."
      ]
     },
     "metadata": {},
     "output_type": "display_data"
    }
   ],
   "source": [
    "# Fire up the TensorBoard\n",
    "writer = SummaryWriter(log_dir=f\"runs/topology_{topology_id}\")  # Overwrites if already exists\n",
    "writer.add_embedding(data_pd.to_numpy(), meta_str, metadata_header=head)\n",
    "writer.close()\n",
    "%load_ext tensorboard\n",
    "%tensorboard --logdir=runs\n",
    "\n",
    "# Tensorboard can be opened in separate tab: localhost:6006"
   ]
  },
  {
   "cell_type": "code",
   "execution_count": null,
   "metadata": {},
   "outputs": [],
   "source": []
  }
 ],
 "metadata": {
  "hide_input": false,
  "kernelspec": {
   "display_name": "Python 3",
   "language": "python",
   "name": "python3"
  },
  "language_info": {
   "codemirror_mode": {
    "name": "ipython",
    "version": 3
   },
   "file_extension": ".py",
   "mimetype": "text/x-python",
   "name": "python",
   "nbconvert_exporter": "python",
   "pygments_lexer": "ipython3",
   "version": "3.7.5"
  },
  "toc": {
   "base_numbering": 1,
   "nav_menu": {},
   "number_sections": true,
   "sideBar": true,
   "skip_h1_title": false,
   "title_cell": "Table of Contents",
   "title_sidebar": "Contents",
   "toc_cell": false,
   "toc_position": {},
   "toc_section_display": true,
   "toc_window_display": false
  }
 },
 "nbformat": 4,
 "nbformat_minor": 4
}
