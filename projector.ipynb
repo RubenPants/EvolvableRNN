{
 "cells": [
  {
   "cell_type": "markdown",
   "metadata": {},
   "source": [
    "# TensorBoard"
   ]
  },
  {
   "cell_type": "markdown",
   "metadata": {},
   "source": [
    "## Dependencies\n",
    "\n",
    "Note: the following dependencies were **not included** in the project's requirements file:\n",
    "* tensorflow\n",
    "* tensorboard\n",
    "* torch"
   ]
  },
  {
   "cell_type": "code",
   "execution_count": 1,
   "metadata": {},
   "outputs": [],
   "source": [
    "# Load in the used dependencies\n",
    "import os\n",
    "import numpy as np\n",
    "import tensorflow as tf\n",
    "import tensorboard as tb\n",
    "tf.io.gfile = tb.compat.tensorflow_stub.io.gfile\n",
    "from torch.utils.tensorboard import SummaryWriter\n",
    "import pandas as pd\n",
    "import seaborn as sns\n",
    "import matplotlib.pyplot as plt"
   ]
  },
  {
   "cell_type": "markdown",
   "metadata": {},
   "source": [
    "## Data\n",
    "\n",
    "### Hyperparameters"
   ]
  },
  {
   "cell_type": "code",
   "execution_count": 2,
   "metadata": {},
   "outputs": [],
   "source": [
    "LOG_DIR = './population_backup/storage/experiment6/data_neat/'\n",
    "topology_id = 2\n",
    "overwrite = True\n",
    "rm_duplicates = False  # Remove all samples with at least 'dup_columns' duplicate values\n",
    "dup_columns = 5  # Number of duplicated columns a single sample has before removal\n",
    "perfect_score = True  # Filter to only contain samples that solve the problem"
   ]
  },
  {
   "cell_type": "markdown",
   "metadata": {},
   "source": [
    "### Fetch"
   ]
  },
  {
   "cell_type": "code",
   "execution_count": 3,
   "metadata": {},
   "outputs": [],
   "source": [
    "# Setup the header\n",
    "head = [\"fitness\",\n",
    "        'bias_r', 'bias_z', 'bias_h',\n",
    "        'weight_xr', 'weight_xz', 'weight_xh',\n",
    "        'weight_hr', 'weight_hz', 'weight_hh']\n",
    "if topology_id == 1:\n",
    "    head += ['conn1', 'conn2']\n",
    "elif topology_id == 2:\n",
    "    head += ['base_rw', 'conn2']\n",
    "else: \n",
    "    raise Exception(f\"Topology-ID {topology_id} not supported!\")"
   ]
  },
  {
   "cell_type": "code",
   "execution_count": 4,
   "metadata": {},
   "outputs": [
    {
     "name": "stdout",
     "output_type": "stream",
     "text": [
      "Data shape: (33497, 11)\n",
      "Meta shape: (33497,)\n"
     ]
    }
   ],
   "source": [
    "# Check if tsv files already exist\n",
    "raw_path = os.path.join(LOG_DIR, f'topology_{topology_id}.csv')\n",
    "data_path = os.path.join(LOG_DIR, f'data_{topology_id}.tsv')\n",
    "meta_path = os.path.join(LOG_DIR, f'meta_{topology_id}.tsv')\n",
    "\n",
    "# Load in the data (without header)\n",
    "if not overwrite and os.path.exists(data_path):\n",
    "    data = np.genfromtxt(data_path, delimiter='\\t')\n",
    "    meta = np.genfromtxt(meta_path, delimiter='\\t')\n",
    "else:\n",
    "    raw = np.genfromtxt(raw_path, delimiter=',')[1:]\n",
    "    data = raw[:,:-1]\n",
    "    meta = raw[:,-1]\n",
    "    np.savetxt(data_path, data, delimiter='\\t')\n",
    "    np.savetxt(meta_path, meta, delimiter='\\t')\n",
    "\n",
    "# Print shape:\n",
    "print(f\"Data shape: {data.shape}\")\n",
    "print(f\"Meta shape: {meta.shape}\")"
   ]
  },
  {
   "cell_type": "code",
   "execution_count": 5,
   "metadata": {},
   "outputs": [],
   "source": [
    "# Transform to pandas dataframe (easier to manipulate)\n",
    "data_pd = pd.DataFrame(data, columns=head[1:])\n",
    "meta_pd = pd.DataFrame(meta, columns=head[:1])"
   ]
  },
  {
   "cell_type": "code",
   "execution_count": 6,
   "metadata": {},
   "outputs": [
    {
     "data": {
      "text/html": [
       "<div>\n",
       "<style scoped>\n",
       "    .dataframe tbody tr th:only-of-type {\n",
       "        vertical-align: middle;\n",
       "    }\n",
       "\n",
       "    .dataframe tbody tr th {\n",
       "        vertical-align: top;\n",
       "    }\n",
       "\n",
       "    .dataframe thead th {\n",
       "        text-align: right;\n",
       "    }\n",
       "</style>\n",
       "<table border=\"1\" class=\"dataframe\">\n",
       "  <thead>\n",
       "    <tr style=\"text-align: right;\">\n",
       "      <th></th>\n",
       "      <th>bias_r</th>\n",
       "      <th>bias_z</th>\n",
       "      <th>bias_h</th>\n",
       "      <th>weight_xr</th>\n",
       "      <th>weight_xz</th>\n",
       "      <th>weight_xh</th>\n",
       "      <th>weight_hr</th>\n",
       "      <th>weight_hz</th>\n",
       "      <th>weight_hh</th>\n",
       "      <th>base_rw</th>\n",
       "      <th>conn2</th>\n",
       "    </tr>\n",
       "  </thead>\n",
       "  <tbody>\n",
       "    <tr>\n",
       "      <th>0</th>\n",
       "      <td>1.315464</td>\n",
       "      <td>2.528098</td>\n",
       "      <td>-0.523398</td>\n",
       "      <td>-0.939430</td>\n",
       "      <td>-0.784320</td>\n",
       "      <td>5.826999</td>\n",
       "      <td>0.856270</td>\n",
       "      <td>1.137163</td>\n",
       "      <td>-2.230395</td>\n",
       "      <td>0.966771</td>\n",
       "      <td>-2.943269</td>\n",
       "    </tr>\n",
       "    <tr>\n",
       "      <th>1</th>\n",
       "      <td>1.315464</td>\n",
       "      <td>2.426110</td>\n",
       "      <td>-0.523398</td>\n",
       "      <td>-3.481500</td>\n",
       "      <td>-0.720074</td>\n",
       "      <td>5.808579</td>\n",
       "      <td>2.278459</td>\n",
       "      <td>0.963990</td>\n",
       "      <td>-2.214103</td>\n",
       "      <td>0.993608</td>\n",
       "      <td>-3.411810</td>\n",
       "    </tr>\n",
       "    <tr>\n",
       "      <th>2</th>\n",
       "      <td>1.315464</td>\n",
       "      <td>2.426110</td>\n",
       "      <td>-0.523398</td>\n",
       "      <td>-3.481500</td>\n",
       "      <td>-0.945465</td>\n",
       "      <td>5.808579</td>\n",
       "      <td>1.997678</td>\n",
       "      <td>1.216224</td>\n",
       "      <td>-2.214103</td>\n",
       "      <td>0.993608</td>\n",
       "      <td>-3.411810</td>\n",
       "    </tr>\n",
       "    <tr>\n",
       "      <th>3</th>\n",
       "      <td>1.315464</td>\n",
       "      <td>2.426110</td>\n",
       "      <td>-0.523398</td>\n",
       "      <td>-3.481500</td>\n",
       "      <td>-0.720074</td>\n",
       "      <td>5.808579</td>\n",
       "      <td>2.065527</td>\n",
       "      <td>0.963990</td>\n",
       "      <td>-2.214103</td>\n",
       "      <td>0.993608</td>\n",
       "      <td>-3.411810</td>\n",
       "    </tr>\n",
       "    <tr>\n",
       "      <th>4</th>\n",
       "      <td>1.315464</td>\n",
       "      <td>2.426110</td>\n",
       "      <td>-0.523398</td>\n",
       "      <td>-3.434384</td>\n",
       "      <td>-0.720074</td>\n",
       "      <td>5.808579</td>\n",
       "      <td>2.278459</td>\n",
       "      <td>0.963990</td>\n",
       "      <td>-2.214103</td>\n",
       "      <td>0.993608</td>\n",
       "      <td>-3.411810</td>\n",
       "    </tr>\n",
       "  </tbody>\n",
       "</table>\n",
       "</div>"
      ],
      "text/plain": [
       "     bias_r    bias_z    bias_h  weight_xr  weight_xz  weight_xh  weight_hr  \\\n",
       "0  1.315464  2.528098 -0.523398  -0.939430  -0.784320   5.826999   0.856270   \n",
       "1  1.315464  2.426110 -0.523398  -3.481500  -0.720074   5.808579   2.278459   \n",
       "2  1.315464  2.426110 -0.523398  -3.481500  -0.945465   5.808579   1.997678   \n",
       "3  1.315464  2.426110 -0.523398  -3.481500  -0.720074   5.808579   2.065527   \n",
       "4  1.315464  2.426110 -0.523398  -3.434384  -0.720074   5.808579   2.278459   \n",
       "\n",
       "   weight_hz  weight_hh   base_rw     conn2  \n",
       "0   1.137163  -2.230395  0.966771 -2.943269  \n",
       "1   0.963990  -2.214103  0.993608 -3.411810  \n",
       "2   1.216224  -2.214103  0.993608 -3.411810  \n",
       "3   0.963990  -2.214103  0.993608 -3.411810  \n",
       "4   0.963990  -2.214103  0.993608 -3.411810  "
      ]
     },
     "execution_count": 6,
     "metadata": {},
     "output_type": "execute_result"
    }
   ],
   "source": [
    "data_pd.head()"
   ]
  },
  {
   "cell_type": "code",
   "execution_count": 7,
   "metadata": {},
   "outputs": [
    {
     "data": {
      "text/html": [
       "<div>\n",
       "<style scoped>\n",
       "    .dataframe tbody tr th:only-of-type {\n",
       "        vertical-align: middle;\n",
       "    }\n",
       "\n",
       "    .dataframe tbody tr th {\n",
       "        vertical-align: top;\n",
       "    }\n",
       "\n",
       "    .dataframe thead th {\n",
       "        text-align: right;\n",
       "    }\n",
       "</style>\n",
       "<table border=\"1\" class=\"dataframe\">\n",
       "  <thead>\n",
       "    <tr style=\"text-align: right;\">\n",
       "      <th></th>\n",
       "      <th>fitness</th>\n",
       "    </tr>\n",
       "  </thead>\n",
       "  <tbody>\n",
       "    <tr>\n",
       "      <th>0</th>\n",
       "      <td>0.833333</td>\n",
       "    </tr>\n",
       "    <tr>\n",
       "      <th>1</th>\n",
       "      <td>0.888889</td>\n",
       "    </tr>\n",
       "    <tr>\n",
       "      <th>2</th>\n",
       "      <td>0.888889</td>\n",
       "    </tr>\n",
       "    <tr>\n",
       "      <th>3</th>\n",
       "      <td>0.833333</td>\n",
       "    </tr>\n",
       "    <tr>\n",
       "      <th>4</th>\n",
       "      <td>0.833333</td>\n",
       "    </tr>\n",
       "  </tbody>\n",
       "</table>\n",
       "</div>"
      ],
      "text/plain": [
       "    fitness\n",
       "0  0.833333\n",
       "1  0.888889\n",
       "2  0.888889\n",
       "3  0.833333\n",
       "4  0.833333"
      ]
     },
     "execution_count": 7,
     "metadata": {},
     "output_type": "execute_result"
    }
   ],
   "source": [
    "meta_pd.head()"
   ]
  },
  {
   "cell_type": "markdown",
   "metadata": {},
   "source": [
    "### Filter the data"
   ]
  },
  {
   "cell_type": "code",
   "execution_count": 8,
   "metadata": {},
   "outputs": [
    {
     "name": "stdout",
     "output_type": "stream",
     "text": [
      "Data shape: (24760, 11)\n",
      "Meta shape: (24760, 1)\n"
     ]
    }
   ],
   "source": [
    "# Filter out the complete duplicates\n",
    "indices = data_pd.duplicated()\n",
    "data_pd = data_pd[~indices.values]\n",
    "meta_pd = meta_pd[~indices.values]\n",
    "print(f\"Data shape: {data_pd.shape}\")\n",
    "print(f\"Meta shape: {meta_pd.shape}\")"
   ]
  },
  {
   "cell_type": "code",
   "execution_count": 9,
   "metadata": {},
   "outputs": [
    {
     "name": "stdout",
     "output_type": "stream",
     "text": [
      "Data shape: (9825, 11)\n",
      "Meta shape: (9825, 1)\n"
     ]
    }
   ],
   "source": [
    "# For example, if you want to see only fitnesses of 1 (perfect score).\n",
    "if perfect_score:\n",
    "    indices = meta_pd == 1\n",
    "    data_pd = data_pd[indices.values]\n",
    "    meta_pd = meta_pd[indices.values]\n",
    "    print(f\"Data shape: {data_pd.shape}\")\n",
    "    print(f\"Meta shape: {meta_pd.shape}\")"
   ]
  },
  {
   "cell_type": "code",
   "execution_count": 10,
   "metadata": {},
   "outputs": [],
   "source": [
    "# Filter out all the samples that have at least one duplicate value (in each of its columns)\n",
    "if rm_duplicates:\n",
    "    indices = (meta_pd<0).astype(int).values.flatten()  # Little hack\n",
    "    for h in head[1:]:\n",
    "        indices += data_pd.duplicated(subset=h).astype(int).values\n",
    "\n",
    "    # Remove all that exceed the set threshold\n",
    "    data_pd = data_pd[indices < dup_columns]\n",
    "    meta_pd = meta_pd[indices < dup_columns]\n",
    "    print(f\"Dropping duplicates that occur in {dup_columns} columns or more\")\n",
    "    print(f\" > Data shape: {data_pd.shape}\")\n",
    "    print(f\" > Meta shape: {meta_pd.shape}\")"
   ]
  },
  {
   "cell_type": "code",
   "execution_count": 11,
   "metadata": {},
   "outputs": [
    {
     "data": {
      "text/html": [
       "<div>\n",
       "<style scoped>\n",
       "    .dataframe tbody tr th:only-of-type {\n",
       "        vertical-align: middle;\n",
       "    }\n",
       "\n",
       "    .dataframe tbody tr th {\n",
       "        vertical-align: top;\n",
       "    }\n",
       "\n",
       "    .dataframe thead th {\n",
       "        text-align: right;\n",
       "    }\n",
       "</style>\n",
       "<table border=\"1\" class=\"dataframe\">\n",
       "  <thead>\n",
       "    <tr style=\"text-align: right;\">\n",
       "      <th></th>\n",
       "      <th>bias_r</th>\n",
       "      <th>bias_z</th>\n",
       "      <th>bias_h</th>\n",
       "      <th>weight_xr</th>\n",
       "      <th>weight_xz</th>\n",
       "      <th>weight_xh</th>\n",
       "      <th>weight_hr</th>\n",
       "      <th>weight_hz</th>\n",
       "      <th>weight_hh</th>\n",
       "      <th>base_rw</th>\n",
       "      <th>conn2</th>\n",
       "    </tr>\n",
       "  </thead>\n",
       "  <tbody>\n",
       "    <tr>\n",
       "      <th>17</th>\n",
       "      <td>1.706957</td>\n",
       "      <td>2.426110</td>\n",
       "      <td>-0.523398</td>\n",
       "      <td>1.205017</td>\n",
       "      <td>-0.720074</td>\n",
       "      <td>6.000000</td>\n",
       "      <td>2.278459</td>\n",
       "      <td>1.136844</td>\n",
       "      <td>-2.106582</td>\n",
       "      <td>0.993608</td>\n",
       "      <td>-3.411810</td>\n",
       "    </tr>\n",
       "    <tr>\n",
       "      <th>21</th>\n",
       "      <td>1.706957</td>\n",
       "      <td>2.426110</td>\n",
       "      <td>-0.319797</td>\n",
       "      <td>-0.651949</td>\n",
       "      <td>-0.602082</td>\n",
       "      <td>5.519592</td>\n",
       "      <td>1.885862</td>\n",
       "      <td>0.433089</td>\n",
       "      <td>-2.099491</td>\n",
       "      <td>0.993608</td>\n",
       "      <td>-3.836359</td>\n",
       "    </tr>\n",
       "    <tr>\n",
       "      <th>25</th>\n",
       "      <td>2.003657</td>\n",
       "      <td>2.426110</td>\n",
       "      <td>-0.319797</td>\n",
       "      <td>-0.660571</td>\n",
       "      <td>-0.681661</td>\n",
       "      <td>5.519592</td>\n",
       "      <td>2.204803</td>\n",
       "      <td>0.390504</td>\n",
       "      <td>-2.105876</td>\n",
       "      <td>0.993608</td>\n",
       "      <td>-3.836359</td>\n",
       "    </tr>\n",
       "    <tr>\n",
       "      <th>26</th>\n",
       "      <td>1.997316</td>\n",
       "      <td>2.426110</td>\n",
       "      <td>-0.319797</td>\n",
       "      <td>-0.651949</td>\n",
       "      <td>-0.602082</td>\n",
       "      <td>5.786108</td>\n",
       "      <td>1.885862</td>\n",
       "      <td>0.433089</td>\n",
       "      <td>-2.265002</td>\n",
       "      <td>0.993608</td>\n",
       "      <td>-3.836359</td>\n",
       "    </tr>\n",
       "    <tr>\n",
       "      <th>30</th>\n",
       "      <td>1.596965</td>\n",
       "      <td>2.426110</td>\n",
       "      <td>-0.319797</td>\n",
       "      <td>-0.399041</td>\n",
       "      <td>-0.602082</td>\n",
       "      <td>5.519592</td>\n",
       "      <td>2.066884</td>\n",
       "      <td>0.433089</td>\n",
       "      <td>-2.099491</td>\n",
       "      <td>0.993608</td>\n",
       "      <td>-3.836359</td>\n",
       "    </tr>\n",
       "    <tr>\n",
       "      <th>...</th>\n",
       "      <td>...</td>\n",
       "      <td>...</td>\n",
       "      <td>...</td>\n",
       "      <td>...</td>\n",
       "      <td>...</td>\n",
       "      <td>...</td>\n",
       "      <td>...</td>\n",
       "      <td>...</td>\n",
       "      <td>...</td>\n",
       "      <td>...</td>\n",
       "      <td>...</td>\n",
       "    </tr>\n",
       "    <tr>\n",
       "      <th>33479</th>\n",
       "      <td>1.680429</td>\n",
       "      <td>1.233089</td>\n",
       "      <td>0.056502</td>\n",
       "      <td>2.009863</td>\n",
       "      <td>-0.816771</td>\n",
       "      <td>1.825239</td>\n",
       "      <td>-1.407597</td>\n",
       "      <td>1.403033</td>\n",
       "      <td>0.378181</td>\n",
       "      <td>0.042094</td>\n",
       "      <td>-3.342709</td>\n",
       "    </tr>\n",
       "    <tr>\n",
       "      <th>33482</th>\n",
       "      <td>2.296208</td>\n",
       "      <td>1.233089</td>\n",
       "      <td>0.056502</td>\n",
       "      <td>2.378008</td>\n",
       "      <td>-0.687034</td>\n",
       "      <td>1.825239</td>\n",
       "      <td>-1.105349</td>\n",
       "      <td>1.403033</td>\n",
       "      <td>0.362428</td>\n",
       "      <td>0.042094</td>\n",
       "      <td>-3.465918</td>\n",
       "    </tr>\n",
       "    <tr>\n",
       "      <th>33486</th>\n",
       "      <td>2.296208</td>\n",
       "      <td>1.233089</td>\n",
       "      <td>0.056502</td>\n",
       "      <td>2.378008</td>\n",
       "      <td>-0.908648</td>\n",
       "      <td>1.825239</td>\n",
       "      <td>-1.155909</td>\n",
       "      <td>1.403033</td>\n",
       "      <td>0.378181</td>\n",
       "      <td>0.042094</td>\n",
       "      <td>-3.465918</td>\n",
       "    </tr>\n",
       "    <tr>\n",
       "      <th>33490</th>\n",
       "      <td>2.296208</td>\n",
       "      <td>1.126165</td>\n",
       "      <td>0.056502</td>\n",
       "      <td>2.009863</td>\n",
       "      <td>-0.978611</td>\n",
       "      <td>1.825239</td>\n",
       "      <td>-1.407597</td>\n",
       "      <td>1.442977</td>\n",
       "      <td>0.378181</td>\n",
       "      <td>0.042094</td>\n",
       "      <td>-3.465918</td>\n",
       "    </tr>\n",
       "    <tr>\n",
       "      <th>33492</th>\n",
       "      <td>2.296208</td>\n",
       "      <td>1.233089</td>\n",
       "      <td>0.056502</td>\n",
       "      <td>2.290288</td>\n",
       "      <td>-0.851098</td>\n",
       "      <td>1.825239</td>\n",
       "      <td>-1.337664</td>\n",
       "      <td>1.403033</td>\n",
       "      <td>0.378181</td>\n",
       "      <td>0.042094</td>\n",
       "      <td>-3.465918</td>\n",
       "    </tr>\n",
       "  </tbody>\n",
       "</table>\n",
       "<p>9825 rows × 11 columns</p>\n",
       "</div>"
      ],
      "text/plain": [
       "         bias_r    bias_z    bias_h  weight_xr  weight_xz  weight_xh  \\\n",
       "17     1.706957  2.426110 -0.523398   1.205017  -0.720074   6.000000   \n",
       "21     1.706957  2.426110 -0.319797  -0.651949  -0.602082   5.519592   \n",
       "25     2.003657  2.426110 -0.319797  -0.660571  -0.681661   5.519592   \n",
       "26     1.997316  2.426110 -0.319797  -0.651949  -0.602082   5.786108   \n",
       "30     1.596965  2.426110 -0.319797  -0.399041  -0.602082   5.519592   \n",
       "...         ...       ...       ...        ...        ...        ...   \n",
       "33479  1.680429  1.233089  0.056502   2.009863  -0.816771   1.825239   \n",
       "33482  2.296208  1.233089  0.056502   2.378008  -0.687034   1.825239   \n",
       "33486  2.296208  1.233089  0.056502   2.378008  -0.908648   1.825239   \n",
       "33490  2.296208  1.126165  0.056502   2.009863  -0.978611   1.825239   \n",
       "33492  2.296208  1.233089  0.056502   2.290288  -0.851098   1.825239   \n",
       "\n",
       "       weight_hr  weight_hz  weight_hh   base_rw     conn2  \n",
       "17      2.278459   1.136844  -2.106582  0.993608 -3.411810  \n",
       "21      1.885862   0.433089  -2.099491  0.993608 -3.836359  \n",
       "25      2.204803   0.390504  -2.105876  0.993608 -3.836359  \n",
       "26      1.885862   0.433089  -2.265002  0.993608 -3.836359  \n",
       "30      2.066884   0.433089  -2.099491  0.993608 -3.836359  \n",
       "...          ...        ...        ...       ...       ...  \n",
       "33479  -1.407597   1.403033   0.378181  0.042094 -3.342709  \n",
       "33482  -1.105349   1.403033   0.362428  0.042094 -3.465918  \n",
       "33486  -1.155909   1.403033   0.378181  0.042094 -3.465918  \n",
       "33490  -1.407597   1.442977   0.378181  0.042094 -3.465918  \n",
       "33492  -1.337664   1.403033   0.378181  0.042094 -3.465918  \n",
       "\n",
       "[9825 rows x 11 columns]"
      ]
     },
     "execution_count": 11,
     "metadata": {},
     "output_type": "execute_result"
    }
   ],
   "source": [
    "data_pd"
   ]
  },
  {
   "cell_type": "markdown",
   "metadata": {},
   "source": [
    "### Visualize the data\n",
    "\n",
    "Remark: Symmetry in data clearly by conn1 (this is the connection between GRU node and output of the global network) "
   ]
  },
  {
   "cell_type": "code",
   "execution_count": 12,
   "metadata": {},
   "outputs": [
    {
     "data": {
      "image/png": "[encoded data removed]",
      "text/plain": [
       "<Figure size 720x720 with 11 Axes>"
      ]
     },
     "metadata": {
      "needs_background": "light"
     },
     "output_type": "display_data"
    }
   ],
   "source": [
    "plt.figure(figsize=(10,10))\n",
    "for i, h in enumerate(head[1:]):\n",
    "    plt.subplot(4,3,i+1)\n",
    "    sns.violinplot(data_pd[h])\n",
    "    plt.title(h)\n",
    "    plt.xlim(-6,6)\n",
    "plt.tight_layout()\n",
    "plt.show()\n",
    "plt.close()"
   ]
  },
  {
   "cell_type": "markdown",
   "metadata": {},
   "source": [
    "### Format\n",
    "\n",
    "Create labels for visualisation."
   ]
  },
  {
   "cell_type": "code",
   "execution_count": 13,
   "metadata": {},
   "outputs": [
    {
     "name": "stdout",
     "output_type": "stream",
     "text": [
      "Data example: \n",
      "> [ 1.70695656  2.4261102  -0.52339824  1.20501661 -0.72007367  6.\n",
      "  2.27845867  1.13684425 -2.10658185  0.99360765 -3.41180996]\n",
      "Label example: \n",
      "> ['1.0', '1.70696', '2.42611', '-0.5234', '1.20502', '-0.72007', '6.0', '2.27846', '1.13684', '-2.10658', '0.99361', '-3.41181']\n",
      "For header: \n",
      "> ['fitness', 'bias_r', 'bias_z', 'bias_h', 'weight_xr', 'weight_xz', 'weight_xh', 'weight_hr', 'weight_hz', 'weight_hh', 'base_rw', 'conn2']\n"
     ]
    }
   ],
   "source": [
    "# Create better labels\n",
    "meta_str = []\n",
    "for d, m in zip(data_pd.values, meta_pd.values):\n",
    "    s = [str(round(m[0], 2))]\n",
    "    s += [str(round(x, 5)) for x in d]\n",
    "    meta_str.append(s)   \n",
    "\n",
    "# Example\n",
    "print(f\"Data example: \\n> {data_pd.values[0]}\")\n",
    "print(f\"Label example: \\n> {meta_str[0]}\")\n",
    "print(f\"For header: \\n> {head}\")"
   ]
  },
  {
   "cell_type": "markdown",
   "metadata": {},
   "source": [
    "## Magic\n",
    "\n",
    "Folder in which data is stored is \"runs/topology_1\" (always keep \"runs\"). Change this is you want to compare several configurations."
   ]
  },
  {
   "cell_type": "code",
   "execution_count": 14,
   "metadata": {
    "scrolled": false
   },
   "outputs": [
    {
     "name": "stdout",
     "output_type": "stream",
     "text": [
      "warning: Embedding dir exists, did you set global_step for add_embedding()?\n"
     ]
    },
    {
     "data": {
      "text/plain": [
       "Reusing TensorBoard on port 6006 (pid 21520), started 0:17:23 ago. (Use '!kill 21520' to kill it.)"
      ]
     },
     "metadata": {},
     "output_type": "display_data"
    },
    {
     "data": {
      "text/html": [
       "\n",
       "      <iframe id=\"tensorboard-frame-4654dc649cd0e5f4\" width=\"100%\" height=\"800\" frameborder=\"0\">\n",
       "      </iframe>\n",
       "      <script>\n",
       "        (function() {\n",
       "          const frame = document.getElementById(\"tensorboard-frame-4654dc649cd0e5f4\");\n",
       "          const url = new URL(\"/\", window.location);\n",
       "          url.port = 6006;\n",
       "          frame.src = url;\n",
       "        })();\n",
       "      </script>\n",
       "  "
      ],
      "text/plain": [
       "<IPython.core.display.HTML object>"
      ]
     },
     "metadata": {},
     "output_type": "display_data"
    }
   ],
   "source": [
    "# Fire up the TensorBoard\n",
    "writer = SummaryWriter(log_dir=f\"runs/topology_{topology_id}\")  # Overwrites if already exists\n",
    "writer.add_embedding(data_pd.to_numpy(), meta_str, metadata_header=head)\n",
    "writer.close()\n",
    "%load_ext tensorboard\n",
    "%tensorboard --logdir=runs\n",
    "\n",
    "# Tensorboard can be opened in separate tab: localhost:6006"
   ]
  },
  {
   "cell_type": "code",
   "execution_count": null,
   "metadata": {},
   "outputs": [],
   "source": []
  }
 ],
 "metadata": {
  "hide_input": false,
  "kernelspec": {
   "display_name": "Python 3",
   "language": "python",
   "name": "python3"
  },
  "language_info": {
   "codemirror_mode": {
    "name": "ipython",
    "version": 3
   },
   "file_extension": ".py",
   "mimetype": "text/x-python",
   "name": "python",
   "nbconvert_exporter": "python",
   "pygments_lexer": "ipython3",
   "version": "3.7.5"
  },
  "toc": {
   "base_numbering": 1,
   "nav_menu": {},
   "number_sections": true,
   "sideBar": true,
   "skip_h1_title": false,
   "title_cell": "Table of Contents",
   "title_sidebar": "Contents",
   "toc_cell": false,
   "toc_position": {},
   "toc_section_display": true,
   "toc_window_display": false
  }
 },
 "nbformat": 4,
 "nbformat_minor": 4
}
